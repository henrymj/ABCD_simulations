{
 "cells": [
  {
   "cell_type": "code",
   "execution_count": 1,
   "metadata": {},
   "outputs": [],
   "source": [
    "import json\n",
    "import numpy as np\n",
    "import pandas as pd\n",
    "from sympy.solvers import solve\n",
    "from sympy import Symbol\n",
    "import scipy.stats as sstats\n",
    "\n",
    "from utils import SimulateData\n",
    "from stopsignalmetrics import SSRTmodel, StopData"
   ]
  },
  {
   "cell_type": "markdown",
   "metadata": {},
   "source": [
    "# __Preprocessing__"
   ]
  },
  {
   "cell_type": "markdown",
   "metadata": {},
   "source": [
    "## 1. Prepare data for use by stopsignalmetrics"
   ]
  },
  {
   "cell_type": "code",
   "execution_count": 54,
   "metadata": {},
   "outputs": [],
   "source": [
    "abcd_data = pd.read_csv('abcd_data/minimal_abcd_raw.csv')"
   ]
  },
  {
   "cell_type": "code",
   "execution_count": 56,
   "metadata": {},
   "outputs": [],
   "source": [
    "for rt_col in ['go_rt_adjusted', 'stop_rt_adjusted']:\n",
    "    abcd_data.loc[abcd_data['finger_press'].isnull(), rt_col] = np.nan"
   ]
  },
  {
   "cell_type": "code",
   "execution_count": 58,
   "metadata": {},
   "outputs": [],
   "source": [
    "abcd_data['block'] = np.NaN\n",
    "abcd_data.loc[abcd_data['TrialNum'] < 180, 'block'] = '1'\n",
    "abcd_data.loc[abcd_data['TrialNum'] >= 180, 'block'] = '2'"
   ]
  },
  {
   "cell_type": "code",
   "execution_count": 59,
   "metadata": {},
   "outputs": [],
   "source": [
    "abcd_data['choice_accuracy'] = np.where(\n",
    "    abcd_data['finger_press'].notnull(),\n",
    "    np.where(\n",
    "        abcd_data['finger_press']==abcd_data['correct_response'],\n",
    "        1,\n",
    "        0),\n",
    "    np.nan\n",
    ")"
   ]
  },
  {
   "cell_type": "code",
   "execution_count": 4,
   "metadata": {},
   "outputs": [],
   "source": [
    "abcd_data.to_csv('abcd_data/minimal_abcd_with_issue_3.csv', index=False)"
   ]
  },
  {
   "cell_type": "markdown",
   "metadata": {},
   "source": [
    "## 2. Drop Issue 3 people"
   ]
  },
  {
   "cell_type": "code",
   "execution_count": 5,
   "metadata": {},
   "outputs": [],
   "source": [
    "abcd_data_w_issue_3 = pd.read_csv('abcd_data/minimal_abcd_with_issue_3.csv')"
   ]
  },
  {
   "cell_type": "code",
   "execution_count": 6,
   "metadata": {},
   "outputs": [
    {
     "name": "stdout",
     "output_type": "stream",
     "text": [
      "n affected: 197\n",
      "p affect: 0.027243811367722307\n",
      "n remaining: 7034\n"
     ]
    }
   ],
   "source": [
    "issue_3_people = abcd_data_w_issue_3.loc[(abcd_data_w_issue_3['stop_rt_adjusted'] < 50) & (abcd_data_w_issue_3['stop_rt_adjusted'] > 0) & (abcd_data_w_issue_3['SSDDur'] ==50), 'NARGUID'].unique()\n",
    "\n",
    "print('n affected:', len(issue_3_people))\n",
    "print('p affect:', len(issue_3_people)/ 7231)\n",
    "\n",
    "abcd_data = abcd_data_w_issue_3[~abcd_data_w_issue_3.NARGUID.isin(issue_3_people)].copy()\n",
    "print('n remaining:', abcd_data.NARGUID.nunique())"
   ]
  },
  {
   "cell_type": "code",
   "execution_count": 7,
   "metadata": {},
   "outputs": [],
   "source": [
    "abcd_data.to_csv('abcd_data/minimal_abcd_clean.csv', index=False)"
   ]
  },
  {
   "cell_type": "markdown",
   "metadata": {},
   "source": [
    "# __Metrics for Simulation__"
   ]
  },
  {
   "cell_type": "markdown",
   "metadata": {},
   "source": [
    "## 1. Find mu_go and mu_stop for each individual using their mean Go RT and their SSRT"
   ]
  },
  {
   "cell_type": "code",
   "execution_count": 65,
   "metadata": {},
   "outputs": [],
   "source": [
    "variable_dict = {\n",
    "   \"columns\": {\n",
    "      \"ID\": \"NARGUID\", #subject identifier\n",
    "      \"condition\": \"trial_type\", #col with trial types \n",
    "      \"correct_response\": \"correct_response\", #col with correct reponse codes\n",
    "      \"response\": \"finger_press\", #col with actual response codes \n",
    "      \"SSD\": \"SSDDur\", #col with stop signal delay \n",
    "      \"block\": \"block\", #col with which block a trial is accuring during\n",
    "      \"goRT\": \"go_rt_adjusted\", # col with go reaction time recording \n",
    "      \"stopRT\": \"stop_rt_adjusted\", #col with stop failure reaction time recording\n",
    "      \"choice_accuracy\": \"choice_accuracy\" #col with whether a response was correct\n",
    "   },\n",
    "   \"key_codes\": {\n",
    "      \"go\": \"GoTrial\", # cell values for go trials  \n",
    "      \"stop\": \"StopTrial\",  #cell values for stop trials \n",
    "      \"correct\": 1.0,\n",
    "       \"incorrect\": 0.0,\n",
    "       \"noResponse\": np.nan\n",
    "   }\n",
    "}"
   ]
  },
  {
   "cell_type": "code",
   "execution_count": 98,
   "metadata": {},
   "outputs": [
    {
     "name": "stdout",
     "output_type": "stream",
     "text": [
      "dropping 7 subs for having P(respond|signal) == 1 or 0\n"
     ]
    }
   ],
   "source": [
    "abcd_ssrt = StopData(var_dict=variable_dict, compute_acc_col=False)\n",
    "\n",
    "abcd_proc = abcd_ssrt.fit_transform(abcd_data) \n",
    "\n",
    "ssrt_model = SSRTmodel(model='replacement')\n",
    "\n",
    "ssrt_metrics = ssrt_model.fit_transform(abcd_proc, level='group')\n",
    "\n",
    "problem_subs = len(ssrt_metrics[ssrt_metrics.SSRT.isnull()])\n",
    "\n",
    "print(f'dropping {problem_subs} subs for having P(respond|signal) == 1 or 0')\n",
    "\n",
    "ssrt_metrics = ssrt_metrics[ssrt_metrics.SSRT.notnull()].copy()"
   ]
  },
  {
   "cell_type": "code",
   "execution_count": 101,
   "metadata": {},
   "outputs": [],
   "source": [
    "def get_mus(sub_row):\n",
    "    sub_row = sub_row.copy()\n",
    "    mu_dict = {}\n",
    "    # init go and stop vars\n",
    "    g = Symbol('g')\n",
    "    s = Symbol('s')\n",
    "    \n",
    "    # formulas (must be solved as \"expression = 0\")\n",
    "    # subject_{go/ss}rt = threshold/mu_go + nondecision_time\n",
    "    # threshold = 100\n",
    "    # nondecision_time = 50\n",
    "    \n",
    "    go_sol = solve(100/g + 50 - sub_row['mean_go_RT'].values[0], g)\n",
    "    assert len(go_sol) == 1, f\"{len(go_sol)} solutions found based on {sub_row['mean_go_RT']}: {go_sol}\"\n",
    "    mu_dict['go'] = float(go_sol[0])\n",
    "    \n",
    "    stop_sol = solve(100/s + 50 - sub_row['SSRT'].values[0], s)\n",
    "    assert len(stop_sol) == 1, f\"{len(stop_sol)} solutions found based on {sub_row['SSRT']}: {stop_sol}\"\n",
    "    mu_dict['stop'] = float(stop_sol[0])\n",
    "    \n",
    "    return mu_dict\n",
    "\n",
    "mu_df = ssrt_metrics.groupby('ID').apply(get_mus)"
   ]
  },
  {
   "cell_type": "code",
   "execution_count": 102,
   "metadata": {},
   "outputs": [
    {
     "data": {
      "text/html": [
       "<div>\n",
       "<style scoped>\n",
       "    .dataframe tbody tr th:only-of-type {\n",
       "        vertical-align: middle;\n",
       "    }\n",
       "\n",
       "    .dataframe tbody tr th {\n",
       "        vertical-align: top;\n",
       "    }\n",
       "\n",
       "    .dataframe thead th {\n",
       "        text-align: right;\n",
       "    }\n",
       "</style>\n",
       "<table border=\"1\" class=\"dataframe\">\n",
       "  <thead>\n",
       "    <tr style=\"text-align: right;\">\n",
       "      <th></th>\n",
       "      <th>SSRT</th>\n",
       "      <th>mean_SSD</th>\n",
       "      <th>p_respond</th>\n",
       "      <th>max_RT</th>\n",
       "      <th>mean_go_RT</th>\n",
       "      <th>mean_stopfail_RT</th>\n",
       "      <th>omission_count</th>\n",
       "      <th>omission_rate</th>\n",
       "      <th>go_acc</th>\n",
       "      <th>stopfail_acc</th>\n",
       "    </tr>\n",
       "    <tr>\n",
       "      <th>ID</th>\n",
       "      <th></th>\n",
       "      <th></th>\n",
       "      <th></th>\n",
       "      <th></th>\n",
       "      <th></th>\n",
       "      <th></th>\n",
       "      <th></th>\n",
       "      <th></th>\n",
       "      <th></th>\n",
       "      <th></th>\n",
       "    </tr>\n",
       "  </thead>\n",
       "  <tbody>\n",
       "    <tr>\n",
       "      <th>003RTV85</th>\n",
       "      <td>273.000000</td>\n",
       "      <td>315.000000</td>\n",
       "      <td>0.466667</td>\n",
       "      <td>2793.0</td>\n",
       "      <td>634.652632</td>\n",
       "      <td>546.107143</td>\n",
       "      <td>15.0</td>\n",
       "      <td>0.050000</td>\n",
       "      <td>0.936842</td>\n",
       "      <td>0.821429</td>\n",
       "    </tr>\n",
       "    <tr>\n",
       "      <th>00CY2MDM</th>\n",
       "      <td>413.500000</td>\n",
       "      <td>72.500000</td>\n",
       "      <td>0.600000</td>\n",
       "      <td>2793.0</td>\n",
       "      <td>467.901408</td>\n",
       "      <td>347.583333</td>\n",
       "      <td>16.0</td>\n",
       "      <td>0.053333</td>\n",
       "      <td>0.852113</td>\n",
       "      <td>0.722222</td>\n",
       "    </tr>\n",
       "    <tr>\n",
       "      <th>00HEV6HB</th>\n",
       "      <td>321.666667</td>\n",
       "      <td>163.333333</td>\n",
       "      <td>0.633333</td>\n",
       "      <td>2793.0</td>\n",
       "      <td>450.200692</td>\n",
       "      <td>373.947368</td>\n",
       "      <td>11.0</td>\n",
       "      <td>0.036667</td>\n",
       "      <td>0.851211</td>\n",
       "      <td>0.657895</td>\n",
       "    </tr>\n",
       "    <tr>\n",
       "      <th>00LJVZK2</th>\n",
       "      <td>2542.166667</td>\n",
       "      <td>250.833333</td>\n",
       "      <td>0.416667</td>\n",
       "      <td>2793.0</td>\n",
       "      <td>338.740385</td>\n",
       "      <td>461.040000</td>\n",
       "      <td>196.0</td>\n",
       "      <td>0.653333</td>\n",
       "      <td>0.682692</td>\n",
       "      <td>0.480000</td>\n",
       "    </tr>\n",
       "    <tr>\n",
       "      <th>00NPMHND</th>\n",
       "      <td>275.333333</td>\n",
       "      <td>501.666667</td>\n",
       "      <td>0.433333</td>\n",
       "      <td>2793.0</td>\n",
       "      <td>762.035242</td>\n",
       "      <td>727.115385</td>\n",
       "      <td>73.0</td>\n",
       "      <td>0.243333</td>\n",
       "      <td>0.854626</td>\n",
       "      <td>0.846154</td>\n",
       "    </tr>\n",
       "    <tr>\n",
       "      <th>...</th>\n",
       "      <td>...</td>\n",
       "      <td>...</td>\n",
       "      <td>...</td>\n",
       "      <td>...</td>\n",
       "      <td>...</td>\n",
       "      <td>...</td>\n",
       "      <td>...</td>\n",
       "      <td>...</td>\n",
       "      <td>...</td>\n",
       "      <td>...</td>\n",
       "    </tr>\n",
       "    <tr>\n",
       "      <th>hkfm1ruj</th>\n",
       "      <td>199.000000</td>\n",
       "      <td>330.000000</td>\n",
       "      <td>0.416667</td>\n",
       "      <td>2793.0</td>\n",
       "      <td>595.478102</td>\n",
       "      <td>496.360000</td>\n",
       "      <td>26.0</td>\n",
       "      <td>0.086667</td>\n",
       "      <td>0.912409</td>\n",
       "      <td>0.800000</td>\n",
       "    </tr>\n",
       "    <tr>\n",
       "      <th>hx1ru4hv</th>\n",
       "      <td>316.333333</td>\n",
       "      <td>136.666667</td>\n",
       "      <td>0.500000</td>\n",
       "      <td>2793.0</td>\n",
       "      <td>460.714765</td>\n",
       "      <td>327.466667</td>\n",
       "      <td>2.0</td>\n",
       "      <td>0.006667</td>\n",
       "      <td>0.117450</td>\n",
       "      <td>0.533333</td>\n",
       "    </tr>\n",
       "    <tr>\n",
       "      <th>jf8w3pw6</th>\n",
       "      <td>294.000000</td>\n",
       "      <td>155.000000</td>\n",
       "      <td>0.483333</td>\n",
       "      <td>2793.0</td>\n",
       "      <td>476.106529</td>\n",
       "      <td>406.275862</td>\n",
       "      <td>9.0</td>\n",
       "      <td>0.030000</td>\n",
       "      <td>0.945017</td>\n",
       "      <td>0.896552</td>\n",
       "    </tr>\n",
       "    <tr>\n",
       "      <th>x8k59</th>\n",
       "      <td>283.333333</td>\n",
       "      <td>186.666667</td>\n",
       "      <td>0.466667</td>\n",
       "      <td>2793.0</td>\n",
       "      <td>488.622837</td>\n",
       "      <td>385.892857</td>\n",
       "      <td>11.0</td>\n",
       "      <td>0.036667</td>\n",
       "      <td>0.937716</td>\n",
       "      <td>0.642857</td>\n",
       "    </tr>\n",
       "    <tr>\n",
       "      <th>xxmy9wd8</th>\n",
       "      <td>429.333333</td>\n",
       "      <td>106.666667</td>\n",
       "      <td>0.533333</td>\n",
       "      <td>2793.0</td>\n",
       "      <td>535.813492</td>\n",
       "      <td>382.218750</td>\n",
       "      <td>48.0</td>\n",
       "      <td>0.160000</td>\n",
       "      <td>0.825397</td>\n",
       "      <td>0.625000</td>\n",
       "    </tr>\n",
       "  </tbody>\n",
       "</table>\n",
       "<p>7224 rows × 10 columns</p>\n",
       "</div>"
      ],
      "text/plain": [
       "                 SSRT    mean_SSD  p_respond  max_RT  mean_go_RT  \\\n",
       "ID                                                                 \n",
       "003RTV85   273.000000  315.000000   0.466667  2793.0  634.652632   \n",
       "00CY2MDM   413.500000   72.500000   0.600000  2793.0  467.901408   \n",
       "00HEV6HB   321.666667  163.333333   0.633333  2793.0  450.200692   \n",
       "00LJVZK2  2542.166667  250.833333   0.416667  2793.0  338.740385   \n",
       "00NPMHND   275.333333  501.666667   0.433333  2793.0  762.035242   \n",
       "...               ...         ...        ...     ...         ...   \n",
       "hkfm1ruj   199.000000  330.000000   0.416667  2793.0  595.478102   \n",
       "hx1ru4hv   316.333333  136.666667   0.500000  2793.0  460.714765   \n",
       "jf8w3pw6   294.000000  155.000000   0.483333  2793.0  476.106529   \n",
       "x8k59      283.333333  186.666667   0.466667  2793.0  488.622837   \n",
       "xxmy9wd8   429.333333  106.666667   0.533333  2793.0  535.813492   \n",
       "\n",
       "          mean_stopfail_RT  omission_count  omission_rate    go_acc  \\\n",
       "ID                                                                    \n",
       "003RTV85        546.107143            15.0       0.050000  0.936842   \n",
       "00CY2MDM        347.583333            16.0       0.053333  0.852113   \n",
       "00HEV6HB        373.947368            11.0       0.036667  0.851211   \n",
       "00LJVZK2        461.040000           196.0       0.653333  0.682692   \n",
       "00NPMHND        727.115385            73.0       0.243333  0.854626   \n",
       "...                    ...             ...            ...       ...   \n",
       "hkfm1ruj        496.360000            26.0       0.086667  0.912409   \n",
       "hx1ru4hv        327.466667             2.0       0.006667  0.117450   \n",
       "jf8w3pw6        406.275862             9.0       0.030000  0.945017   \n",
       "x8k59           385.892857            11.0       0.036667  0.937716   \n",
       "xxmy9wd8        382.218750            48.0       0.160000  0.825397   \n",
       "\n",
       "          stopfail_acc  \n",
       "ID                      \n",
       "003RTV85      0.821429  \n",
       "00CY2MDM      0.722222  \n",
       "00HEV6HB      0.657895  \n",
       "00LJVZK2      0.480000  \n",
       "00NPMHND      0.846154  \n",
       "...                ...  \n",
       "hkfm1ruj      0.800000  \n",
       "hx1ru4hv      0.533333  \n",
       "jf8w3pw6      0.896552  \n",
       "x8k59         0.642857  \n",
       "xxmy9wd8      0.625000  \n",
       "\n",
       "[7224 rows x 10 columns]"
      ]
     },
     "execution_count": 102,
     "metadata": {},
     "output_type": "execute_result"
    }
   ],
   "source": [
    "ssrt_metrics"
   ]
  },
  {
   "cell_type": "code",
   "execution_count": 104,
   "metadata": {},
   "outputs": [],
   "source": [
    "json_path = 'abcd_data/individual_mus.json'\n",
    "with open(json_path, 'w') as jp:\n",
    "    json.dump(mu_df.to_dict(), jp)"
   ]
  },
  {
   "cell_type": "markdown",
   "metadata": {},
   "source": [
    "## 1. get SSD distributions per subject"
   ]
  },
  {
   "cell_type": "code",
   "execution_count": 8,
   "metadata": {},
   "outputs": [],
   "source": [
    "abcd_data = pd.read_csv('abcd_data/minimal_abcd_clean.csv')"
   ]
  },
  {
   "cell_type": "code",
   "execution_count": 9,
   "metadata": {},
   "outputs": [],
   "source": [
    "SSD_dist = abcd_data.groupby('NARGUID')['SSDDur'].value_counts(normalize=True)\n",
    "SSD_dist.name = 'proportion'\n",
    "SSD_dist = SSD_dist.reset_index()"
   ]
  },
  {
   "cell_type": "code",
   "execution_count": 10,
   "metadata": {},
   "outputs": [],
   "source": [
    "SSD_dist.to_csv('abcd_data/SSD_dist_by_subj.csv', index=False)"
   ]
  },
  {
   "cell_type": "markdown",
   "metadata": {},
   "source": [
    "## 2. P(guess|SSD) for mixture distributions"
   ]
  },
  {
   "cell_type": "code",
   "execution_count": 11,
   "metadata": {},
   "outputs": [],
   "source": [
    "abcd_data = pd.read_csv('abcd_data/minimal_abcd_clean.csv')\n",
    "SSDs = abcd_data.SSDDur.unique()\n",
    "SSDs = [i for i in SSDs if i == i]\n",
    "SSDs.sort()"
   ]
  },
  {
   "cell_type": "code",
   "execution_count": 18,
   "metadata": {},
   "outputs": [],
   "source": [
    "acc_per_SSD = pd.DataFrame()\n",
    "for ssd in SSDs:\n",
    "    curr_means = abcd_data.query(\n",
    "        \"SSDDur == %s and correct_stop==0.0\" % ssd\n",
    "    ).groupby('NARGUID').mean()['choice_accuracy']\n",
    "    curr_means.name = ssd\n",
    "    acc_per_SSD = pd.concat([acc_per_SSD, curr_means], 1, sort=True)\n",
    "\n",
    "go_accs = abcd_data.query(\n",
    "        \"trial_type == 'GoTrial' and correct_go_response in [1.0, 0.0]\"\n",
    "    ).groupby('NARGUID').mean()['choice_accuracy']\n",
    "go_accs.name = -1\n",
    "acc_per_SSD = pd.concat([acc_per_SSD, go_accs], 1, sort=True)"
   ]
  },
  {
   "cell_type": "code",
   "execution_count": 43,
   "metadata": {},
   "outputs": [],
   "source": [
    "p = Symbol('p')\n",
    "guess_mean = acc_per_SSD.mean()[0.0]\n",
    "go_mean = acc_per_SSD.mean()[-1]\n",
    "p_guess_per_SSD = {}\n",
    "for ssd in SSDs:\n",
    "    curr_mean = acc_per_SSD.mean()[ssd]\n",
    "    solution = solve(p*guess_mean + (1-p)*go_mean - curr_mean, p)\n",
    "    assert len(solution) == 1\n",
    "    p_guess_per_SSD[ssd] = solution[0]\n",
    "p_guess_df = pd.DataFrame(p_guess_per_SSD, index=['p_guess'])\n",
    "p_guess_df.to_csv('abcd_data/p_guess_per_ssd.csv', index=False)"
   ]
  },
  {
   "cell_type": "code",
   "execution_count": 48,
   "metadata": {},
   "outputs": [
    {
     "data": {
      "text/plain": [
       "{50.0: 0.8453013488292931,\n",
       " 100.0: 0.6106228257832641,\n",
       " 0.0: 1.0,\n",
       " 150.0: 0.45284195418821765,\n",
       " 200.0: 0.29414701140670046,\n",
       " 250.0: 0.20099792299390123,\n",
       " 300.0: 0.14331766365641904,\n",
       " 350.0: 0.07989464664779473,\n",
       " 400.0: 0.05646833343690329,\n",
       " 450.0: 0.0271712158267143,\n",
       " 500.0: 0.01912138134256117,\n",
       " 550.0: -0.0013543997871993934,\n",
       " 600.0: 0.005733602200019834,\n",
       " 650.0: -0.0034938217706060315,\n",
       " 700.0: 0.07486036991100674,\n",
       " 750.0: 0.035672034056798016,\n",
       " 800.0: 0.18566915102381398,\n",
       " 850.0: 0.15647354045123857,\n",
       " 900.0: 0.2691110670854924}"
      ]
     },
     "execution_count": 48,
     "metadata": {},
     "output_type": "execute_result"
    }
   ],
   "source": [
    "{col: float(p_guess_df[col].values[0]) for col\n",
    "                      in p_guess_df.columns}"
   ]
  },
  {
   "cell_type": "code",
   "execution_count": 49,
   "metadata": {},
   "outputs": [],
   "source": [
    "p_guess_df2 = pd.read_csv('abcd_data/p_guess_per_ssd.csv')"
   ]
  },
  {
   "cell_type": "code",
   "execution_count": 50,
   "metadata": {},
   "outputs": [
    {
     "data": {
      "text/html": [
       "<div>\n",
       "<style scoped>\n",
       "    .dataframe tbody tr th:only-of-type {\n",
       "        vertical-align: middle;\n",
       "    }\n",
       "\n",
       "    .dataframe tbody tr th {\n",
       "        vertical-align: top;\n",
       "    }\n",
       "\n",
       "    .dataframe thead th {\n",
       "        text-align: right;\n",
       "    }\n",
       "</style>\n",
       "<table border=\"1\" class=\"dataframe\">\n",
       "  <thead>\n",
       "    <tr style=\"text-align: right;\">\n",
       "      <th></th>\n",
       "      <th>50.0</th>\n",
       "      <th>100.0</th>\n",
       "      <th>0.0</th>\n",
       "      <th>150.0</th>\n",
       "      <th>200.0</th>\n",
       "      <th>250.0</th>\n",
       "      <th>300.0</th>\n",
       "      <th>350.0</th>\n",
       "      <th>400.0</th>\n",
       "      <th>450.0</th>\n",
       "      <th>500.0</th>\n",
       "      <th>550.0</th>\n",
       "      <th>600.0</th>\n",
       "      <th>650.0</th>\n",
       "      <th>700.0</th>\n",
       "      <th>750.0</th>\n",
       "      <th>800.0</th>\n",
       "      <th>850.0</th>\n",
       "      <th>900.0</th>\n",
       "    </tr>\n",
       "  </thead>\n",
       "  <tbody>\n",
       "    <tr>\n",
       "      <th>0</th>\n",
       "      <td>0.845301</td>\n",
       "      <td>0.610623</td>\n",
       "      <td>1.0</td>\n",
       "      <td>0.452842</td>\n",
       "      <td>0.294147</td>\n",
       "      <td>0.200998</td>\n",
       "      <td>0.143318</td>\n",
       "      <td>0.079895</td>\n",
       "      <td>0.056468</td>\n",
       "      <td>0.027171</td>\n",
       "      <td>0.019121</td>\n",
       "      <td>-0.001354</td>\n",
       "      <td>0.005734</td>\n",
       "      <td>-0.003494</td>\n",
       "      <td>0.07486</td>\n",
       "      <td>0.035672</td>\n",
       "      <td>0.185669</td>\n",
       "      <td>0.156474</td>\n",
       "      <td>0.269111</td>\n",
       "    </tr>\n",
       "  </tbody>\n",
       "</table>\n",
       "</div>"
      ],
      "text/plain": [
       "       50.0     100.0  0.0     150.0     200.0     250.0     300.0     350.0  \\\n",
       "0  0.845301  0.610623  1.0  0.452842  0.294147  0.200998  0.143318  0.079895   \n",
       "\n",
       "      400.0     450.0     500.0     550.0     600.0     650.0    700.0  \\\n",
       "0  0.056468  0.027171  0.019121 -0.001354  0.005734 -0.003494  0.07486   \n",
       "\n",
       "      750.0     800.0     850.0     900.0  \n",
       "0  0.035672  0.185669  0.156474  0.269111  "
      ]
     },
     "execution_count": 50,
     "metadata": {},
     "output_type": "execute_result"
    }
   ],
   "source": [
    "p_guess_df2"
   ]
  },
  {
   "cell_type": "code",
   "execution_count": 53,
   "metadata": {},
   "outputs": [
    {
     "data": {
      "text/plain": [
       "1.0"
      ]
     },
     "execution_count": 53,
     "metadata": {},
     "output_type": "execute_result"
    }
   ],
   "source": [
    "{float(col): float(p_guess_df[col].values[0]) for col\n",
    "                      in p_guess_df.columns}[0.0]"
   ]
  },
  {
   "cell_type": "markdown",
   "metadata": {},
   "source": [
    "## 3. Inhibition function (p(respond|SSD))"
   ]
  },
  {
   "cell_type": "code",
   "execution_count": 23,
   "metadata": {},
   "outputs": [],
   "source": [
    "def get_p_resp_per_SSD(data, SSDs):\n",
    "    data = data.copy()\n",
    "    out_dict = {}\n",
    "    for ssd in SSDs:\n",
    "        curr_data = data.query(\n",
    "            \"SSDDur == %s\" % ssd\n",
    "        )\n",
    "        if len(curr_data) == 0:\n",
    "            out_dict[ssd] = np.nan\n",
    "        else:\n",
    "            out_dict[ssd] = len(curr_data.query(\"correct_stop == 0.0\")) / len(curr_data)\n",
    "    return out_dict"
   ]
  },
  {
   "cell_type": "code",
   "execution_count": 24,
   "metadata": {},
   "outputs": [],
   "source": [
    "abcd_data = pd.read_csv('abcd_data/minimal_abcd_clean.csv')\n",
    "SSDs = [i for i in abcd_data.SSDDur.unique() if i==i]\n",
    "ssd_resp_dict = abcd_data.groupby('NARGUID').apply(get_p_resp_per_SSD, SSDs)\n",
    "ssd_resp_df = ssd_resp_dict.apply(pd.Series)"
   ]
  },
  {
   "cell_type": "code",
   "execution_count": 25,
   "metadata": {},
   "outputs": [],
   "source": [
    "abcd_inhib_func = pd.DataFrame(ssd_resp_df.mean())\n",
    "abcd_inhib_func.index.name = 'SSD'\n",
    "abcd_inhib_func.columns = ['p_respond']\n",
    "abcd_inhib_func = abcd_inhib_func.reset_index()\n",
    "abcd_inhib_func['underlying distribution'] = 'ABCD data'"
   ]
  },
  {
   "cell_type": "code",
   "execution_count": 26,
   "metadata": {},
   "outputs": [],
   "source": [
    "abcd_inhib_func.to_csv('abcd_data/abcd_inhib_func.csv', index=False)"
   ]
  },
  {
   "cell_type": "markdown",
   "metadata": {},
   "source": [
    "## 4. build run_cmds.sh"
   ]
  },
  {
   "cell_type": "code",
   "execution_count": 22,
   "metadata": {},
   "outputs": [],
   "source": [
    "abcd_data = pd.read_csv('abcd_data/minimal_abcd_clean.csv')"
   ]
  },
  {
   "cell_type": "code",
   "execution_count": 23,
   "metadata": {},
   "outputs": [],
   "source": [
    "narguids = abcd_data.NARGUID.unique()"
   ]
  },
  {
   "cell_type": "code",
   "execution_count": 24,
   "metadata": {},
   "outputs": [],
   "source": [
    "nsubs_per_job = 48\n",
    "\n",
    "with open('run_all_sims.sh', 'w') as f:\n",
    "    for start_idx in range(0, len(narguids), nsubs_per_job):\n",
    "        end_idx = start_idx + nsubs_per_job\n",
    "        if end_idx > len(narguids):\n",
    "            end_idx = len(narguids)\n",
    "        substr = ' '.join(narguids[start_idx:end_idx])\n",
    "        f.write(f'python simulate_individuals.py --subjects {substr}\\n')"
   ]
  },
  {
   "cell_type": "code",
   "execution_count": 25,
   "metadata": {},
   "outputs": [
    {
     "data": {
      "text/plain": [
       "147"
      ]
     },
     "execution_count": 25,
     "metadata": {},
     "output_type": "execute_result"
    }
   ],
   "source": [
    "def file_len(fname):\n",
    "    with open(fname) as f:\n",
    "        for i, l in enumerate(f):\n",
    "            pass\n",
    "    return i + 1\n",
    "file_len('run_all_sims.sh')"
   ]
  },
  {
   "cell_type": "code",
   "execution_count": null,
   "metadata": {},
   "outputs": [],
   "source": []
  }
 ],
 "metadata": {
  "kernelspec": {
   "display_name": "Python 3",
   "language": "python",
   "name": "python3"
  },
  "language_info": {
   "codemirror_mode": {
    "name": "ipython",
    "version": 3
   },
   "file_extension": ".py",
   "mimetype": "text/x-python",
   "name": "python",
   "nbconvert_exporter": "python",
   "pygments_lexer": "ipython3",
   "version": "3.7.3"
  }
 },
 "nbformat": 4,
 "nbformat_minor": 4
}
