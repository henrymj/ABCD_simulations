{
 "cells": [
  {
   "cell_type": "code",
   "execution_count": 1,
   "metadata": {},
   "outputs": [],
   "source": [
    "import json\n",
    "import numpy as np\n",
    "import pandas as pd\n",
    "from sympy.solvers import solve\n",
    "from sympy import Symbol\n",
    "import scipy.stats as sstats\n",
    "\n",
    "from utils import SimulateData\n",
    "from stopsignalmetrics import SSRTmodel, StopData\n",
    "\n",
    "from generate_remaining_sim_cmds import replace"
   ]
  },
  {
   "cell_type": "markdown",
   "metadata": {},
   "source": [
    "# __Preprocessing__"
   ]
  },
  {
   "cell_type": "markdown",
   "metadata": {},
   "source": [
    "## 1. Prepare data for use by stopsignalmetrics"
   ]
  },
  {
   "cell_type": "code",
   "execution_count": 2,
   "metadata": {},
   "outputs": [],
   "source": [
    "abcd_data = pd.read_csv('abcd_data/abcd_w_finger_press.csv')"
   ]
  },
  {
   "cell_type": "code",
   "execution_count": 3,
   "metadata": {},
   "outputs": [
    {
     "data": {
      "text/plain": [
       "8464"
      ]
     },
     "execution_count": 3,
     "metadata": {},
     "output_type": "execute_result"
    }
   ],
   "source": [
    "len(abcd_data.NARGUID.unique())"
   ]
  },
  {
   "cell_type": "code",
   "execution_count": 4,
   "metadata": {},
   "outputs": [],
   "source": [
    "for rt_col in ['go_rt_adjusted', 'stop_rt_adjusted']:\n",
    "    abcd_data.loc[abcd_data['finger_press'].isnull(), rt_col] = np.nan"
   ]
  },
  {
   "cell_type": "code",
   "execution_count": 5,
   "metadata": {},
   "outputs": [],
   "source": [
    "abcd_data['block'] = np.NaN\n",
    "abcd_data.loc[abcd_data['TrialNum'] < 180, 'block'] = '1'\n",
    "abcd_data.loc[abcd_data['TrialNum'] >= 180, 'block'] = '2'"
   ]
  },
  {
   "cell_type": "code",
   "execution_count": 6,
   "metadata": {},
   "outputs": [],
   "source": [
    "abcd_data['choice_accuracy'] = np.where(\n",
    "    abcd_data['finger_press'].notnull(),\n",
    "    np.where(\n",
    "        abcd_data['finger_press']==abcd_data['correct_response'],\n",
    "        1,\n",
    "        0),\n",
    "    np.nan\n",
    ")"
   ]
  },
  {
   "cell_type": "code",
   "execution_count": 7,
   "metadata": {},
   "outputs": [
    {
     "data": {
      "text/plain": [
       "8464"
      ]
     },
     "execution_count": 7,
     "metadata": {},
     "output_type": "execute_result"
    }
   ],
   "source": [
    "len(abcd_data.NARGUID.unique())"
   ]
  },
  {
   "cell_type": "markdown",
   "metadata": {},
   "source": [
    "## 1.5 replace IDs with ` (backticks) in them\n",
    "#### shell scripts do not interpret them well"
   ]
  },
  {
   "cell_type": "code",
   "execution_count": 8,
   "metadata": {},
   "outputs": [],
   "source": [
    "def strip_backticks(string):\n",
    "    return string.replace('`', '')"
   ]
  },
  {
   "cell_type": "code",
   "execution_count": 9,
   "metadata": {},
   "outputs": [],
   "source": [
    "original_unique_IDs = abcd_data.NARGUID.unique()\n",
    "fix_id_map = {i:strip_backticks(i) for i in abcd_data.NARGUID.unique() if '`' in i}\n",
    "abcd_data.NARGUID = abcd_data.NARGUID.replace(fix_id_map)\n",
    "assert len(original_unique_IDs)==len(abcd_data.NARGUID.unique())"
   ]
  },
  {
   "cell_type": "code",
   "execution_count": 10,
   "metadata": {},
   "outputs": [],
   "source": [
    "abcd_data.to_csv('abcd_data/minimal_abcd_with_issue_3.csv', index=False)"
   ]
  },
  {
   "cell_type": "markdown",
   "metadata": {},
   "source": [
    "## 2. Drop Issue 3 people"
   ]
  },
  {
   "cell_type": "code",
   "execution_count": 11,
   "metadata": {},
   "outputs": [],
   "source": [
    "abcd_data_w_issue_3 = pd.read_csv('abcd_data/minimal_abcd_with_issue_3.csv')"
   ]
  },
  {
   "cell_type": "code",
   "execution_count": 12,
   "metadata": {},
   "outputs": [
    {
     "data": {
      "text/plain": [
       "array([ 1.,  0., nan])"
      ]
     },
     "execution_count": 12,
     "metadata": {},
     "output_type": "execute_result"
    }
   ],
   "source": [
    "abcd_data_w_issue_3['correct_go_response'].unique()"
   ]
  },
  {
   "cell_type": "code",
   "execution_count": 13,
   "metadata": {},
   "outputs": [
    {
     "name": "stdout",
     "output_type": "stream",
     "text": [
      "n affected: 226\n",
      "p affect: 0.03125432167058498\n",
      "n remaining: 8238\n"
     ]
    }
   ],
   "source": [
    "issue_3_people = abcd_data_w_issue_3.loc[(abcd_data_w_issue_3['stop_rt_adjusted'] < 50) & (abcd_data_w_issue_3['stop_rt_adjusted'] > 0) & (abcd_data_w_issue_3['SSDDur'] ==50), 'NARGUID'].unique()\n",
    "\n",
    "print('n affected:', len(issue_3_people))\n",
    "print('p affect:', len(issue_3_people)/ 7231)\n",
    "\n",
    "abcd_data = abcd_data_w_issue_3[~abcd_data_w_issue_3.NARGUID.isin(issue_3_people)].copy()\n",
    "print('n remaining:', abcd_data.NARGUID.nunique())"
   ]
  },
  {
   "cell_type": "code",
   "execution_count": 14,
   "metadata": {},
   "outputs": [],
   "source": [
    "abcd_data.to_csv('abcd_data/minimal_abcd_clean.csv', index=False)"
   ]
  },
  {
   "cell_type": "markdown",
   "metadata": {},
   "source": [
    "# __Metrics for Simulation__"
   ]
  },
  {
   "cell_type": "markdown",
   "metadata": {},
   "source": [
    "## 1. Find mu_go and mu_stop for each individual using their mean Go RT and their SSRT"
   ]
  },
  {
   "cell_type": "code",
   "execution_count": 15,
   "metadata": {},
   "outputs": [],
   "source": [
    "variable_dict = {\n",
    "   \"columns\": {\n",
    "      \"ID\": \"NARGUID\", #subject identifier\n",
    "      \"condition\": \"trial_type\", #col with trial types \n",
    "      \"correct_response\": \"correct_response\", #col with correct reponse codes\n",
    "      \"response\": \"finger_press\", #col with actual response codes \n",
    "      \"SSD\": \"SSDDur\", #col with stop signal delay \n",
    "      \"block\": \"block\", #col with which block a trial is accuring during\n",
    "      \"goRT\": \"go_rt_adjusted\", # col with go reaction time recording \n",
    "      \"stopRT\": \"stop_rt_adjusted\", #col with stop failure reaction time recording\n",
    "      \"choice_accuracy\": \"choice_accuracy\" #col with whether a response was correct\n",
    "   },\n",
    "   \"key_codes\": {\n",
    "      \"go\": \"GoTrial\", # cell values for go trials  \n",
    "      \"stop\": \"StopTrial\",  #cell values for stop trials \n",
    "      \"correct\": 1.0,\n",
    "       \"incorrect\": 0.0,\n",
    "       \"noResponse\": np.nan\n",
    "   }\n",
    "}"
   ]
  },
  {
   "cell_type": "code",
   "execution_count": 16,
   "metadata": {},
   "outputs": [
    {
     "name": "stderr",
     "output_type": "stream",
     "text": [
      "/Users/henrymj/anaconda3/lib/python3.7/site-packages/numpy/core/fromnumeric.py:3335: RuntimeWarning: Mean of empty slice.\n",
      "  out=out, **kwargs)\n",
      "/Users/henrymj/anaconda3/lib/python3.7/site-packages/numpy/core/_methods.py:161: RuntimeWarning: invalid value encountered in double_scalars\n",
      "  ret = ret.dtype.type(ret / rcount)\n"
     ]
    },
    {
     "name": "stdout",
     "output_type": "stream",
     "text": [
      "dropping 31 subs for having P(respond|signal) == 1 or 0\n"
     ]
    }
   ],
   "source": [
    "abcd_ssrt = StopData(var_dict=variable_dict, compute_acc_col=False)\n",
    "\n",
    "abcd_proc = abcd_ssrt.fit_transform(abcd_data) \n",
    "\n",
    "ssrt_model = SSRTmodel(model='replacement')\n",
    "\n",
    "ssrt_metrics = ssrt_model.fit_transform(abcd_proc, level='group')\n",
    "\n",
    "problem_subs = ssrt_metrics[ssrt_metrics.SSRT.isnull()].index\n",
    "\n",
    "print(f'dropping {len(problem_subs)} subs for having P(respond|signal) == 1 or 0')\n",
    "\n",
    "ssrt_metrics = ssrt_metrics[ssrt_metrics.SSRT.notnull()].copy()"
   ]
  },
  {
   "cell_type": "code",
   "execution_count": 17,
   "metadata": {},
   "outputs": [],
   "source": [
    "def get_mus(sub_row):\n",
    "    sub_row = sub_row.copy()\n",
    "    mu_dict = {}\n",
    "    # init go and stop vars\n",
    "    g = Symbol('g')\n",
    "    s = Symbol('s')\n",
    "    \n",
    "    # formulas (must be solved as \"expression = 0\")\n",
    "    # subject_{go/ss}rt = threshold/mu_go + nondecision_time\n",
    "    # threshold = 100\n",
    "    # nondecision_time = 50\n",
    "    \n",
    "    go_sol = solve(100/g + 50 - sub_row['mean_go_RT'].values[0], g)\n",
    "    assert len(go_sol) == 1, f\"{len(go_sol)} solutions found based on {sub_row['mean_go_RT']}: {go_sol}\"\n",
    "    mu_dict['go'] = float(go_sol[0])\n",
    "    \n",
    "    stop_sol = solve(100/s + 50 - sub_row['SSRT'].values[0], s)\n",
    "    assert len(stop_sol) == 1, f\"{len(stop_sol)} solutions found based on {sub_row['SSRT']}: {stop_sol}\"\n",
    "    mu_dict['stop'] = float(stop_sol[0])\n",
    "    \n",
    "    return mu_dict\n",
    "\n",
    "mu_df = ssrt_metrics.groupby('ID').apply(get_mus)\n",
    "mu_dict = mu_df.to_dict()\n",
    "mu_dict['prob_subs'] = list(problem_subs)"
   ]
  },
  {
   "cell_type": "code",
   "execution_count": 18,
   "metadata": {},
   "outputs": [],
   "source": [
    "json_mu_path = 'abcd_data/individual_mus.json'\n",
    "with open(json_mu_path, 'w') as jp:\n",
    "    json.dump(mu_dict, jp)"
   ]
  },
  {
   "cell_type": "markdown",
   "metadata": {},
   "source": [
    "## 1. get SSD distributions per subject"
   ]
  },
  {
   "cell_type": "code",
   "execution_count": 19,
   "metadata": {},
   "outputs": [],
   "source": [
    "abcd_data = pd.read_csv('abcd_data/minimal_abcd_clean.csv')"
   ]
  },
  {
   "cell_type": "code",
   "execution_count": 20,
   "metadata": {},
   "outputs": [
    {
     "data": {
      "text/html": [
       "<div>\n",
       "<style scoped>\n",
       "    .dataframe tbody tr th:only-of-type {\n",
       "        vertical-align: middle;\n",
       "    }\n",
       "\n",
       "    .dataframe tbody tr th {\n",
       "        vertical-align: top;\n",
       "    }\n",
       "\n",
       "    .dataframe thead th {\n",
       "        text-align: right;\n",
       "    }\n",
       "</style>\n",
       "<table border=\"1\" class=\"dataframe\">\n",
       "  <thead>\n",
       "    <tr style=\"text-align: right;\">\n",
       "      <th></th>\n",
       "      <th>NARGUID</th>\n",
       "      <th>go_rt_adjusted</th>\n",
       "      <th>stop_rt_adjusted</th>\n",
       "      <th>trial_type</th>\n",
       "      <th>SSDDur</th>\n",
       "      <th>correct_go_response</th>\n",
       "      <th>correct_stop</th>\n",
       "      <th>SSD.RESP</th>\n",
       "      <th>Fix.RESP</th>\n",
       "      <th>StopSignal.RESP</th>\n",
       "      <th>Go.RESP</th>\n",
       "      <th>TrialNum</th>\n",
       "      <th>correct_stimulus_mapping_1</th>\n",
       "      <th>correct_stimulus_mapping_2</th>\n",
       "      <th>block</th>\n",
       "      <th>finger_press</th>\n",
       "      <th>correct_response</th>\n",
       "      <th>choice_accuracy</th>\n",
       "    </tr>\n",
       "  </thead>\n",
       "  <tbody>\n",
       "  </tbody>\n",
       "</table>\n",
       "</div>"
      ],
      "text/plain": [
       "Empty DataFrame\n",
       "Columns: [NARGUID, go_rt_adjusted, stop_rt_adjusted, trial_type, SSDDur, correct_go_response, correct_stop, SSD.RESP, Fix.RESP, StopSignal.RESP, Go.RESP, TrialNum, correct_stimulus_mapping_1, correct_stimulus_mapping_2, block, finger_press, correct_response, choice_accuracy]\n",
       "Index: []"
      ]
     },
     "execution_count": 20,
     "metadata": {},
     "output_type": "execute_result"
    }
   ],
   "source": [
    "abcd_data.query(\"NARGUID == 'ZBCZZ0GR'\")"
   ]
  },
  {
   "cell_type": "code",
   "execution_count": 21,
   "metadata": {},
   "outputs": [],
   "source": [
    "SSD_dist = abcd_data.groupby('NARGUID')['SSDDur'].value_counts(normalize=True)\n",
    "SSD_dist.name = 'proportion'\n",
    "SSD_dist = SSD_dist.reset_index()"
   ]
  },
  {
   "cell_type": "code",
   "execution_count": 22,
   "metadata": {},
   "outputs": [],
   "source": [
    "SSD_dist.to_csv('abcd_data/SSD_dist_by_subj.csv', index=False)"
   ]
  },
  {
   "cell_type": "code",
   "execution_count": 23,
   "metadata": {},
   "outputs": [
    {
     "data": {
      "text/html": [
       "<div>\n",
       "<style scoped>\n",
       "    .dataframe tbody tr th:only-of-type {\n",
       "        vertical-align: middle;\n",
       "    }\n",
       "\n",
       "    .dataframe tbody tr th {\n",
       "        vertical-align: top;\n",
       "    }\n",
       "\n",
       "    .dataframe thead th {\n",
       "        text-align: right;\n",
       "    }\n",
       "</style>\n",
       "<table border=\"1\" class=\"dataframe\">\n",
       "  <thead>\n",
       "    <tr style=\"text-align: right;\">\n",
       "      <th></th>\n",
       "      <th>NARGUID</th>\n",
       "      <th>SSDDur</th>\n",
       "      <th>proportion</th>\n",
       "    </tr>\n",
       "  </thead>\n",
       "  <tbody>\n",
       "  </tbody>\n",
       "</table>\n",
       "</div>"
      ],
      "text/plain": [
       "Empty DataFrame\n",
       "Columns: [NARGUID, SSDDur, proportion]\n",
       "Index: []"
      ]
     },
     "execution_count": 23,
     "metadata": {},
     "output_type": "execute_result"
    }
   ],
   "source": [
    "SSD_dist.query(\"NARGUID == 'ZBCZZ0GR'\")"
   ]
  },
  {
   "cell_type": "markdown",
   "metadata": {},
   "source": [
    "## 2. P(guess|SSD) for mixture distributions"
   ]
  },
  {
   "cell_type": "code",
   "execution_count": 24,
   "metadata": {},
   "outputs": [],
   "source": [
    "abcd_data = pd.read_csv('abcd_data/minimal_abcd_clean.csv')\n",
    "SSDs = abcd_data.SSDDur.unique()\n",
    "SSDs = [i for i in SSDs if i == i]\n",
    "SSDs.sort()"
   ]
  },
  {
   "cell_type": "code",
   "execution_count": 25,
   "metadata": {},
   "outputs": [],
   "source": [
    "acc_per_SSD = pd.DataFrame()\n",
    "for ssd in SSDs:\n",
    "    curr_means = abcd_data.query(\n",
    "        \"SSDDur == %s and correct_stop==0.0\" % ssd\n",
    "    ).groupby('NARGUID').mean()['choice_accuracy']\n",
    "    curr_means.name = ssd\n",
    "    acc_per_SSD = pd.concat([acc_per_SSD, curr_means], 1, sort=True)\n",
    "\n",
    "go_accs = abcd_data.query(\n",
    "        \"trial_type == 'GoTrial' and correct_go_response in [1.0, 0.0]\"\n",
    "    ).groupby('NARGUID').mean()['choice_accuracy']\n",
    "go_accs.name = -1\n",
    "acc_per_SSD = pd.concat([acc_per_SSD, go_accs], 1, sort=True)"
   ]
  },
  {
   "cell_type": "code",
   "execution_count": 26,
   "metadata": {},
   "outputs": [],
   "source": [
    "p = Symbol('p')\n",
    "guess_mean = acc_per_SSD.mean()[0.0]\n",
    "go_mean = acc_per_SSD.mean()[-1]\n",
    "p_guess_per_SSD = {}\n",
    "for ssd in SSDs:\n",
    "    curr_mean = acc_per_SSD.mean()[ssd]\n",
    "    solution = solve(p*guess_mean + (1-p)*go_mean - curr_mean, p)\n",
    "    assert len(solution) == 1\n",
    "    p_guess_per_SSD[ssd] = solution[0]\n",
    "p_guess_df = pd.DataFrame(p_guess_per_SSD, index=['p_guess'])\n",
    "p_guess_df.to_csv('abcd_data/p_guess_per_ssd.csv', index=False)"
   ]
  },
  {
   "cell_type": "code",
   "execution_count": 27,
   "metadata": {},
   "outputs": [
    {
     "data": {
      "text/plain": [
       "{0.0: 1.0,\n",
       " 50.0: 0.8518966881510508,\n",
       " 100.0: 0.6248081425758761,\n",
       " 150.0: 0.46519470731379453,\n",
       " 200.0: 0.2947710624963631,\n",
       " 250.0: 0.21075535798552303,\n",
       " 300.0: 0.1404209047269027,\n",
       " 350.0: 0.08354920017624702,\n",
       " 400.0: 0.05703409119007931,\n",
       " 450.0: 0.029151024358994575,\n",
       " 500.0: 0.016063618909064378,\n",
       " 550.0: -0.0003910068585019575,\n",
       " 600.0: 0.0030962512655911116,\n",
       " 650.0: 0.01139533818314855,\n",
       " 700.0: 0.059318925632538,\n",
       " 750.0: 0.0340178091093458,\n",
       " 800.0: 0.15944204679687593,\n",
       " 850.0: 0.20942638758940402,\n",
       " 900.0: 0.24241997384504005}"
      ]
     },
     "execution_count": 27,
     "metadata": {},
     "output_type": "execute_result"
    }
   ],
   "source": [
    "{col: float(p_guess_df[col].values[0]) for col\n",
    "                      in p_guess_df.columns}"
   ]
  },
  {
   "cell_type": "code",
   "execution_count": 28,
   "metadata": {},
   "outputs": [],
   "source": [
    "p_guess_df2 = pd.read_csv('abcd_data/p_guess_per_ssd.csv')"
   ]
  },
  {
   "cell_type": "code",
   "execution_count": 29,
   "metadata": {},
   "outputs": [
    {
     "data": {
      "text/html": [
       "<div>\n",
       "<style scoped>\n",
       "    .dataframe tbody tr th:only-of-type {\n",
       "        vertical-align: middle;\n",
       "    }\n",
       "\n",
       "    .dataframe tbody tr th {\n",
       "        vertical-align: top;\n",
       "    }\n",
       "\n",
       "    .dataframe thead th {\n",
       "        text-align: right;\n",
       "    }\n",
       "</style>\n",
       "<table border=\"1\" class=\"dataframe\">\n",
       "  <thead>\n",
       "    <tr style=\"text-align: right;\">\n",
       "      <th></th>\n",
       "      <th>0.0</th>\n",
       "      <th>50.0</th>\n",
       "      <th>100.0</th>\n",
       "      <th>150.0</th>\n",
       "      <th>200.0</th>\n",
       "      <th>250.0</th>\n",
       "      <th>300.0</th>\n",
       "      <th>350.0</th>\n",
       "      <th>400.0</th>\n",
       "      <th>450.0</th>\n",
       "      <th>500.0</th>\n",
       "      <th>550.0</th>\n",
       "      <th>600.0</th>\n",
       "      <th>650.0</th>\n",
       "      <th>700.0</th>\n",
       "      <th>750.0</th>\n",
       "      <th>800.0</th>\n",
       "      <th>850.0</th>\n",
       "      <th>900.0</th>\n",
       "    </tr>\n",
       "  </thead>\n",
       "  <tbody>\n",
       "    <tr>\n",
       "      <th>0</th>\n",
       "      <td>1.0</td>\n",
       "      <td>0.851897</td>\n",
       "      <td>0.624808</td>\n",
       "      <td>0.465195</td>\n",
       "      <td>0.294771</td>\n",
       "      <td>0.210755</td>\n",
       "      <td>0.140421</td>\n",
       "      <td>0.083549</td>\n",
       "      <td>0.057034</td>\n",
       "      <td>0.029151</td>\n",
       "      <td>0.016064</td>\n",
       "      <td>-0.000391</td>\n",
       "      <td>0.003096</td>\n",
       "      <td>0.011395</td>\n",
       "      <td>0.059319</td>\n",
       "      <td>0.034018</td>\n",
       "      <td>0.159442</td>\n",
       "      <td>0.209426</td>\n",
       "      <td>0.24242</td>\n",
       "    </tr>\n",
       "  </tbody>\n",
       "</table>\n",
       "</div>"
      ],
      "text/plain": [
       "   0.0      50.0     100.0     150.0     200.0     250.0     300.0     350.0  \\\n",
       "0  1.0  0.851897  0.624808  0.465195  0.294771  0.210755  0.140421  0.083549   \n",
       "\n",
       "      400.0     450.0     500.0     550.0     600.0     650.0     700.0  \\\n",
       "0  0.057034  0.029151  0.016064 -0.000391  0.003096  0.011395  0.059319   \n",
       "\n",
       "      750.0     800.0     850.0    900.0  \n",
       "0  0.034018  0.159442  0.209426  0.24242  "
      ]
     },
     "execution_count": 29,
     "metadata": {},
     "output_type": "execute_result"
    }
   ],
   "source": [
    "p_guess_df2"
   ]
  },
  {
   "cell_type": "markdown",
   "metadata": {},
   "source": [
    "## 3. Inhibition function (p(respond|SSD))"
   ]
  },
  {
   "cell_type": "code",
   "execution_count": 30,
   "metadata": {},
   "outputs": [],
   "source": [
    "def get_p_resp_per_SSD(data, SSDs):\n",
    "    data = data.copy()\n",
    "    out_dict = {}\n",
    "    for ssd in SSDs:\n",
    "        curr_data = data.query(\n",
    "            \"SSDDur == %s\" % ssd\n",
    "        )\n",
    "        if len(curr_data) == 0:\n",
    "            out_dict[ssd] = np.nan\n",
    "        else:\n",
    "            out_dict[ssd] = len(curr_data.query(\"correct_stop == 0.0\")) / len(curr_data)\n",
    "    return out_dict"
   ]
  },
  {
   "cell_type": "code",
   "execution_count": 31,
   "metadata": {},
   "outputs": [],
   "source": [
    "abcd_data = pd.read_csv('abcd_data/minimal_abcd_clean.csv')\n",
    "SSDs = [i for i in abcd_data.SSDDur.unique() if i==i]\n",
    "ssd_resp_dict = abcd_data.groupby('NARGUID').apply(get_p_resp_per_SSD, SSDs)\n",
    "ssd_resp_df = ssd_resp_dict.apply(pd.Series)"
   ]
  },
  {
   "cell_type": "code",
   "execution_count": 32,
   "metadata": {},
   "outputs": [],
   "source": [
    "ssd_resp_melt = ssd_resp_df.reset_index().melt(id_vars='NARGUID', value_vars=ssd_resp_df.columns, var_name='SSD', value_name='p_respond' )\n",
    "ssd_resp_melt['underlying distribution'] = 'ABCD data'\n",
    "ssd_resp_melt.to_csv('abcd_data/abcd_inhib_func_per_sub.csv', index=False)"
   ]
  },
  {
   "cell_type": "code",
   "execution_count": 33,
   "metadata": {},
   "outputs": [],
   "source": [
    "abcd_inhib_func = pd.DataFrame(ssd_resp_df.mean())\n",
    "abcd_inhib_func.index.name = 'SSD'\n",
    "abcd_inhib_func.columns = ['p_respond']\n",
    "abcd_inhib_func = abcd_inhib_func.reset_index()\n",
    "abcd_inhib_func['underlying distribution'] = 'ABCD data'"
   ]
  },
  {
   "cell_type": "code",
   "execution_count": 34,
   "metadata": {},
   "outputs": [],
   "source": [
    "abcd_inhib_func.to_csv('abcd_data/abcd_inhib_func.csv', index=False)"
   ]
  },
  {
   "cell_type": "markdown",
   "metadata": {},
   "source": [
    "## 4. build run_sims.sh"
   ]
  },
  {
   "cell_type": "code",
   "execution_count": 35,
   "metadata": {},
   "outputs": [],
   "source": [
    "abcd_data = pd.read_csv('abcd_data/minimal_abcd_clean.csv')"
   ]
  },
  {
   "cell_type": "code",
   "execution_count": 36,
   "metadata": {},
   "outputs": [],
   "source": [
    "narguids = abcd_data.NARGUID.unique()"
   ]
  },
  {
   "cell_type": "code",
   "execution_count": 37,
   "metadata": {},
   "outputs": [
    {
     "data": {
      "text/plain": [
       "172"
      ]
     },
     "execution_count": 37,
     "metadata": {},
     "output_type": "execute_result"
    }
   ],
   "source": [
    "nsubs_per_job = 48\n",
    "njobs_per_node = 36\n",
    "nlines = 0\n",
    "with open('run_sims.sh', 'w') as f:\n",
    "    for start_idx in range(0, len(narguids), nsubs_per_job):\n",
    "        end_idx = start_idx + nsubs_per_job\n",
    "        if end_idx > len(narguids):\n",
    "            end_idx = len(narguids)\n",
    "        substr = ' '.join(narguids[start_idx:end_idx])\n",
    "        f.write(f'python simulate_individuals.py --subjects {substr}\\n')\n",
    "        nlines += 1\n",
    "nlines"
   ]
  },
  {
   "cell_type": "code",
   "execution_count": 38,
   "metadata": {},
   "outputs": [
    {
     "name": "stdout",
     "output_type": "stream",
     "text": [
      "#SBATCH -N 5 # number of nodes requested - set to ceil(n rows in command script / 36)\n",
      "\n",
      "#SBATCH -n 172 # total number of mpi tasks requested - set to n rows in command script\n",
      "\n"
     ]
    }
   ],
   "source": [
    "N_line_str = '#SBATCH -N %d # number of nodes requested - set to ceil(n rows in command script / 36)\\n' % int(np.ceil(nlines/njobs_per_node))\n",
    "n_line_str = '#SBATCH -n %s # total number of mpi tasks requested - set to n rows in command script\\n' % nlines\n",
    "\n",
    "replace(\n",
    "    'launch_sim_cmds.slurm',\n",
    "    '#SBATCH -N',\n",
    "    N_line_str)\n",
    "replace(\n",
    "    'launch_sim_cmds.slurm',\n",
    "    '#SBATCH -n',\n",
    "    n_line_str)\n",
    "# prints so you can compare the lines of the slurm file\n",
    "print(N_line_str)\n",
    "print(n_line_str)"
   ]
  },
  {
   "cell_type": "code",
   "execution_count": 39,
   "metadata": {},
   "outputs": [],
   "source": [
    "# Sherlock version\n",
    "\n",
    "sher_sim_file = 'sherlock_run_sims.batch'\n",
    "\n",
    "N_line_str = '#SBATCH -N=%d # number of nodes requested - set to ceil(n rows in command script / 36)\\n' % int(np.ceil(nlines/njobs_per_node))\n",
    "n_line_str = '#SBATCH -n=%s # total number of mpi tasks requested - set to n rows in command script\\n' % nlines\n",
    "\n",
    "replace(\n",
    "    sher_sim_file,\n",
    "    '#SBATCH -N',\n",
    "    N_line_str)\n",
    "replace(\n",
    "    sher_sim_file,\n",
    "    '#SBATCH -n',\n",
    "    n_line_str)"
   ]
  },
  {
   "cell_type": "code",
   "execution_count": 42,
   "metadata": {},
   "outputs": [
    {
     "data": {
      "text/plain": [
       "172"
      ]
     },
     "execution_count": 42,
     "metadata": {},
     "output_type": "execute_result"
    }
   ],
   "source": [
    "nsubs_per_job = 48\n",
    "njobs_per_node = 24\n",
    "nlines = 0\n",
    "with open(sher_sim_file, 'a') as f:\n",
    "    for start_idx in range(0, len(narguids), nsubs_per_job):\n",
    "        end_idx = start_idx + nsubs_per_job\n",
    "        if end_idx > len(narguids):\n",
    "            end_idx = len(narguids)\n",
    "        substr = ' '.join(narguids[start_idx:end_idx])\n",
    "        f.write(f'eval \"python simulate_individuals.py --subjects {substr}\" &\\n')\n",
    "        nlines += 1\n",
    "nlines"
   ]
  },
  {
   "cell_type": "code",
   "execution_count": null,
   "metadata": {},
   "outputs": [],
   "source": []
  }
 ],
 "metadata": {
  "kernelspec": {
   "display_name": "Python 3",
   "language": "python",
   "name": "python3"
  },
  "language_info": {
   "codemirror_mode": {
    "name": "ipython",
    "version": 3
   },
   "file_extension": ".py",
   "mimetype": "text/x-python",
   "name": "python",
   "nbconvert_exporter": "python",
   "pygments_lexer": "ipython3",
   "version": "3.7.3"
  }
 },
 "nbformat": 4,
 "nbformat_minor": 4
}
