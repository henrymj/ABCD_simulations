{
 "cells": [
  {
   "cell_type": "code",
   "execution_count": 1,
   "metadata": {},
   "outputs": [],
   "source": [
    "import json\n",
    "import numpy as np\n",
    "import pandas as pd\n",
    "from sympy.solvers import solve\n",
    "from sympy import Symbol\n",
    "import scipy.stats as sstats\n",
    "\n",
    "from utils import SimulateData\n",
    "from stopsignalmetrics import SSRTmodel, StopData"
   ]
  },
  {
   "cell_type": "markdown",
   "metadata": {},
   "source": [
    "# __Preprocessing__"
   ]
  },
  {
   "cell_type": "markdown",
   "metadata": {},
   "source": [
    "## 1. Prepare data for use by stopsignalmetrics"
   ]
  },
  {
   "cell_type": "code",
   "execution_count": 2,
   "metadata": {},
   "outputs": [],
   "source": [
    "abcd_data = pd.read_csv('abcd_data/minimal_abcd_raw.csv')"
   ]
  },
  {
   "cell_type": "code",
   "execution_count": 3,
   "metadata": {},
   "outputs": [],
   "source": [
    "for rt_col in ['go_rt_adjusted', 'stop_rt_adjusted']:\n",
    "    abcd_data.loc[abcd_data['finger_press'].isnull(), rt_col] = np.nan"
   ]
  },
  {
   "cell_type": "code",
   "execution_count": 4,
   "metadata": {},
   "outputs": [],
   "source": [
    "abcd_data['block'] = np.NaN\n",
    "abcd_data.loc[abcd_data['TrialNum'] < 180, 'block'] = '1'\n",
    "abcd_data.loc[abcd_data['TrialNum'] >= 180, 'block'] = '2'"
   ]
  },
  {
   "cell_type": "code",
   "execution_count": 5,
   "metadata": {},
   "outputs": [],
   "source": [
    "abcd_data['choice_accuracy'] = np.where(\n",
    "    abcd_data['finger_press'].notnull(),\n",
    "    np.where(\n",
    "        abcd_data['finger_press']==abcd_data['correct_response'],\n",
    "        1,\n",
    "        0),\n",
    "    np.nan\n",
    ")"
   ]
  },
  {
   "cell_type": "code",
   "execution_count": 6,
   "metadata": {},
   "outputs": [],
   "source": [
    "abcd_data.to_csv('abcd_data/minimal_abcd_with_issue_3.csv', index=False)"
   ]
  },
  {
   "cell_type": "markdown",
   "metadata": {},
   "source": [
    "## 2. Drop Issue 3 people"
   ]
  },
  {
   "cell_type": "code",
   "execution_count": 7,
   "metadata": {},
   "outputs": [],
   "source": [
    "abcd_data_w_issue_3 = pd.read_csv('abcd_data/minimal_abcd_with_issue_3.csv')"
   ]
  },
  {
   "cell_type": "code",
   "execution_count": 8,
   "metadata": {},
   "outputs": [
    {
     "name": "stdout",
     "output_type": "stream",
     "text": [
      "n affected: 197\n",
      "p affect: 0.027243811367722307\n",
      "n remaining: 7034\n"
     ]
    }
   ],
   "source": [
    "issue_3_people = abcd_data_w_issue_3.loc[(abcd_data_w_issue_3['stop_rt_adjusted'] < 50) & (abcd_data_w_issue_3['stop_rt_adjusted'] > 0) & (abcd_data_w_issue_3['SSDDur'] ==50), 'NARGUID'].unique()\n",
    "\n",
    "print('n affected:', len(issue_3_people))\n",
    "print('p affect:', len(issue_3_people)/ 7231)\n",
    "\n",
    "abcd_data = abcd_data_w_issue_3[~abcd_data_w_issue_3.NARGUID.isin(issue_3_people)].copy()\n",
    "print('n remaining:', abcd_data.NARGUID.nunique())"
   ]
  },
  {
   "cell_type": "code",
   "execution_count": 9,
   "metadata": {},
   "outputs": [],
   "source": [
    "abcd_data.to_csv('abcd_data/minimal_abcd_clean.csv', index=False)"
   ]
  },
  {
   "cell_type": "code",
   "execution_count": 43,
   "metadata": {},
   "outputs": [
    {
     "data": {
      "text/html": [
       "<div>\n",
       "<style scoped>\n",
       "    .dataframe tbody tr th:only-of-type {\n",
       "        vertical-align: middle;\n",
       "    }\n",
       "\n",
       "    .dataframe tbody tr th {\n",
       "        vertical-align: top;\n",
       "    }\n",
       "\n",
       "    .dataframe thead th {\n",
       "        text-align: right;\n",
       "    }\n",
       "</style>\n",
       "<table border=\"1\" class=\"dataframe\">\n",
       "  <thead>\n",
       "    <tr style=\"text-align: right;\">\n",
       "      <th></th>\n",
       "      <th>NARGUID</th>\n",
       "      <th>go_rt_adjusted</th>\n",
       "      <th>stop_rt_adjusted</th>\n",
       "      <th>trial_type</th>\n",
       "      <th>SSDDur</th>\n",
       "      <th>correct_go_response</th>\n",
       "      <th>correct_stop</th>\n",
       "      <th>SSD.RESP</th>\n",
       "      <th>Fix.RESP</th>\n",
       "      <th>StopSignal.RESP</th>\n",
       "      <th>Go.RESP</th>\n",
       "      <th>TrialNum</th>\n",
       "      <th>correct_stimulus_mapping_1</th>\n",
       "      <th>correct_stimulus_mapping_2</th>\n",
       "      <th>block</th>\n",
       "      <th>finger_press</th>\n",
       "      <th>correct_response</th>\n",
       "      <th>choice_accuracy</th>\n",
       "    </tr>\n",
       "  </thead>\n",
       "  <tbody>\n",
       "    <tr>\n",
       "      <th>703440</th>\n",
       "      <td>8VA4L6RD</td>\n",
       "      <td>NaN</td>\n",
       "      <td>NaN</td>\n",
       "      <td>GoTrial</td>\n",
       "      <td>NaN</td>\n",
       "      <td>0.0</td>\n",
       "      <td>NaN</td>\n",
       "      <td>NaN</td>\n",
       "      <td>NaN</td>\n",
       "      <td>NaN</td>\n",
       "      <td>NaN</td>\n",
       "      <td>1</td>\n",
       "      <td>4.0</td>\n",
       "      <td>1.0</td>\n",
       "      <td>1</td>\n",
       "      <td>NaN</td>\n",
       "      <td>4.0</td>\n",
       "      <td>NaN</td>\n",
       "    </tr>\n",
       "    <tr>\n",
       "      <th>703441</th>\n",
       "      <td>8VA4L6RD</td>\n",
       "      <td>920.0</td>\n",
       "      <td>NaN</td>\n",
       "      <td>GoTrial</td>\n",
       "      <td>NaN</td>\n",
       "      <td>0.0</td>\n",
       "      <td>NaN</td>\n",
       "      <td>NaN</td>\n",
       "      <td>NaN</td>\n",
       "      <td>NaN</td>\n",
       "      <td>1.0</td>\n",
       "      <td>2</td>\n",
       "      <td>3.0</td>\n",
       "      <td>2.0</td>\n",
       "      <td>1</td>\n",
       "      <td>4.0</td>\n",
       "      <td>3.0</td>\n",
       "      <td>0.0</td>\n",
       "    </tr>\n",
       "    <tr>\n",
       "      <th>703442</th>\n",
       "      <td>8VA4L6RD</td>\n",
       "      <td>1445.0</td>\n",
       "      <td>NaN</td>\n",
       "      <td>GoTrial</td>\n",
       "      <td>NaN</td>\n",
       "      <td>1.0</td>\n",
       "      <td>NaN</td>\n",
       "      <td>NaN</td>\n",
       "      <td>2.0</td>\n",
       "      <td>NaN</td>\n",
       "      <td>NaN</td>\n",
       "      <td>3</td>\n",
       "      <td>3.0</td>\n",
       "      <td>2.0</td>\n",
       "      <td>1</td>\n",
       "      <td>3.0</td>\n",
       "      <td>3.0</td>\n",
       "      <td>1.0</td>\n",
       "    </tr>\n",
       "    <tr>\n",
       "      <th>703443</th>\n",
       "      <td>8VA4L6RD</td>\n",
       "      <td>NaN</td>\n",
       "      <td>NaN</td>\n",
       "      <td>StopTrial</td>\n",
       "      <td>50.0</td>\n",
       "      <td>NaN</td>\n",
       "      <td>1.0</td>\n",
       "      <td>NaN</td>\n",
       "      <td>NaN</td>\n",
       "      <td>NaN</td>\n",
       "      <td>NaN</td>\n",
       "      <td>4</td>\n",
       "      <td>3.0</td>\n",
       "      <td>2.0</td>\n",
       "      <td>1</td>\n",
       "      <td>NaN</td>\n",
       "      <td>3.0</td>\n",
       "      <td>NaN</td>\n",
       "    </tr>\n",
       "    <tr>\n",
       "      <th>703444</th>\n",
       "      <td>8VA4L6RD</td>\n",
       "      <td>725.0</td>\n",
       "      <td>NaN</td>\n",
       "      <td>GoTrial</td>\n",
       "      <td>NaN</td>\n",
       "      <td>1.0</td>\n",
       "      <td>NaN</td>\n",
       "      <td>NaN</td>\n",
       "      <td>NaN</td>\n",
       "      <td>NaN</td>\n",
       "      <td>1.0</td>\n",
       "      <td>5</td>\n",
       "      <td>4.0</td>\n",
       "      <td>1.0</td>\n",
       "      <td>1</td>\n",
       "      <td>4.0</td>\n",
       "      <td>4.0</td>\n",
       "      <td>1.0</td>\n",
       "    </tr>\n",
       "    <tr>\n",
       "      <th>...</th>\n",
       "      <td>...</td>\n",
       "      <td>...</td>\n",
       "      <td>...</td>\n",
       "      <td>...</td>\n",
       "      <td>...</td>\n",
       "      <td>...</td>\n",
       "      <td>...</td>\n",
       "      <td>...</td>\n",
       "      <td>...</td>\n",
       "      <td>...</td>\n",
       "      <td>...</td>\n",
       "      <td>...</td>\n",
       "      <td>...</td>\n",
       "      <td>...</td>\n",
       "      <td>...</td>\n",
       "      <td>...</td>\n",
       "      <td>...</td>\n",
       "      <td>...</td>\n",
       "    </tr>\n",
       "    <tr>\n",
       "      <th>703795</th>\n",
       "      <td>8VA4L6RD</td>\n",
       "      <td>NaN</td>\n",
       "      <td>NaN</td>\n",
       "      <td>GoTrial</td>\n",
       "      <td>NaN</td>\n",
       "      <td>0.0</td>\n",
       "      <td>NaN</td>\n",
       "      <td>NaN</td>\n",
       "      <td>NaN</td>\n",
       "      <td>NaN</td>\n",
       "      <td>NaN</td>\n",
       "      <td>356</td>\n",
       "      <td>4.0</td>\n",
       "      <td>1.0</td>\n",
       "      <td>2</td>\n",
       "      <td>NaN</td>\n",
       "      <td>4.0</td>\n",
       "      <td>NaN</td>\n",
       "    </tr>\n",
       "    <tr>\n",
       "      <th>703796</th>\n",
       "      <td>8VA4L6RD</td>\n",
       "      <td>NaN</td>\n",
       "      <td>NaN</td>\n",
       "      <td>GoTrial</td>\n",
       "      <td>NaN</td>\n",
       "      <td>0.0</td>\n",
       "      <td>NaN</td>\n",
       "      <td>NaN</td>\n",
       "      <td>NaN</td>\n",
       "      <td>NaN</td>\n",
       "      <td>NaN</td>\n",
       "      <td>357</td>\n",
       "      <td>3.0</td>\n",
       "      <td>2.0</td>\n",
       "      <td>2</td>\n",
       "      <td>NaN</td>\n",
       "      <td>3.0</td>\n",
       "      <td>NaN</td>\n",
       "    </tr>\n",
       "    <tr>\n",
       "      <th>703797</th>\n",
       "      <td>8VA4L6RD</td>\n",
       "      <td>NaN</td>\n",
       "      <td>NaN</td>\n",
       "      <td>GoTrial</td>\n",
       "      <td>NaN</td>\n",
       "      <td>0.0</td>\n",
       "      <td>NaN</td>\n",
       "      <td>NaN</td>\n",
       "      <td>NaN</td>\n",
       "      <td>NaN</td>\n",
       "      <td>NaN</td>\n",
       "      <td>358</td>\n",
       "      <td>4.0</td>\n",
       "      <td>1.0</td>\n",
       "      <td>2</td>\n",
       "      <td>NaN</td>\n",
       "      <td>4.0</td>\n",
       "      <td>NaN</td>\n",
       "    </tr>\n",
       "    <tr>\n",
       "      <th>703798</th>\n",
       "      <td>8VA4L6RD</td>\n",
       "      <td>NaN</td>\n",
       "      <td>NaN</td>\n",
       "      <td>StopTrial</td>\n",
       "      <td>900.0</td>\n",
       "      <td>NaN</td>\n",
       "      <td>1.0</td>\n",
       "      <td>NaN</td>\n",
       "      <td>NaN</td>\n",
       "      <td>NaN</td>\n",
       "      <td>NaN</td>\n",
       "      <td>359</td>\n",
       "      <td>4.0</td>\n",
       "      <td>1.0</td>\n",
       "      <td>2</td>\n",
       "      <td>NaN</td>\n",
       "      <td>4.0</td>\n",
       "      <td>NaN</td>\n",
       "    </tr>\n",
       "    <tr>\n",
       "      <th>703799</th>\n",
       "      <td>8VA4L6RD</td>\n",
       "      <td>NaN</td>\n",
       "      <td>NaN</td>\n",
       "      <td>GoTrial</td>\n",
       "      <td>NaN</td>\n",
       "      <td>0.0</td>\n",
       "      <td>NaN</td>\n",
       "      <td>NaN</td>\n",
       "      <td>NaN</td>\n",
       "      <td>NaN</td>\n",
       "      <td>NaN</td>\n",
       "      <td>360</td>\n",
       "      <td>3.0</td>\n",
       "      <td>2.0</td>\n",
       "      <td>2</td>\n",
       "      <td>NaN</td>\n",
       "      <td>3.0</td>\n",
       "      <td>NaN</td>\n",
       "    </tr>\n",
       "  </tbody>\n",
       "</table>\n",
       "<p>360 rows × 18 columns</p>\n",
       "</div>"
      ],
      "text/plain": [
       "         NARGUID  go_rt_adjusted  stop_rt_adjusted trial_type  SSDDur  \\\n",
       "703440  8VA4L6RD             NaN               NaN    GoTrial     NaN   \n",
       "703441  8VA4L6RD           920.0               NaN    GoTrial     NaN   \n",
       "703442  8VA4L6RD          1445.0               NaN    GoTrial     NaN   \n",
       "703443  8VA4L6RD             NaN               NaN  StopTrial    50.0   \n",
       "703444  8VA4L6RD           725.0               NaN    GoTrial     NaN   \n",
       "...          ...             ...               ...        ...     ...   \n",
       "703795  8VA4L6RD             NaN               NaN    GoTrial     NaN   \n",
       "703796  8VA4L6RD             NaN               NaN    GoTrial     NaN   \n",
       "703797  8VA4L6RD             NaN               NaN    GoTrial     NaN   \n",
       "703798  8VA4L6RD             NaN               NaN  StopTrial   900.0   \n",
       "703799  8VA4L6RD             NaN               NaN    GoTrial     NaN   \n",
       "\n",
       "        correct_go_response  correct_stop  SSD.RESP  Fix.RESP  \\\n",
       "703440                  0.0           NaN       NaN       NaN   \n",
       "703441                  0.0           NaN       NaN       NaN   \n",
       "703442                  1.0           NaN       NaN       2.0   \n",
       "703443                  NaN           1.0       NaN       NaN   \n",
       "703444                  1.0           NaN       NaN       NaN   \n",
       "...                     ...           ...       ...       ...   \n",
       "703795                  0.0           NaN       NaN       NaN   \n",
       "703796                  0.0           NaN       NaN       NaN   \n",
       "703797                  0.0           NaN       NaN       NaN   \n",
       "703798                  NaN           1.0       NaN       NaN   \n",
       "703799                  0.0           NaN       NaN       NaN   \n",
       "\n",
       "        StopSignal.RESP  Go.RESP  TrialNum  correct_stimulus_mapping_1  \\\n",
       "703440              NaN      NaN         1                         4.0   \n",
       "703441              NaN      1.0         2                         3.0   \n",
       "703442              NaN      NaN         3                         3.0   \n",
       "703443              NaN      NaN         4                         3.0   \n",
       "703444              NaN      1.0         5                         4.0   \n",
       "...                 ...      ...       ...                         ...   \n",
       "703795              NaN      NaN       356                         4.0   \n",
       "703796              NaN      NaN       357                         3.0   \n",
       "703797              NaN      NaN       358                         4.0   \n",
       "703798              NaN      NaN       359                         4.0   \n",
       "703799              NaN      NaN       360                         3.0   \n",
       "\n",
       "        correct_stimulus_mapping_2  block  finger_press  correct_response  \\\n",
       "703440                         1.0      1           NaN               4.0   \n",
       "703441                         2.0      1           4.0               3.0   \n",
       "703442                         2.0      1           3.0               3.0   \n",
       "703443                         2.0      1           NaN               3.0   \n",
       "703444                         1.0      1           4.0               4.0   \n",
       "...                            ...    ...           ...               ...   \n",
       "703795                         1.0      2           NaN               4.0   \n",
       "703796                         2.0      2           NaN               3.0   \n",
       "703797                         1.0      2           NaN               4.0   \n",
       "703798                         1.0      2           NaN               4.0   \n",
       "703799                         2.0      2           NaN               3.0   \n",
       "\n",
       "        choice_accuracy  \n",
       "703440              NaN  \n",
       "703441              0.0  \n",
       "703442              1.0  \n",
       "703443              NaN  \n",
       "703444              1.0  \n",
       "...                 ...  \n",
       "703795              NaN  \n",
       "703796              NaN  \n",
       "703797              NaN  \n",
       "703798              NaN  \n",
       "703799              NaN  \n",
       "\n",
       "[360 rows x 18 columns]"
      ]
     },
     "execution_count": 43,
     "metadata": {},
     "output_type": "execute_result"
    }
   ],
   "source": [
    "abcd_data.query(\"NARGUID == '8VA4L6RD'\")"
   ]
  },
  {
   "cell_type": "markdown",
   "metadata": {},
   "source": [
    "# __Metrics for Simulation__"
   ]
  },
  {
   "cell_type": "markdown",
   "metadata": {},
   "source": [
    "## 1. Find mu_go and mu_stop for each individual using their mean Go RT and their SSRT"
   ]
  },
  {
   "cell_type": "code",
   "execution_count": 10,
   "metadata": {},
   "outputs": [],
   "source": [
    "variable_dict = {\n",
    "   \"columns\": {\n",
    "      \"ID\": \"NARGUID\", #subject identifier\n",
    "      \"condition\": \"trial_type\", #col with trial types \n",
    "      \"correct_response\": \"correct_response\", #col with correct reponse codes\n",
    "      \"response\": \"finger_press\", #col with actual response codes \n",
    "      \"SSD\": \"SSDDur\", #col with stop signal delay \n",
    "      \"block\": \"block\", #col with which block a trial is accuring during\n",
    "      \"goRT\": \"go_rt_adjusted\", # col with go reaction time recording \n",
    "      \"stopRT\": \"stop_rt_adjusted\", #col with stop failure reaction time recording\n",
    "      \"choice_accuracy\": \"choice_accuracy\" #col with whether a response was correct\n",
    "   },\n",
    "   \"key_codes\": {\n",
    "      \"go\": \"GoTrial\", # cell values for go trials  \n",
    "      \"stop\": \"StopTrial\",  #cell values for stop trials \n",
    "      \"correct\": 1.0,\n",
    "       \"incorrect\": 0.0,\n",
    "       \"noResponse\": np.nan\n",
    "   }\n",
    "}"
   ]
  },
  {
   "cell_type": "code",
   "execution_count": 51,
   "metadata": {},
   "outputs": [
    {
     "name": "stdout",
     "output_type": "stream",
     "text": [
      "dropping 3 subs for having P(respond|signal) == 1 or 0\n"
     ]
    }
   ],
   "source": [
    "abcd_ssrt = StopData(var_dict=variable_dict, compute_acc_col=False)\n",
    "\n",
    "abcd_proc = abcd_ssrt.fit_transform(abcd_data) \n",
    "\n",
    "ssrt_model = SSRTmodel(model='replacement')\n",
    "\n",
    "ssrt_metrics = ssrt_model.fit_transform(abcd_proc, level='group')\n",
    "\n",
    "problem_subs = ssrt_metrics[ssrt_metrics.SSRT.isnull()].index\n",
    "\n",
    "print(f'dropping {len(problem_subs)} subs for having P(respond|signal) == 1 or 0')\n",
    "\n",
    "ssrt_metrics = ssrt_metrics[ssrt_metrics.SSRT.notnull()].copy()"
   ]
  },
  {
   "cell_type": "code",
   "execution_count": 52,
   "metadata": {},
   "outputs": [
    {
     "data": {
      "text/plain": [
       "Index(['8VA4L6RD', 'AF517NF3', 'U1THG28C'], dtype='object', name='ID')"
      ]
     },
     "execution_count": 52,
     "metadata": {},
     "output_type": "execute_result"
    }
   ],
   "source": [
    "v"
   ]
  },
  {
   "cell_type": "code",
   "execution_count": 12,
   "metadata": {},
   "outputs": [],
   "source": [
    "def get_mus(sub_row):\n",
    "    sub_row = sub_row.copy()\n",
    "    mu_dict = {}\n",
    "    # init go and stop vars\n",
    "    g = Symbol('g')\n",
    "    s = Symbol('s')\n",
    "    \n",
    "    # formulas (must be solved as \"expression = 0\")\n",
    "    # subject_{go/ss}rt = threshold/mu_go + nondecision_time\n",
    "    # threshold = 100\n",
    "    # nondecision_time = 50\n",
    "    \n",
    "    go_sol = solve(100/g + 50 - sub_row['mean_go_RT'].values[0], g)\n",
    "    assert len(go_sol) == 1, f\"{len(go_sol)} solutions found based on {sub_row['mean_go_RT']}: {go_sol}\"\n",
    "    mu_dict['go'] = float(go_sol[0])\n",
    "    \n",
    "    stop_sol = solve(100/s + 50 - sub_row['SSRT'].values[0], s)\n",
    "    assert len(stop_sol) == 1, f\"{len(stop_sol)} solutions found based on {sub_row['SSRT']}: {stop_sol}\"\n",
    "    mu_dict['stop'] = float(stop_sol[0])\n",
    "    \n",
    "    return mu_dict\n",
    "\n",
    "mu_df = ssrt_metrics.groupby('ID').apply(get_mus)\n",
    "mu_dict = mu_df.to_dict()\n",
    "mu_dict['prob_subs'] = list(problem_subs)"
   ]
  },
  {
   "cell_type": "code",
   "execution_count": 56,
   "metadata": {},
   "outputs": [],
   "source": [
    "json_mu_path = 'abcd_data/individual_mus.json'\n",
    "with open(json_mu_path, 'w') as jp:\n",
    "    json.dump(mu_dict, jp)"
   ]
  },
  {
   "cell_type": "markdown",
   "metadata": {},
   "source": [
    "## 1. get SSD distributions per subject"
   ]
  },
  {
   "cell_type": "code",
   "execution_count": 15,
   "metadata": {},
   "outputs": [],
   "source": [
    "abcd_data = pd.read_csv('abcd_data/minimal_abcd_clean.csv')"
   ]
  },
  {
   "cell_type": "code",
   "execution_count": 16,
   "metadata": {},
   "outputs": [],
   "source": [
    "SSD_dist = abcd_data.groupby('NARGUID')['SSDDur'].value_counts(normalize=True)\n",
    "SSD_dist.name = 'proportion'\n",
    "SSD_dist = SSD_dist.reset_index()"
   ]
  },
  {
   "cell_type": "code",
   "execution_count": 17,
   "metadata": {},
   "outputs": [],
   "source": [
    "SSD_dist.to_csv('abcd_data/SSD_dist_by_subj.csv', index=False)"
   ]
  },
  {
   "cell_type": "markdown",
   "metadata": {},
   "source": [
    "## 2. P(guess|SSD) for mixture distributions"
   ]
  },
  {
   "cell_type": "code",
   "execution_count": 18,
   "metadata": {},
   "outputs": [],
   "source": [
    "abcd_data = pd.read_csv('abcd_data/minimal_abcd_clean.csv')\n",
    "SSDs = abcd_data.SSDDur.unique()\n",
    "SSDs = [i for i in SSDs if i == i]\n",
    "SSDs.sort()"
   ]
  },
  {
   "cell_type": "code",
   "execution_count": 19,
   "metadata": {},
   "outputs": [],
   "source": [
    "acc_per_SSD = pd.DataFrame()\n",
    "for ssd in SSDs:\n",
    "    curr_means = abcd_data.query(\n",
    "        \"SSDDur == %s and correct_stop==0.0\" % ssd\n",
    "    ).groupby('NARGUID').mean()['choice_accuracy']\n",
    "    curr_means.name = ssd\n",
    "    acc_per_SSD = pd.concat([acc_per_SSD, curr_means], 1, sort=True)\n",
    "\n",
    "go_accs = abcd_data.query(\n",
    "        \"trial_type == 'GoTrial' and correct_go_response in [1.0, 0.0]\"\n",
    "    ).groupby('NARGUID').mean()['choice_accuracy']\n",
    "go_accs.name = -1\n",
    "acc_per_SSD = pd.concat([acc_per_SSD, go_accs], 1, sort=True)"
   ]
  },
  {
   "cell_type": "code",
   "execution_count": 20,
   "metadata": {},
   "outputs": [],
   "source": [
    "p = Symbol('p')\n",
    "guess_mean = acc_per_SSD.mean()[0.0]\n",
    "go_mean = acc_per_SSD.mean()[-1]\n",
    "p_guess_per_SSD = {}\n",
    "for ssd in SSDs:\n",
    "    curr_mean = acc_per_SSD.mean()[ssd]\n",
    "    solution = solve(p*guess_mean + (1-p)*go_mean - curr_mean, p)\n",
    "    assert len(solution) == 1\n",
    "    p_guess_per_SSD[ssd] = solution[0]\n",
    "p_guess_df = pd.DataFrame(p_guess_per_SSD, index=['p_guess'])\n",
    "p_guess_df.to_csv('abcd_data/p_guess_per_ssd.csv', index=False)"
   ]
  },
  {
   "cell_type": "code",
   "execution_count": 21,
   "metadata": {},
   "outputs": [
    {
     "data": {
      "text/plain": [
       "{0.0: 1.0,\n",
       " 50.0: 0.8453013488292931,\n",
       " 100.0: 0.6106228257832641,\n",
       " 150.0: 0.45284195418821765,\n",
       " 200.0: 0.29414701140670046,\n",
       " 250.0: 0.20099792299390123,\n",
       " 300.0: 0.14331766365641904,\n",
       " 350.0: 0.07989464664779473,\n",
       " 400.0: 0.05646833343690329,\n",
       " 450.0: 0.0271712158267143,\n",
       " 500.0: 0.01912138134256117,\n",
       " 550.0: -0.0013543997871993934,\n",
       " 600.0: 0.005733602200019834,\n",
       " 650.0: -0.0034938217706060315,\n",
       " 700.0: 0.07486036991100674,\n",
       " 750.0: 0.035672034056798016,\n",
       " 800.0: 0.18566915102381398,\n",
       " 850.0: 0.15647354045123857,\n",
       " 900.0: 0.2691110670854924}"
      ]
     },
     "execution_count": 21,
     "metadata": {},
     "output_type": "execute_result"
    }
   ],
   "source": [
    "{col: float(p_guess_df[col].values[0]) for col\n",
    "                      in p_guess_df.columns}"
   ]
  },
  {
   "cell_type": "code",
   "execution_count": 22,
   "metadata": {},
   "outputs": [],
   "source": [
    "p_guess_df2 = pd.read_csv('abcd_data/p_guess_per_ssd.csv')"
   ]
  },
  {
   "cell_type": "code",
   "execution_count": 23,
   "metadata": {},
   "outputs": [
    {
     "data": {
      "text/html": [
       "<div>\n",
       "<style scoped>\n",
       "    .dataframe tbody tr th:only-of-type {\n",
       "        vertical-align: middle;\n",
       "    }\n",
       "\n",
       "    .dataframe tbody tr th {\n",
       "        vertical-align: top;\n",
       "    }\n",
       "\n",
       "    .dataframe thead th {\n",
       "        text-align: right;\n",
       "    }\n",
       "</style>\n",
       "<table border=\"1\" class=\"dataframe\">\n",
       "  <thead>\n",
       "    <tr style=\"text-align: right;\">\n",
       "      <th></th>\n",
       "      <th>0.0</th>\n",
       "      <th>50.0</th>\n",
       "      <th>100.0</th>\n",
       "      <th>150.0</th>\n",
       "      <th>200.0</th>\n",
       "      <th>250.0</th>\n",
       "      <th>300.0</th>\n",
       "      <th>350.0</th>\n",
       "      <th>400.0</th>\n",
       "      <th>450.0</th>\n",
       "      <th>500.0</th>\n",
       "      <th>550.0</th>\n",
       "      <th>600.0</th>\n",
       "      <th>650.0</th>\n",
       "      <th>700.0</th>\n",
       "      <th>750.0</th>\n",
       "      <th>800.0</th>\n",
       "      <th>850.0</th>\n",
       "      <th>900.0</th>\n",
       "    </tr>\n",
       "  </thead>\n",
       "  <tbody>\n",
       "    <tr>\n",
       "      <th>0</th>\n",
       "      <td>1.0</td>\n",
       "      <td>0.845301</td>\n",
       "      <td>0.610623</td>\n",
       "      <td>0.452842</td>\n",
       "      <td>0.294147</td>\n",
       "      <td>0.200998</td>\n",
       "      <td>0.143318</td>\n",
       "      <td>0.079895</td>\n",
       "      <td>0.056468</td>\n",
       "      <td>0.027171</td>\n",
       "      <td>0.019121</td>\n",
       "      <td>-0.001354</td>\n",
       "      <td>0.005734</td>\n",
       "      <td>-0.003494</td>\n",
       "      <td>0.07486</td>\n",
       "      <td>0.035672</td>\n",
       "      <td>0.185669</td>\n",
       "      <td>0.156474</td>\n",
       "      <td>0.269111</td>\n",
       "    </tr>\n",
       "  </tbody>\n",
       "</table>\n",
       "</div>"
      ],
      "text/plain": [
       "   0.0      50.0     100.0     150.0     200.0     250.0     300.0     350.0  \\\n",
       "0  1.0  0.845301  0.610623  0.452842  0.294147  0.200998  0.143318  0.079895   \n",
       "\n",
       "      400.0     450.0     500.0     550.0     600.0     650.0    700.0  \\\n",
       "0  0.056468  0.027171  0.019121 -0.001354  0.005734 -0.003494  0.07486   \n",
       "\n",
       "      750.0     800.0     850.0     900.0  \n",
       "0  0.035672  0.185669  0.156474  0.269111  "
      ]
     },
     "execution_count": 23,
     "metadata": {},
     "output_type": "execute_result"
    }
   ],
   "source": [
    "p_guess_df2"
   ]
  },
  {
   "cell_type": "code",
   "execution_count": 24,
   "metadata": {},
   "outputs": [
    {
     "data": {
      "text/plain": [
       "1.0"
      ]
     },
     "execution_count": 24,
     "metadata": {},
     "output_type": "execute_result"
    }
   ],
   "source": [
    "{float(col): float(p_guess_df[col].values[0]) for col\n",
    "                      in p_guess_df.columns}[0.0]"
   ]
  },
  {
   "cell_type": "markdown",
   "metadata": {},
   "source": [
    "## 3. Inhibition function (p(respond|SSD))"
   ]
  },
  {
   "cell_type": "code",
   "execution_count": 25,
   "metadata": {},
   "outputs": [],
   "source": [
    "def get_p_resp_per_SSD(data, SSDs):\n",
    "    data = data.copy()\n",
    "    out_dict = {}\n",
    "    for ssd in SSDs:\n",
    "        curr_data = data.query(\n",
    "            \"SSDDur == %s\" % ssd\n",
    "        )\n",
    "        if len(curr_data) == 0:\n",
    "            out_dict[ssd] = np.nan\n",
    "        else:\n",
    "            out_dict[ssd] = len(curr_data.query(\"correct_stop == 0.0\")) / len(curr_data)\n",
    "    return out_dict"
   ]
  },
  {
   "cell_type": "code",
   "execution_count": 26,
   "metadata": {},
   "outputs": [],
   "source": [
    "abcd_data = pd.read_csv('abcd_data/minimal_abcd_clean.csv')\n",
    "SSDs = [i for i in abcd_data.SSDDur.unique() if i==i]\n",
    "ssd_resp_dict = abcd_data.groupby('NARGUID').apply(get_p_resp_per_SSD, SSDs)\n",
    "ssd_resp_df = ssd_resp_dict.apply(pd.Series)"
   ]
  },
  {
   "cell_type": "code",
   "execution_count": 27,
   "metadata": {},
   "outputs": [],
   "source": [
    "ssd_resp_melt = ssd_resp_df.reset_index().melt(id_vars='NARGUID', value_vars=ssd_resp_df.columns, var_name='SSD', value_name='p_respond' )\n",
    "ssd_resp_melt['underlying distribution'] = 'ABCD data'\n",
    "ssd_resp_melt.to_csv('abcd_data/abcd_inhib_func_per_sub.csv', index=False)"
   ]
  },
  {
   "cell_type": "code",
   "execution_count": 28,
   "metadata": {},
   "outputs": [],
   "source": [
    "abcd_inhib_func = pd.DataFrame(ssd_resp_df.mean())\n",
    "abcd_inhib_func.index.name = 'SSD'\n",
    "abcd_inhib_func.columns = ['p_respond']\n",
    "abcd_inhib_func = abcd_inhib_func.reset_index()\n",
    "abcd_inhib_func['underlying distribution'] = 'ABCD data'"
   ]
  },
  {
   "cell_type": "code",
   "execution_count": 29,
   "metadata": {},
   "outputs": [],
   "source": [
    "abcd_inhib_func.to_csv('abcd_data/abcd_inhib_func.csv', index=False)"
   ]
  },
  {
   "cell_type": "markdown",
   "metadata": {},
   "source": [
    "## 4. build run_cmds.sh"
   ]
  },
  {
   "cell_type": "code",
   "execution_count": 30,
   "metadata": {},
   "outputs": [],
   "source": [
    "abcd_data = pd.read_csv('abcd_data/minimal_abcd_clean.csv')"
   ]
  },
  {
   "cell_type": "code",
   "execution_count": 31,
   "metadata": {},
   "outputs": [],
   "source": [
    "narguids = abcd_data.NARGUID.unique()"
   ]
  },
  {
   "cell_type": "code",
   "execution_count": 32,
   "metadata": {},
   "outputs": [],
   "source": [
    "nsubs_per_job = 48\n",
    "\n",
    "with open('run_all_sims.sh', 'w') as f:\n",
    "    for start_idx in range(0, len(narguids), nsubs_per_job):\n",
    "        end_idx = start_idx + nsubs_per_job\n",
    "        if end_idx > len(narguids):\n",
    "            end_idx = len(narguids)\n",
    "        substr = ' '.join(narguids[start_idx:end_idx])\n",
    "        f.write(f'python simulate_individuals.py --subjects {substr}\\n')"
   ]
  },
  {
   "cell_type": "code",
   "execution_count": 33,
   "metadata": {},
   "outputs": [
    {
     "data": {
      "text/plain": [
       "147"
      ]
     },
     "execution_count": 33,
     "metadata": {},
     "output_type": "execute_result"
    }
   ],
   "source": [
    "def file_len(fname):\n",
    "    with open(fname) as f:\n",
    "        for i, l in enumerate(f):\n",
    "            pass\n",
    "    return i + 1\n",
    "file_len('run_all_sims.sh')"
   ]
  },
  {
   "cell_type": "code",
   "execution_count": null,
   "metadata": {},
   "outputs": [],
   "source": []
  }
 ],
 "metadata": {
  "kernelspec": {
   "display_name": "Python 3",
   "language": "python",
   "name": "python3"
  },
  "language_info": {
   "codemirror_mode": {
    "name": "ipython",
    "version": 3
   },
   "file_extension": ".py",
   "mimetype": "text/x-python",
   "name": "python",
   "nbconvert_exporter": "python",
   "pygments_lexer": "ipython3",
   "version": "3.7.3"
  }
 },
 "nbformat": 4,
 "nbformat_minor": 4
}
