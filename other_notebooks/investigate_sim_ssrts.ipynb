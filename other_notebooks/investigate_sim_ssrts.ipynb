{
 "cells": [
  {
   "cell_type": "code",
   "execution_count": 3,
   "metadata": {},
   "outputs": [],
   "source": [
    "import json\n",
    "import numpy as np\n",
    "import pandas as pd\n",
    "from sympy.solvers import solve\n",
    "from sympy import Symbol\n",
    "import scipy.stats as sstats\n",
    "\n",
    "# from utils import SimulateData\n",
    "from stopsignalmetrics import SSRTmodel, StopData\n",
    "\n",
    "\n",
    "from glob import glob\n",
    "import matplotlib.pyplot as plt\n",
    "import seaborn as sns"
   ]
  },
  {
   "cell_type": "code",
   "execution_count": 4,
   "metadata": {},
   "outputs": [],
   "source": [
    "mounting_path = '/Users/henrymj/Documents/mounts/ABCD_ls5'"
   ]
  },
  {
   "cell_type": "markdown",
   "metadata": {},
   "source": [
    "## Load in abcd data and convert to stop signal metrics format"
   ]
  },
  {
   "cell_type": "code",
   "execution_count": 5,
   "metadata": {},
   "outputs": [],
   "source": [
    "abcd_data = pd.read_csv('../abcd_data/minimal_abcd_clean.csv')"
   ]
  },
  {
   "cell_type": "code",
   "execution_count": 6,
   "metadata": {},
   "outputs": [],
   "source": [
    "variable_dict = {\n",
    "   \"columns\": {\n",
    "      \"ID\": \"NARGUID\", #subject identifier\n",
    "      \"condition\": \"trial_type\", #col with trial types \n",
    "      \"correct_response\": \"correct_response\", #col with correct reponse codes\n",
    "      \"response\": \"finger_press\", #col with actual response codes \n",
    "      \"SSD\": \"SSDDur\", #col with stop signal delay \n",
    "      \"block\": \"block\", #col with which block a trial is accuring during\n",
    "      \"goRT\": \"go_rt_adjusted\", # col with go reaction time recording \n",
    "      \"stopRT\": \"stop_rt_adjusted\", #col with stop failure reaction time recording\n",
    "      \"choice_accuracy\": \"choice_accuracy\" #col with whether a response was correct\n",
    "   },\n",
    "   \"key_codes\": {\n",
    "      \"go\": \"GoTrial\", # cell values for go trials  \n",
    "      \"stop\": \"StopTrial\",  #cell values for stop trials \n",
    "      \"correct\": 1.0,\n",
    "       \"incorrect\": 0.0,\n",
    "       \"noResponse\": np.nan\n",
    "   }\n",
    "}"
   ]
  },
  {
   "cell_type": "code",
   "execution_count": 7,
   "metadata": {},
   "outputs": [
    {
     "name": "stderr",
     "output_type": "stream",
     "text": [
      "/Users/henrymj/anaconda3/lib/python3.7/site-packages/numpy/core/fromnumeric.py:3335: RuntimeWarning: Mean of empty slice.\n",
      "  out=out, **kwargs)\n",
      "/Users/henrymj/anaconda3/lib/python3.7/site-packages/numpy/core/_methods.py:161: RuntimeWarning: invalid value encountered in double_scalars\n",
      "  ret = ret.dtype.type(ret / rcount)\n"
     ]
    },
    {
     "name": "stdout",
     "output_type": "stream",
     "text": [
      "dropping 31 subs for having P(respond|signal) == 1 or 0\n"
     ]
    }
   ],
   "source": [
    "abcd_ssrt = StopData(var_dict=variable_dict, compute_acc_col=False)\n",
    "\n",
    "abcd_proc = abcd_ssrt.fit_transform(abcd_data) \n",
    "\n",
    "ssrt_model = SSRTmodel(model='replacement')\n",
    "\n",
    "ssrt_metrics = ssrt_model.fit_transform(abcd_proc, level='group')\n",
    "\n",
    "problem_subs = ssrt_metrics[ssrt_metrics.SSRT.isnull()].index\n",
    "\n",
    "print(f'dropping {len(problem_subs)} subs for having P(respond|signal) == 1 or 0')\n",
    "\n",
    "ssrt_metrics = ssrt_metrics[ssrt_metrics.SSRT.notnull()].copy()"
   ]
  },
  {
   "cell_type": "markdown",
   "metadata": {},
   "source": [
    "## Get expected SSRT and mean go from assigned mus"
   ]
  },
  {
   "cell_type": "code",
   "execution_count": 22,
   "metadata": {},
   "outputs": [
    {
     "data": {
      "text/html": [
       "<div>\n",
       "<style scoped>\n",
       "    .dataframe tbody tr th:only-of-type {\n",
       "        vertical-align: middle;\n",
       "    }\n",
       "\n",
       "    .dataframe tbody tr th {\n",
       "        vertical-align: top;\n",
       "    }\n",
       "\n",
       "    .dataframe thead th {\n",
       "        text-align: right;\n",
       "    }\n",
       "</style>\n",
       "<table border=\"1\" class=\"dataframe\">\n",
       "  <thead>\n",
       "    <tr style=\"text-align: right;\">\n",
       "      <th></th>\n",
       "      <th>goRT</th>\n",
       "      <th>go</th>\n",
       "      <th>SSRT</th>\n",
       "      <th>stop</th>\n",
       "    </tr>\n",
       "  </thead>\n",
       "  <tbody>\n",
       "    <tr>\n",
       "      <th>003RTV85</th>\n",
       "      <td>575.295505</td>\n",
       "      <td>0.190369</td>\n",
       "      <td>158.731993</td>\n",
       "      <td>0.919693</td>\n",
       "    </tr>\n",
       "    <tr>\n",
       "      <th>007W6H7B</th>\n",
       "      <td>453.614919</td>\n",
       "      <td>0.247761</td>\n",
       "      <td>222.859696</td>\n",
       "      <td>0.578504</td>\n",
       "    </tr>\n",
       "    <tr>\n",
       "      <th>00CY2MDM</th>\n",
       "      <td>617.052023</td>\n",
       "      <td>0.176351</td>\n",
       "      <td>269.084639</td>\n",
       "      <td>0.456445</td>\n",
       "    </tr>\n",
       "    <tr>\n",
       "      <th>00HEV6HB</th>\n",
       "      <td>546.564175</td>\n",
       "      <td>0.201384</td>\n",
       "      <td>158.648178</td>\n",
       "      <td>0.920402</td>\n",
       "    </tr>\n",
       "    <tr>\n",
       "      <th>00J52GPG</th>\n",
       "      <td>577.825255</td>\n",
       "      <td>0.189457</td>\n",
       "      <td>269.611172</td>\n",
       "      <td>0.455350</td>\n",
       "    </tr>\n",
       "    <tr>\n",
       "      <th>...</th>\n",
       "      <td>...</td>\n",
       "      <td>...</td>\n",
       "      <td>...</td>\n",
       "      <td>...</td>\n",
       "    </tr>\n",
       "    <tr>\n",
       "      <th>vcahyykd</th>\n",
       "      <td>732.999367</td>\n",
       "      <td>0.146413</td>\n",
       "      <td>429.259906</td>\n",
       "      <td>0.263671</td>\n",
       "    </tr>\n",
       "    <tr>\n",
       "      <th>ve4u5</th>\n",
       "      <td>538.644575</td>\n",
       "      <td>0.204648</td>\n",
       "      <td>265.753239</td>\n",
       "      <td>0.463492</td>\n",
       "    </tr>\n",
       "    <tr>\n",
       "      <th>wzrf2ge6</th>\n",
       "      <td>419.453755</td>\n",
       "      <td>0.270670</td>\n",
       "      <td>249.972615</td>\n",
       "      <td>0.500068</td>\n",
       "    </tr>\n",
       "    <tr>\n",
       "      <th>x8k59</th>\n",
       "      <td>550.494013</td>\n",
       "      <td>0.199803</td>\n",
       "      <td>121.567251</td>\n",
       "      <td>1.397287</td>\n",
       "    </tr>\n",
       "    <tr>\n",
       "      <th>xxmy9wd8</th>\n",
       "      <td>640.013001</td>\n",
       "      <td>0.169488</td>\n",
       "      <td>334.436194</td>\n",
       "      <td>0.351573</td>\n",
       "    </tr>\n",
       "  </tbody>\n",
       "</table>\n",
       "<p>8238 rows × 4 columns</p>\n",
       "</div>"
      ],
      "text/plain": [
       "                goRT        go        SSRT      stop\n",
       "003RTV85  575.295505  0.190369  158.731993  0.919693\n",
       "007W6H7B  453.614919  0.247761  222.859696  0.578504\n",
       "00CY2MDM  617.052023  0.176351  269.084639  0.456445\n",
       "00HEV6HB  546.564175  0.201384  158.648178  0.920402\n",
       "00J52GPG  577.825255  0.189457  269.611172  0.455350\n",
       "...              ...       ...         ...       ...\n",
       "vcahyykd  732.999367  0.146413  429.259906  0.263671\n",
       "ve4u5     538.644575  0.204648  265.753239  0.463492\n",
       "wzrf2ge6  419.453755  0.270670  249.972615  0.500068\n",
       "x8k59     550.494013  0.199803  121.567251  1.397287\n",
       "xxmy9wd8  640.013001  0.169488  334.436194  0.351573\n",
       "\n",
       "[8238 rows x 4 columns]"
      ]
     },
     "execution_count": 22,
     "metadata": {},
     "output_type": "execute_result"
    }
   ],
   "source": [
    "mus_path = '../abcd_data/assigned_mus.json'\n",
    "with open(mus_path, 'r') as f:\n",
    "    mus_dict = json.load(f)\n",
    "    \n",
    "mus_df = pd.DataFrame(mus_dict).T\n",
    "mus_df"
   ]
  },
  {
   "cell_type": "code",
   "execution_count": 8,
   "metadata": {},
   "outputs": [],
   "source": [
    "ssrt_metrics.to_csv('../abcd_data/abcd_ssrt_metrics.csv')"
   ]
  },
  {
   "cell_type": "code",
   "execution_count": 9,
   "metadata": {},
   "outputs": [],
   "source": [
    "expected_df = pd.read_csv('../ssrt_metrics/expected_ssrts.csv', index_col=0)\n",
    "# reformatting - was multiindex\n",
    "expected_df.columns = [ f'gen-{gen}_SSRT-{ssrt}' for gen, ssrt in zip(expected_df.loc['underlying distribution', :].values, expected_df.columns)]\n",
    "expected_df = expected_df.drop(['underlying distribution', 'NARGUID'])\n",
    "\n",
    "for col in expected_df.columns:\n",
    "    expected_df[col] = expected_df[col].astype(float)"
   ]
  },
  {
   "cell_type": "code",
   "execution_count": 23,
   "metadata": {},
   "outputs": [],
   "source": [
    "# monster_df = pd.concat([ssrt_metrics, expected_df, expected_df.rank().add_prefix('rank_')], 1, sort=True)\n",
    "monster_df = pd.concat([mus_df.add_prefix('expected_'), expected_df, expected_df.rank().add_prefix('rank_')], 1, sort=True)"
   ]
  },
  {
   "cell_type": "code",
   "execution_count": 24,
   "metadata": {},
   "outputs": [
    {
     "data": {
      "text/html": [
       "<div>\n",
       "<style scoped>\n",
       "    .dataframe tbody tr th:only-of-type {\n",
       "        vertical-align: middle;\n",
       "    }\n",
       "\n",
       "    .dataframe tbody tr th {\n",
       "        vertical-align: top;\n",
       "    }\n",
       "\n",
       "    .dataframe thead th {\n",
       "        text-align: right;\n",
       "    }\n",
       "</style>\n",
       "<table border=\"1\" class=\"dataframe\">\n",
       "  <thead>\n",
       "    <tr style=\"text-align: right;\">\n",
       "      <th></th>\n",
       "      <th>expected_goRT</th>\n",
       "      <th>expected_go</th>\n",
       "      <th>expected_SSRT</th>\n",
       "      <th>expected_stop</th>\n",
       "      <th>gen-graded_both_SSRT-standard</th>\n",
       "      <th>gen-graded_go_SSRT-standard.1</th>\n",
       "      <th>gen-guesses_SSRT-standard.2</th>\n",
       "      <th>gen-standard_SSRT-standard.3</th>\n",
       "      <th>gen-graded_both_SSRT-guesses</th>\n",
       "      <th>gen-graded_go_SSRT-guesses.1</th>\n",
       "      <th>...</th>\n",
       "      <th>rank_gen-guesses_SSRT-guesses.2</th>\n",
       "      <th>rank_gen-standard_SSRT-guesses.3</th>\n",
       "      <th>rank_gen-graded_both_SSRT-graded_go</th>\n",
       "      <th>rank_gen-graded_go_SSRT-graded_go.1</th>\n",
       "      <th>rank_gen-guesses_SSRT-graded_go.2</th>\n",
       "      <th>rank_gen-standard_SSRT-graded_go.3</th>\n",
       "      <th>rank_gen-graded_both_SSRT-graded_both</th>\n",
       "      <th>rank_gen-graded_go_SSRT-graded_both.1</th>\n",
       "      <th>rank_gen-guesses_SSRT-graded_both.2</th>\n",
       "      <th>rank_gen-standard_SSRT-graded_both.3</th>\n",
       "    </tr>\n",
       "  </thead>\n",
       "  <tbody>\n",
       "    <tr>\n",
       "      <th>003RTV85</th>\n",
       "      <td>575.295505</td>\n",
       "      <td>0.190369</td>\n",
       "      <td>158.731993</td>\n",
       "      <td>0.919693</td>\n",
       "      <td>NaN</td>\n",
       "      <td>NaN</td>\n",
       "      <td>NaN</td>\n",
       "      <td>NaN</td>\n",
       "      <td>NaN</td>\n",
       "      <td>NaN</td>\n",
       "      <td>...</td>\n",
       "      <td>NaN</td>\n",
       "      <td>NaN</td>\n",
       "      <td>NaN</td>\n",
       "      <td>NaN</td>\n",
       "      <td>NaN</td>\n",
       "      <td>NaN</td>\n",
       "      <td>NaN</td>\n",
       "      <td>NaN</td>\n",
       "      <td>NaN</td>\n",
       "      <td>NaN</td>\n",
       "    </tr>\n",
       "    <tr>\n",
       "      <th>007W6H7B</th>\n",
       "      <td>453.614919</td>\n",
       "      <td>0.247761</td>\n",
       "      <td>222.859696</td>\n",
       "      <td>0.578504</td>\n",
       "      <td>NaN</td>\n",
       "      <td>NaN</td>\n",
       "      <td>NaN</td>\n",
       "      <td>NaN</td>\n",
       "      <td>NaN</td>\n",
       "      <td>NaN</td>\n",
       "      <td>...</td>\n",
       "      <td>NaN</td>\n",
       "      <td>NaN</td>\n",
       "      <td>NaN</td>\n",
       "      <td>NaN</td>\n",
       "      <td>NaN</td>\n",
       "      <td>NaN</td>\n",
       "      <td>NaN</td>\n",
       "      <td>NaN</td>\n",
       "      <td>NaN</td>\n",
       "      <td>NaN</td>\n",
       "    </tr>\n",
       "    <tr>\n",
       "      <th>00CY2MDM</th>\n",
       "      <td>617.052023</td>\n",
       "      <td>0.176351</td>\n",
       "      <td>269.084639</td>\n",
       "      <td>0.456445</td>\n",
       "      <td>NaN</td>\n",
       "      <td>NaN</td>\n",
       "      <td>NaN</td>\n",
       "      <td>NaN</td>\n",
       "      <td>NaN</td>\n",
       "      <td>NaN</td>\n",
       "      <td>...</td>\n",
       "      <td>NaN</td>\n",
       "      <td>NaN</td>\n",
       "      <td>NaN</td>\n",
       "      <td>NaN</td>\n",
       "      <td>NaN</td>\n",
       "      <td>NaN</td>\n",
       "      <td>NaN</td>\n",
       "      <td>NaN</td>\n",
       "      <td>NaN</td>\n",
       "      <td>NaN</td>\n",
       "    </tr>\n",
       "    <tr>\n",
       "      <th>00HEV6HB</th>\n",
       "      <td>546.564175</td>\n",
       "      <td>0.201384</td>\n",
       "      <td>158.648178</td>\n",
       "      <td>0.920402</td>\n",
       "      <td>NaN</td>\n",
       "      <td>NaN</td>\n",
       "      <td>NaN</td>\n",
       "      <td>NaN</td>\n",
       "      <td>NaN</td>\n",
       "      <td>NaN</td>\n",
       "      <td>...</td>\n",
       "      <td>NaN</td>\n",
       "      <td>NaN</td>\n",
       "      <td>NaN</td>\n",
       "      <td>NaN</td>\n",
       "      <td>NaN</td>\n",
       "      <td>NaN</td>\n",
       "      <td>NaN</td>\n",
       "      <td>NaN</td>\n",
       "      <td>NaN</td>\n",
       "      <td>NaN</td>\n",
       "    </tr>\n",
       "    <tr>\n",
       "      <th>00J52GPG</th>\n",
       "      <td>577.825255</td>\n",
       "      <td>0.189457</td>\n",
       "      <td>269.611172</td>\n",
       "      <td>0.455350</td>\n",
       "      <td>361.433333</td>\n",
       "      <td>196.35</td>\n",
       "      <td>365.766667</td>\n",
       "      <td>278.15</td>\n",
       "      <td>244.441732</td>\n",
       "      <td>59.429567</td>\n",
       "      <td>...</td>\n",
       "      <td>409.0</td>\n",
       "      <td>136.0</td>\n",
       "      <td>477.0</td>\n",
       "      <td>171.0</td>\n",
       "      <td>399.0</td>\n",
       "      <td>354.0</td>\n",
       "      <td>477.0</td>\n",
       "      <td>171.0</td>\n",
       "      <td>399.0</td>\n",
       "      <td>354.0</td>\n",
       "    </tr>\n",
       "    <tr>\n",
       "      <th>...</th>\n",
       "      <td>...</td>\n",
       "      <td>...</td>\n",
       "      <td>...</td>\n",
       "      <td>...</td>\n",
       "      <td>...</td>\n",
       "      <td>...</td>\n",
       "      <td>...</td>\n",
       "      <td>...</td>\n",
       "      <td>...</td>\n",
       "      <td>...</td>\n",
       "      <td>...</td>\n",
       "      <td>...</td>\n",
       "      <td>...</td>\n",
       "      <td>...</td>\n",
       "      <td>...</td>\n",
       "      <td>...</td>\n",
       "      <td>...</td>\n",
       "      <td>...</td>\n",
       "      <td>...</td>\n",
       "      <td>...</td>\n",
       "      <td>...</td>\n",
       "    </tr>\n",
       "    <tr>\n",
       "      <th>vcahyykd</th>\n",
       "      <td>732.999367</td>\n",
       "      <td>0.146413</td>\n",
       "      <td>429.259906</td>\n",
       "      <td>0.263671</td>\n",
       "      <td>NaN</td>\n",
       "      <td>NaN</td>\n",
       "      <td>NaN</td>\n",
       "      <td>NaN</td>\n",
       "      <td>NaN</td>\n",
       "      <td>NaN</td>\n",
       "      <td>...</td>\n",
       "      <td>NaN</td>\n",
       "      <td>NaN</td>\n",
       "      <td>NaN</td>\n",
       "      <td>NaN</td>\n",
       "      <td>NaN</td>\n",
       "      <td>NaN</td>\n",
       "      <td>NaN</td>\n",
       "      <td>NaN</td>\n",
       "      <td>NaN</td>\n",
       "      <td>NaN</td>\n",
       "    </tr>\n",
       "    <tr>\n",
       "      <th>ve4u5</th>\n",
       "      <td>538.644575</td>\n",
       "      <td>0.204648</td>\n",
       "      <td>265.753239</td>\n",
       "      <td>0.463492</td>\n",
       "      <td>NaN</td>\n",
       "      <td>NaN</td>\n",
       "      <td>NaN</td>\n",
       "      <td>NaN</td>\n",
       "      <td>NaN</td>\n",
       "      <td>NaN</td>\n",
       "      <td>...</td>\n",
       "      <td>NaN</td>\n",
       "      <td>NaN</td>\n",
       "      <td>NaN</td>\n",
       "      <td>NaN</td>\n",
       "      <td>NaN</td>\n",
       "      <td>NaN</td>\n",
       "      <td>NaN</td>\n",
       "      <td>NaN</td>\n",
       "      <td>NaN</td>\n",
       "      <td>NaN</td>\n",
       "    </tr>\n",
       "    <tr>\n",
       "      <th>wzrf2ge6</th>\n",
       "      <td>419.453755</td>\n",
       "      <td>0.270670</td>\n",
       "      <td>249.972615</td>\n",
       "      <td>0.500068</td>\n",
       "      <td>NaN</td>\n",
       "      <td>NaN</td>\n",
       "      <td>NaN</td>\n",
       "      <td>NaN</td>\n",
       "      <td>NaN</td>\n",
       "      <td>NaN</td>\n",
       "      <td>...</td>\n",
       "      <td>NaN</td>\n",
       "      <td>NaN</td>\n",
       "      <td>NaN</td>\n",
       "      <td>NaN</td>\n",
       "      <td>NaN</td>\n",
       "      <td>NaN</td>\n",
       "      <td>NaN</td>\n",
       "      <td>NaN</td>\n",
       "      <td>NaN</td>\n",
       "      <td>NaN</td>\n",
       "    </tr>\n",
       "    <tr>\n",
       "      <th>x8k59</th>\n",
       "      <td>550.494013</td>\n",
       "      <td>0.199803</td>\n",
       "      <td>121.567251</td>\n",
       "      <td>1.397287</td>\n",
       "      <td>NaN</td>\n",
       "      <td>NaN</td>\n",
       "      <td>NaN</td>\n",
       "      <td>NaN</td>\n",
       "      <td>NaN</td>\n",
       "      <td>NaN</td>\n",
       "      <td>...</td>\n",
       "      <td>NaN</td>\n",
       "      <td>NaN</td>\n",
       "      <td>NaN</td>\n",
       "      <td>NaN</td>\n",
       "      <td>NaN</td>\n",
       "      <td>NaN</td>\n",
       "      <td>NaN</td>\n",
       "      <td>NaN</td>\n",
       "      <td>NaN</td>\n",
       "      <td>NaN</td>\n",
       "    </tr>\n",
       "    <tr>\n",
       "      <th>xxmy9wd8</th>\n",
       "      <td>640.013001</td>\n",
       "      <td>0.169488</td>\n",
       "      <td>334.436194</td>\n",
       "      <td>0.351573</td>\n",
       "      <td>NaN</td>\n",
       "      <td>NaN</td>\n",
       "      <td>NaN</td>\n",
       "      <td>NaN</td>\n",
       "      <td>NaN</td>\n",
       "      <td>NaN</td>\n",
       "      <td>...</td>\n",
       "      <td>NaN</td>\n",
       "      <td>NaN</td>\n",
       "      <td>NaN</td>\n",
       "      <td>NaN</td>\n",
       "      <td>NaN</td>\n",
       "      <td>NaN</td>\n",
       "      <td>NaN</td>\n",
       "      <td>NaN</td>\n",
       "      <td>NaN</td>\n",
       "      <td>NaN</td>\n",
       "    </tr>\n",
       "  </tbody>\n",
       "</table>\n",
       "<p>8238 rows × 36 columns</p>\n",
       "</div>"
      ],
      "text/plain": [
       "          expected_goRT  expected_go  expected_SSRT  expected_stop  \\\n",
       "003RTV85     575.295505     0.190369     158.731993       0.919693   \n",
       "007W6H7B     453.614919     0.247761     222.859696       0.578504   \n",
       "00CY2MDM     617.052023     0.176351     269.084639       0.456445   \n",
       "00HEV6HB     546.564175     0.201384     158.648178       0.920402   \n",
       "00J52GPG     577.825255     0.189457     269.611172       0.455350   \n",
       "...                 ...          ...            ...            ...   \n",
       "vcahyykd     732.999367     0.146413     429.259906       0.263671   \n",
       "ve4u5        538.644575     0.204648     265.753239       0.463492   \n",
       "wzrf2ge6     419.453755     0.270670     249.972615       0.500068   \n",
       "x8k59        550.494013     0.199803     121.567251       1.397287   \n",
       "xxmy9wd8     640.013001     0.169488     334.436194       0.351573   \n",
       "\n",
       "          gen-graded_both_SSRT-standard  gen-graded_go_SSRT-standard.1  \\\n",
       "003RTV85                            NaN                            NaN   \n",
       "007W6H7B                            NaN                            NaN   \n",
       "00CY2MDM                            NaN                            NaN   \n",
       "00HEV6HB                            NaN                            NaN   \n",
       "00J52GPG                     361.433333                         196.35   \n",
       "...                                 ...                            ...   \n",
       "vcahyykd                            NaN                            NaN   \n",
       "ve4u5                               NaN                            NaN   \n",
       "wzrf2ge6                            NaN                            NaN   \n",
       "x8k59                               NaN                            NaN   \n",
       "xxmy9wd8                            NaN                            NaN   \n",
       "\n",
       "          gen-guesses_SSRT-standard.2  gen-standard_SSRT-standard.3  \\\n",
       "003RTV85                          NaN                           NaN   \n",
       "007W6H7B                          NaN                           NaN   \n",
       "00CY2MDM                          NaN                           NaN   \n",
       "00HEV6HB                          NaN                           NaN   \n",
       "00J52GPG                   365.766667                        278.15   \n",
       "...                               ...                           ...   \n",
       "vcahyykd                          NaN                           NaN   \n",
       "ve4u5                             NaN                           NaN   \n",
       "wzrf2ge6                          NaN                           NaN   \n",
       "x8k59                             NaN                           NaN   \n",
       "xxmy9wd8                          NaN                           NaN   \n",
       "\n",
       "          gen-graded_both_SSRT-guesses  gen-graded_go_SSRT-guesses.1  ...  \\\n",
       "003RTV85                           NaN                           NaN  ...   \n",
       "007W6H7B                           NaN                           NaN  ...   \n",
       "00CY2MDM                           NaN                           NaN  ...   \n",
       "00HEV6HB                           NaN                           NaN  ...   \n",
       "00J52GPG                    244.441732                     59.429567  ...   \n",
       "...                                ...                           ...  ...   \n",
       "vcahyykd                           NaN                           NaN  ...   \n",
       "ve4u5                              NaN                           NaN  ...   \n",
       "wzrf2ge6                           NaN                           NaN  ...   \n",
       "x8k59                              NaN                           NaN  ...   \n",
       "xxmy9wd8                           NaN                           NaN  ...   \n",
       "\n",
       "          rank_gen-guesses_SSRT-guesses.2  rank_gen-standard_SSRT-guesses.3  \\\n",
       "003RTV85                              NaN                               NaN   \n",
       "007W6H7B                              NaN                               NaN   \n",
       "00CY2MDM                              NaN                               NaN   \n",
       "00HEV6HB                              NaN                               NaN   \n",
       "00J52GPG                            409.0                             136.0   \n",
       "...                                   ...                               ...   \n",
       "vcahyykd                              NaN                               NaN   \n",
       "ve4u5                                 NaN                               NaN   \n",
       "wzrf2ge6                              NaN                               NaN   \n",
       "x8k59                                 NaN                               NaN   \n",
       "xxmy9wd8                              NaN                               NaN   \n",
       "\n",
       "          rank_gen-graded_both_SSRT-graded_go  \\\n",
       "003RTV85                                  NaN   \n",
       "007W6H7B                                  NaN   \n",
       "00CY2MDM                                  NaN   \n",
       "00HEV6HB                                  NaN   \n",
       "00J52GPG                                477.0   \n",
       "...                                       ...   \n",
       "vcahyykd                                  NaN   \n",
       "ve4u5                                     NaN   \n",
       "wzrf2ge6                                  NaN   \n",
       "x8k59                                     NaN   \n",
       "xxmy9wd8                                  NaN   \n",
       "\n",
       "          rank_gen-graded_go_SSRT-graded_go.1  \\\n",
       "003RTV85                                  NaN   \n",
       "007W6H7B                                  NaN   \n",
       "00CY2MDM                                  NaN   \n",
       "00HEV6HB                                  NaN   \n",
       "00J52GPG                                171.0   \n",
       "...                                       ...   \n",
       "vcahyykd                                  NaN   \n",
       "ve4u5                                     NaN   \n",
       "wzrf2ge6                                  NaN   \n",
       "x8k59                                     NaN   \n",
       "xxmy9wd8                                  NaN   \n",
       "\n",
       "          rank_gen-guesses_SSRT-graded_go.2  \\\n",
       "003RTV85                                NaN   \n",
       "007W6H7B                                NaN   \n",
       "00CY2MDM                                NaN   \n",
       "00HEV6HB                                NaN   \n",
       "00J52GPG                              399.0   \n",
       "...                                     ...   \n",
       "vcahyykd                                NaN   \n",
       "ve4u5                                   NaN   \n",
       "wzrf2ge6                                NaN   \n",
       "x8k59                                   NaN   \n",
       "xxmy9wd8                                NaN   \n",
       "\n",
       "          rank_gen-standard_SSRT-graded_go.3  \\\n",
       "003RTV85                                 NaN   \n",
       "007W6H7B                                 NaN   \n",
       "00CY2MDM                                 NaN   \n",
       "00HEV6HB                                 NaN   \n",
       "00J52GPG                               354.0   \n",
       "...                                      ...   \n",
       "vcahyykd                                 NaN   \n",
       "ve4u5                                    NaN   \n",
       "wzrf2ge6                                 NaN   \n",
       "x8k59                                    NaN   \n",
       "xxmy9wd8                                 NaN   \n",
       "\n",
       "          rank_gen-graded_both_SSRT-graded_both  \\\n",
       "003RTV85                                    NaN   \n",
       "007W6H7B                                    NaN   \n",
       "00CY2MDM                                    NaN   \n",
       "00HEV6HB                                    NaN   \n",
       "00J52GPG                                  477.0   \n",
       "...                                         ...   \n",
       "vcahyykd                                    NaN   \n",
       "ve4u5                                       NaN   \n",
       "wzrf2ge6                                    NaN   \n",
       "x8k59                                       NaN   \n",
       "xxmy9wd8                                    NaN   \n",
       "\n",
       "          rank_gen-graded_go_SSRT-graded_both.1  \\\n",
       "003RTV85                                    NaN   \n",
       "007W6H7B                                    NaN   \n",
       "00CY2MDM                                    NaN   \n",
       "00HEV6HB                                    NaN   \n",
       "00J52GPG                                  171.0   \n",
       "...                                         ...   \n",
       "vcahyykd                                    NaN   \n",
       "ve4u5                                       NaN   \n",
       "wzrf2ge6                                    NaN   \n",
       "x8k59                                       NaN   \n",
       "xxmy9wd8                                    NaN   \n",
       "\n",
       "          rank_gen-guesses_SSRT-graded_both.2  \\\n",
       "003RTV85                                  NaN   \n",
       "007W6H7B                                  NaN   \n",
       "00CY2MDM                                  NaN   \n",
       "00HEV6HB                                  NaN   \n",
       "00J52GPG                                399.0   \n",
       "...                                       ...   \n",
       "vcahyykd                                  NaN   \n",
       "ve4u5                                     NaN   \n",
       "wzrf2ge6                                  NaN   \n",
       "x8k59                                     NaN   \n",
       "xxmy9wd8                                  NaN   \n",
       "\n",
       "          rank_gen-standard_SSRT-graded_both.3  \n",
       "003RTV85                                   NaN  \n",
       "007W6H7B                                   NaN  \n",
       "00CY2MDM                                   NaN  \n",
       "00HEV6HB                                   NaN  \n",
       "00J52GPG                                 354.0  \n",
       "...                                        ...  \n",
       "vcahyykd                                   NaN  \n",
       "ve4u5                                      NaN  \n",
       "wzrf2ge6                                   NaN  \n",
       "x8k59                                      NaN  \n",
       "xxmy9wd8                                   NaN  \n",
       "\n",
       "[8238 rows x 36 columns]"
      ]
     },
     "execution_count": 24,
     "metadata": {},
     "output_type": "execute_result"
    }
   ],
   "source": [
    "monster_df"
   ]
  },
  {
   "cell_type": "code",
   "execution_count": 25,
   "metadata": {},
   "outputs": [
    {
     "data": {
      "image/png": "[encoded data removed]",
      "text/plain": [
       "<Figure size 432x288 with 1 Axes>"
      ]
     },
     "metadata": {
      "needs_background": "light"
     },
     "output_type": "display_data"
    }
   ],
   "source": [
    "_ = sns.scatterplot(x='expected_SSRT', y='gen-standard_SSRT-standard.3', data=monster_df)"
   ]
  },
  {
   "cell_type": "code",
   "execution_count": 15,
   "metadata": {},
   "outputs": [
    {
     "data": {
      "image/png": "[encoded data removed]",
      "text/plain": [
       "<Figure size 432x288 with 1 Axes>"
      ]
     },
     "metadata": {
      "needs_background": "light"
     },
     "output_type": "display_data"
    }
   ],
   "source": [
    "_ = sns.scatterplot(x='SSRT', y='mean_go_RT', hue='p_respond', data=monster_df)"
   ]
  },
  {
   "cell_type": "code",
   "execution_count": 16,
   "metadata": {},
   "outputs": [
    {
     "data": {
      "image/png": "[encoded data removed]",
      "text/plain": [
       "<Figure size 432x288 with 1 Axes>"
      ]
     },
     "metadata": {
      "needs_background": "light"
     },
     "output_type": "display_data"
    }
   ],
   "source": [
    "_ = sns.scatterplot(x='SSRT', y='p_respond', hue='mean_go_RT', data=monster_df)"
   ]
  },
  {
   "cell_type": "code",
   "execution_count": null,
   "metadata": {},
   "outputs": [],
   "source": [
    "monster_df.query('SSRT < 0')"
   ]
  },
  {
   "cell_type": "code",
   "execution_count": null,
   "metadata": {},
   "outputs": [],
   "source": [
    "monster_df.query('SSRT > 1000').filter(regex='SSRT')"
   ]
  },
  {
   "cell_type": "code",
   "execution_count": null,
   "metadata": {},
   "outputs": [],
   "source": [
    "monster_df.query('SSRT > 1000')"
   ]
  },
  {
   "cell_type": "code",
   "execution_count": null,
   "metadata": {},
   "outputs": [],
   "source": [
    "abcd_proc.query(\"ID == '00LJVZK2' and goRT >= 0\").describe()"
   ]
  },
  {
   "cell_type": "code",
   "execution_count": null,
   "metadata": {},
   "outputs": [],
   "source": [
    "abcd_proc.query(\"ID == '00LJVZK2'\").describe()"
   ]
  },
  {
   "cell_type": "code",
   "execution_count": null,
   "metadata": {},
   "outputs": [],
   "source": [
    "rt_std = abcd_proc.groupby('ID').apply(lambda x: x.describe().loc[['mean', 'std'], 'goRT'])\n",
    "rt_std"
   ]
  },
  {
   "cell_type": "code",
   "execution_count": null,
   "metadata": {},
   "outputs": [],
   "source": [
    "monster_df = pd.concat([rt_std, monster_df], 1, sort=True)\n",
    "monster_df.head()"
   ]
  },
  {
   "cell_type": "code",
   "execution_count": null,
   "metadata": {},
   "outputs": [],
   "source": [
    "fig = plt.figure(figsize=(10,5))\n",
    "_ = sns.scatterplot(x='SSRT', y='p_respond', hue='std', data=monster_df)"
   ]
  },
  {
   "cell_type": "code",
   "execution_count": null,
   "metadata": {},
   "outputs": [],
   "source": [
    "fig = plt.figure(figsize=(10,5))\n",
    "_ = sns.scatterplot(x='SSRT', y='mean_go_RT', hue='std', data=monster_df)"
   ]
  },
  {
   "cell_type": "code",
   "execution_count": null,
   "metadata": {},
   "outputs": [],
   "source": [
    "fig = plt.figure(figsize=(10,5))\n",
    "_ = sns.scatterplot(x='SSRT', y='mean_SSD', hue='std', data=monster_df)"
   ]
  },
  {
   "cell_type": "code",
   "execution_count": null,
   "metadata": {},
   "outputs": [],
   "source": [
    "fig = plt.figure(figsize=(10,5))\n",
    "_ = sns.scatterplot(x='SSRT', y='mean_SSD', hue='gen-standard_SSRT-standard.2', data=monster_df)"
   ]
  },
  {
   "cell_type": "code",
   "execution_count": null,
   "metadata": {},
   "outputs": [],
   "source": [
    "fig = plt.figure(figsize=(12,6))\n",
    "_ = sns.scatterplot(x='SSRT', y='mean_SSD', size='p_respond', hue='std', data=monster_df)"
   ]
  },
  {
   "cell_type": "code",
   "execution_count": null,
   "metadata": {},
   "outputs": [],
   "source": [
    "monster_df.query('SSRT > 1000')"
   ]
  },
  {
   "cell_type": "code",
   "execution_count": 26,
   "metadata": {},
   "outputs": [
    {
     "ename": "FileNotFoundError",
     "evalue": "[Errno 2] File b'sim_rt_meanStd.csv' does not exist: b'sim_rt_meanStd.csv'",
     "output_type": "error",
     "traceback": [
      "\u001b[0;31m---------------------------------------------------------------------------\u001b[0m",
      "\u001b[0;31mFileNotFoundError\u001b[0m                         Traceback (most recent call last)",
      "\u001b[0;32m<ipython-input-26-1618c5255612>\u001b[0m in \u001b[0;36m<module>\u001b[0;34m\u001b[0m\n\u001b[0;32m----> 1\u001b[0;31m \u001b[0msim_rt_info\u001b[0m \u001b[0;34m=\u001b[0m \u001b[0mpd\u001b[0m\u001b[0;34m.\u001b[0m\u001b[0mread_csv\u001b[0m\u001b[0;34m(\u001b[0m\u001b[0;34m'sim_rt_meanStd.csv'\u001b[0m\u001b[0;34m,\u001b[0m \u001b[0mindex_col\u001b[0m \u001b[0;34m=\u001b[0m \u001b[0;36m0\u001b[0m\u001b[0;34m)\u001b[0m\u001b[0;34m\u001b[0m\u001b[0;34m\u001b[0m\u001b[0m\n\u001b[0m",
      "\u001b[0;32m~/anaconda3/lib/python3.7/site-packages/pandas/io/parsers.py\u001b[0m in \u001b[0;36mparser_f\u001b[0;34m(filepath_or_buffer, sep, delimiter, header, names, index_col, usecols, squeeze, prefix, mangle_dupe_cols, dtype, engine, converters, true_values, false_values, skipinitialspace, skiprows, skipfooter, nrows, na_values, keep_default_na, na_filter, verbose, skip_blank_lines, parse_dates, infer_datetime_format, keep_date_col, date_parser, dayfirst, cache_dates, iterator, chunksize, compression, thousands, decimal, lineterminator, quotechar, quoting, doublequote, escapechar, comment, encoding, dialect, error_bad_lines, warn_bad_lines, delim_whitespace, low_memory, memory_map, float_precision)\u001b[0m\n\u001b[1;32m    683\u001b[0m         )\n\u001b[1;32m    684\u001b[0m \u001b[0;34m\u001b[0m\u001b[0m\n\u001b[0;32m--> 685\u001b[0;31m         \u001b[0;32mreturn\u001b[0m \u001b[0m_read\u001b[0m\u001b[0;34m(\u001b[0m\u001b[0mfilepath_or_buffer\u001b[0m\u001b[0;34m,\u001b[0m \u001b[0mkwds\u001b[0m\u001b[0;34m)\u001b[0m\u001b[0;34m\u001b[0m\u001b[0;34m\u001b[0m\u001b[0m\n\u001b[0m\u001b[1;32m    686\u001b[0m \u001b[0;34m\u001b[0m\u001b[0m\n\u001b[1;32m    687\u001b[0m     \u001b[0mparser_f\u001b[0m\u001b[0;34m.\u001b[0m\u001b[0m__name__\u001b[0m \u001b[0;34m=\u001b[0m \u001b[0mname\u001b[0m\u001b[0;34m\u001b[0m\u001b[0;34m\u001b[0m\u001b[0m\n",
      "\u001b[0;32m~/anaconda3/lib/python3.7/site-packages/pandas/io/parsers.py\u001b[0m in \u001b[0;36m_read\u001b[0;34m(filepath_or_buffer, kwds)\u001b[0m\n\u001b[1;32m    455\u001b[0m \u001b[0;34m\u001b[0m\u001b[0m\n\u001b[1;32m    456\u001b[0m     \u001b[0;31m# Create the parser.\u001b[0m\u001b[0;34m\u001b[0m\u001b[0;34m\u001b[0m\u001b[0;34m\u001b[0m\u001b[0m\n\u001b[0;32m--> 457\u001b[0;31m     \u001b[0mparser\u001b[0m \u001b[0;34m=\u001b[0m \u001b[0mTextFileReader\u001b[0m\u001b[0;34m(\u001b[0m\u001b[0mfp_or_buf\u001b[0m\u001b[0;34m,\u001b[0m \u001b[0;34m**\u001b[0m\u001b[0mkwds\u001b[0m\u001b[0;34m)\u001b[0m\u001b[0;34m\u001b[0m\u001b[0;34m\u001b[0m\u001b[0m\n\u001b[0m\u001b[1;32m    458\u001b[0m \u001b[0;34m\u001b[0m\u001b[0m\n\u001b[1;32m    459\u001b[0m     \u001b[0;32mif\u001b[0m \u001b[0mchunksize\u001b[0m \u001b[0;32mor\u001b[0m \u001b[0miterator\u001b[0m\u001b[0;34m:\u001b[0m\u001b[0;34m\u001b[0m\u001b[0;34m\u001b[0m\u001b[0m\n",
      "\u001b[0;32m~/anaconda3/lib/python3.7/site-packages/pandas/io/parsers.py\u001b[0m in \u001b[0;36m__init__\u001b[0;34m(self, f, engine, **kwds)\u001b[0m\n\u001b[1;32m    893\u001b[0m             \u001b[0mself\u001b[0m\u001b[0;34m.\u001b[0m\u001b[0moptions\u001b[0m\u001b[0;34m[\u001b[0m\u001b[0;34m\"has_index_names\"\u001b[0m\u001b[0;34m]\u001b[0m \u001b[0;34m=\u001b[0m \u001b[0mkwds\u001b[0m\u001b[0;34m[\u001b[0m\u001b[0;34m\"has_index_names\"\u001b[0m\u001b[0;34m]\u001b[0m\u001b[0;34m\u001b[0m\u001b[0;34m\u001b[0m\u001b[0m\n\u001b[1;32m    894\u001b[0m \u001b[0;34m\u001b[0m\u001b[0m\n\u001b[0;32m--> 895\u001b[0;31m         \u001b[0mself\u001b[0m\u001b[0;34m.\u001b[0m\u001b[0m_make_engine\u001b[0m\u001b[0;34m(\u001b[0m\u001b[0mself\u001b[0m\u001b[0;34m.\u001b[0m\u001b[0mengine\u001b[0m\u001b[0;34m)\u001b[0m\u001b[0;34m\u001b[0m\u001b[0;34m\u001b[0m\u001b[0m\n\u001b[0m\u001b[1;32m    896\u001b[0m \u001b[0;34m\u001b[0m\u001b[0m\n\u001b[1;32m    897\u001b[0m     \u001b[0;32mdef\u001b[0m \u001b[0mclose\u001b[0m\u001b[0;34m(\u001b[0m\u001b[0mself\u001b[0m\u001b[0;34m)\u001b[0m\u001b[0;34m:\u001b[0m\u001b[0;34m\u001b[0m\u001b[0;34m\u001b[0m\u001b[0m\n",
      "\u001b[0;32m~/anaconda3/lib/python3.7/site-packages/pandas/io/parsers.py\u001b[0m in \u001b[0;36m_make_engine\u001b[0;34m(self, engine)\u001b[0m\n\u001b[1;32m   1133\u001b[0m     \u001b[0;32mdef\u001b[0m \u001b[0m_make_engine\u001b[0m\u001b[0;34m(\u001b[0m\u001b[0mself\u001b[0m\u001b[0;34m,\u001b[0m \u001b[0mengine\u001b[0m\u001b[0;34m=\u001b[0m\u001b[0;34m\"c\"\u001b[0m\u001b[0;34m)\u001b[0m\u001b[0;34m:\u001b[0m\u001b[0;34m\u001b[0m\u001b[0;34m\u001b[0m\u001b[0m\n\u001b[1;32m   1134\u001b[0m         \u001b[0;32mif\u001b[0m \u001b[0mengine\u001b[0m \u001b[0;34m==\u001b[0m \u001b[0;34m\"c\"\u001b[0m\u001b[0;34m:\u001b[0m\u001b[0;34m\u001b[0m\u001b[0;34m\u001b[0m\u001b[0m\n\u001b[0;32m-> 1135\u001b[0;31m             \u001b[0mself\u001b[0m\u001b[0;34m.\u001b[0m\u001b[0m_engine\u001b[0m \u001b[0;34m=\u001b[0m \u001b[0mCParserWrapper\u001b[0m\u001b[0;34m(\u001b[0m\u001b[0mself\u001b[0m\u001b[0;34m.\u001b[0m\u001b[0mf\u001b[0m\u001b[0;34m,\u001b[0m \u001b[0;34m**\u001b[0m\u001b[0mself\u001b[0m\u001b[0;34m.\u001b[0m\u001b[0moptions\u001b[0m\u001b[0;34m)\u001b[0m\u001b[0;34m\u001b[0m\u001b[0;34m\u001b[0m\u001b[0m\n\u001b[0m\u001b[1;32m   1136\u001b[0m         \u001b[0;32melse\u001b[0m\u001b[0;34m:\u001b[0m\u001b[0;34m\u001b[0m\u001b[0;34m\u001b[0m\u001b[0m\n\u001b[1;32m   1137\u001b[0m             \u001b[0;32mif\u001b[0m \u001b[0mengine\u001b[0m \u001b[0;34m==\u001b[0m \u001b[0;34m\"python\"\u001b[0m\u001b[0;34m:\u001b[0m\u001b[0;34m\u001b[0m\u001b[0;34m\u001b[0m\u001b[0m\n",
      "\u001b[0;32m~/anaconda3/lib/python3.7/site-packages/pandas/io/parsers.py\u001b[0m in \u001b[0;36m__init__\u001b[0;34m(self, src, **kwds)\u001b[0m\n\u001b[1;32m   1915\u001b[0m         \u001b[0mkwds\u001b[0m\u001b[0;34m[\u001b[0m\u001b[0;34m\"usecols\"\u001b[0m\u001b[0;34m]\u001b[0m \u001b[0;34m=\u001b[0m \u001b[0mself\u001b[0m\u001b[0;34m.\u001b[0m\u001b[0musecols\u001b[0m\u001b[0;34m\u001b[0m\u001b[0;34m\u001b[0m\u001b[0m\n\u001b[1;32m   1916\u001b[0m \u001b[0;34m\u001b[0m\u001b[0m\n\u001b[0;32m-> 1917\u001b[0;31m         \u001b[0mself\u001b[0m\u001b[0;34m.\u001b[0m\u001b[0m_reader\u001b[0m \u001b[0;34m=\u001b[0m \u001b[0mparsers\u001b[0m\u001b[0;34m.\u001b[0m\u001b[0mTextReader\u001b[0m\u001b[0;34m(\u001b[0m\u001b[0msrc\u001b[0m\u001b[0;34m,\u001b[0m \u001b[0;34m**\u001b[0m\u001b[0mkwds\u001b[0m\u001b[0;34m)\u001b[0m\u001b[0;34m\u001b[0m\u001b[0;34m\u001b[0m\u001b[0m\n\u001b[0m\u001b[1;32m   1918\u001b[0m         \u001b[0mself\u001b[0m\u001b[0;34m.\u001b[0m\u001b[0munnamed_cols\u001b[0m \u001b[0;34m=\u001b[0m \u001b[0mself\u001b[0m\u001b[0;34m.\u001b[0m\u001b[0m_reader\u001b[0m\u001b[0;34m.\u001b[0m\u001b[0munnamed_cols\u001b[0m\u001b[0;34m\u001b[0m\u001b[0;34m\u001b[0m\u001b[0m\n\u001b[1;32m   1919\u001b[0m \u001b[0;34m\u001b[0m\u001b[0m\n",
      "\u001b[0;32mpandas/_libs/parsers.pyx\u001b[0m in \u001b[0;36mpandas._libs.parsers.TextReader.__cinit__\u001b[0;34m()\u001b[0m\n",
      "\u001b[0;32mpandas/_libs/parsers.pyx\u001b[0m in \u001b[0;36mpandas._libs.parsers.TextReader._setup_parser_source\u001b[0;34m()\u001b[0m\n",
      "\u001b[0;31mFileNotFoundError\u001b[0m: [Errno 2] File b'sim_rt_meanStd.csv' does not exist: b'sim_rt_meanStd.csv'"
     ]
    }
   ],
   "source": [
    "sim_rt_info = pd.read_csv('sim_rt_meanStd.csv', index_col = 0)"
   ]
  },
  {
   "cell_type": "code",
   "execution_count": null,
   "metadata": {},
   "outputs": [],
   "source": [
    "sim_rt_info"
   ]
  },
  {
   "cell_type": "code",
   "execution_count": null,
   "metadata": {},
   "outputs": [],
   "source": [
    "monster_df = pd.concat([sim_rt_info, monster_df], 1, sort=True)"
   ]
  },
  {
   "cell_type": "code",
   "execution_count": null,
   "metadata": {},
   "outputs": [],
   "source": [
    "monster_df"
   ]
  },
  {
   "cell_type": "code",
   "execution_count": null,
   "metadata": {},
   "outputs": [],
   "source": [
    "def add_identity(axes, *line_args, **line_kwargs):\n",
    "    identity, = axes.plot([], [], *line_args, **line_kwargs)\n",
    "    def callback(axes):\n",
    "        low_x, high_x = axes.get_xlim()\n",
    "        low_y, high_y = axes.get_ylim()\n",
    "        low = max(low_x, low_y)\n",
    "        high = min(high_x, high_y)\n",
    "        identity.set_data([low, high], [low, high])\n",
    "    callback(axes)\n",
    "    axes.callbacks.connect('xlim_changed', callback)\n",
    "    axes.callbacks.connect('ylim_changed', callback)\n",
    "    return axes"
   ]
  },
  {
   "cell_type": "code",
   "execution_count": null,
   "metadata": {},
   "outputs": [],
   "source": [
    "fig = plt.figure(figsize=(12,6))\n",
    "ax = sns.scatterplot(x='mean', y='sim_rt_mean', hue='std', data=monster_df)\n",
    "_ = add_identity(ax, color='k', ls='--')"
   ]
  },
  {
   "cell_type": "code",
   "execution_count": null,
   "metadata": {},
   "outputs": [],
   "source": [
    "fig = plt.figure(figsize=(12,6))\n",
    "ax = sns.scatterplot(x='std', y='sim_rt_std', hue='mean', data=monster_df)\n",
    "_ = add_identity(ax, color='k', ls='--')"
   ]
  },
  {
   "cell_type": "code",
   "execution_count": null,
   "metadata": {},
   "outputs": [],
   "source": [
    "fig = plt.figure(figsize=(12,6))\n",
    "ax = sns.scatterplot(x='std', y='sim_rt_std', hue='sim_rt_mean', data=monster_df)\n",
    "_ = add_identity(ax, color='k', ls='--')"
   ]
  },
  {
   "cell_type": "code",
   "execution_count": null,
   "metadata": {},
   "outputs": [],
   "source": [
    "monster_df[['sim_rt_mean', 'mean', 'sim_rt_std','std']].describe()"
   ]
  },
  {
   "cell_type": "code",
   "execution_count": null,
   "metadata": {},
   "outputs": [],
   "source": [
    "vars_of_interest = ['mean', 'std', 'count']\n",
    "ssrt_binned_dict = {}\n",
    "for lower_bound in range(0,500,100):\n",
    "    ssrt_binned_dict[lower_bound] = monster_df.query(\"mean_SSD>=%d and mean_SSD<%d\" % (lower_bound, lower_bound+100))['SSRT'].describe().loc[vars_of_interest]\n",
    "    \n",
    "ssrt_binned_dict[500] = monster_df.query(\"mean_SSD>=500\")['SSRT'].describe().loc[vars_of_interest]\n",
    "\n",
    "\n",
    "binned_ssrt_info = pd.DataFrame(ssrt_binned_dict)\n",
    "_ = sns.barplot(data=binned_ssrt_info.T.reset_index(), x='index', y='mean')\n",
    "binned_ssrt_info"
   ]
  },
  {
   "cell_type": "markdown",
   "metadata": {},
   "source": [
    "# looking at our mturk sample"
   ]
  },
  {
   "cell_type": "code",
   "execution_count": null,
   "metadata": {},
   "outputs": [],
   "source": [
    "turk_var_dict = {\n",
    "   \"columns\": {\n",
    "      \"ID\": \"Subject\", #subject identifier\n",
    "      \"condition\": \"TrialType\", #col with trial types \n",
    "      \"correct_response\": \"GoTrialCorrectResponse\", #col with correct reponse codes\n",
    "      \"response\": \"Response\", #col with actual response codes \n",
    "      \"SSD\": \"StopSignalDelay\", #col with stop signal delay \n",
    "      \"block\": \"Block\", #col with which block a trial is accuring during\n",
    "      \"goRT\": \"GoRT\", # col with go reaction time recording \n",
    "      \"stopRT\": \"StopFailureRT\", #col with stop failure reaction time recording\n",
    "      \"choice_accuracy\": \"choice_accuracy\" #col with whether a response was correct\n",
    "   },\n",
    "   \"key_codes\": {\n",
    "      \"go\": \"go\", # cell values for go trials  \n",
    "      \"stop\": \"stop\",  #cell values for stop trials \n",
    "      \"correct\": 1.0,\n",
    "       \"incorrect\": 0.0,\n",
    "       \"noResponse\": -1\n",
    "   }\n",
    "}"
   ]
  },
  {
   "cell_type": "code",
   "execution_count": null,
   "metadata": {},
   "outputs": [],
   "source": [
    "turk_path = '/Users/henrymj/Documents/ContextDependence/CleanTurkData/'"
   ]
  },
  {
   "cell_type": "code",
   "execution_count": null,
   "metadata": {},
   "outputs": [],
   "source": [
    "turk_data = pd.read_csv(turk_path+'DataTurkSimpleLow.csv')\n",
    "turk_data['Response'] = turk_data['GoTrialCorrectResponse'].combine_first(turk_data['StopTrialResponse'])\n",
    "\n",
    "turk_stopper = StopData(var_dict=turk_var_dict, compute_acc_col=True)\n",
    "turk_proc = turk_stopper.fit_transform(turk_data) \n",
    "ssrt_model = SSRTmodel(model='replacement')\n",
    "turk_ssrt_metrics = ssrt_model.fit_transform(turk_proc, level='group')\n",
    "\n",
    "\n",
    "vars_of_interest = ['mean', 'std', 'count']\n",
    "turk_ssrt_binned_dict = {}\n",
    "for lower_bound in range(0,500,100):\n",
    "    turk_ssrt_binned_dict[lower_bound] = turk_ssrt_metrics.query(\"mean_SSD>=%d and mean_SSD<%d\" % (lower_bound, lower_bound+100))['SSRT'].describe().loc[vars_of_interest]\n",
    "    \n",
    "turk_ssrt_binned_dict[500] = turk_ssrt_metrics.query(\"mean_SSD>=500\")['SSRT'].describe().loc[vars_of_interest]\n",
    "\n",
    "binned_turk_info = pd.DataFrame(turk_ssrt_binned_dict)\n",
    "_ = sns.barplot(data=binned_turk_info.T.reset_index(), x='index', y='mean')\n",
    "binned_turk_info"
   ]
  },
  {
   "cell_type": "code",
   "execution_count": null,
   "metadata": {},
   "outputs": [],
   "source": [
    "turk_ssrt_metrics[['SSRT', 'mean_SSD', 'mean_go_RT']].dropna().corr()\n"
   ]
  },
  {
   "cell_type": "code",
   "execution_count": null,
   "metadata": {},
   "outputs": [],
   "source": [
    "turk_data = pd.read_csv(turk_path+'DataTurkSimpleHigh.csv')\n",
    "turk_data['Response'] = turk_data['GoTrialCorrectResponse'].combine_first(turk_data['StopTrialResponse'])\n",
    "\n",
    "turk_stopper = StopData(var_dict=turk_var_dict, compute_acc_col=True)\n",
    "turk_proc = turk_stopper.fit_transform(turk_data) \n",
    "ssrt_model = SSRTmodel(model='replacement')\n",
    "turk_ssrt_metrics = ssrt_model.fit_transform(turk_proc, level='group')\n",
    "turk_ssrt_metrics =  turk_proc.groupby('ID').apply(lambda x: ssrt_model._fit_individual(x).transform()).apply(pd.Series)\n",
    "\n",
    "\n",
    "vars_of_interest = ['mean', 'std', 'count']\n",
    "turk_ssrt_binned_dict = {}\n",
    "for lower_bound in range(0,500,100):\n",
    "    turk_ssrt_binned_dict[lower_bound] = turk_ssrt_metrics.query(\"mean_SSD>=%d and mean_SSD<%d\" % (lower_bound, lower_bound+100))['SSRT'].describe().loc[vars_of_interest]\n",
    "    \n",
    "turk_ssrt_binned_dict[500] = turk_ssrt_metrics.query(\"mean_SSD>=500\")['SSRT'].describe().loc[vars_of_interest]\n",
    "\n",
    "binned_turk_info = pd.DataFrame(turk_ssrt_binned_dict)\n",
    "_ = sns.barplot(data=binned_turk_info.T.reset_index(), x='index', y='mean')\n",
    "binned_turk_info"
   ]
  },
  {
   "cell_type": "code",
   "execution_count": null,
   "metadata": {},
   "outputs": [],
   "source": [
    "turk_ssrt_metrics[['SSRT', 'mean_SSD', 'mean_go_RT']].dropna().corr()\n"
   ]
  },
  {
   "cell_type": "markdown",
   "metadata": {},
   "source": [
    "# Quick lil mediation analysis"
   ]
  },
  {
   "cell_type": "code",
   "execution_count": null,
   "metadata": {},
   "outputs": [],
   "source": [
    "monster_df"
   ]
  },
  {
   "cell_type": "code",
   "execution_count": null,
   "metadata": {},
   "outputs": [],
   "source": [
    "import statsmodels.api as sm\n",
    "from statsmodels.stats.mediation import Mediation\n",
    "import statsmodels.genmod.families.links as links\n",
    "probit = links.probit\n",
    "\n",
    "data = monster_df[['SSRT', 'mean_SSD', 'mean_go_RT']].dropna().copy()\n",
    "outcome_model = sm.GLM.from_formula(\"SSRT ~ mean_SSD + mean_go_RT\",\n",
    "                                     data, family=sm.families.Binomial(link=probit()))\n",
    "mediator_model = sm.OLS.from_formula(\"mean_SSD ~ mean_go_RT\", data)\n",
    "med = Mediation(outcome_model, mediator_model, \"mean_go_RT\", mediator=\"mean_SSD\").fit()\n",
    "med.summary()"
   ]
  },
  {
   "cell_type": "code",
   "execution_count": null,
   "metadata": {},
   "outputs": [],
   "source": [
    "outcome_model = sm.GLM.from_formula(\"SSRT ~ mean_SSD + mean_go_RT\",\n",
    "                                     data, family=sm.families.Binomial())\n",
    "mediator_model = sm.OLS.from_formula(\"mean_SSD ~ mean_go_RT\", data)\n",
    "med = Mediation(outcome_model, mediator_model, \"mean_go_RT\", mediator=\"mean_SSD\").fit()\n",
    "med.summary()"
   ]
  },
  {
   "cell_type": "code",
   "execution_count": null,
   "metadata": {},
   "outputs": [],
   "source": []
  },
  {
   "cell_type": "code",
   "execution_count": null,
   "metadata": {},
   "outputs": [],
   "source": [
    "outcome_model = sm.GLM.from_formula(\"SSRT ~  mean_go_RT + mean_SSD\",\n",
    "                                     data, family=sm.families.Binomial(link=probit()))\n",
    "mediator_model = sm.OLS.from_formula(\"mean_go_RT ~ mean_SSD\", data)\n",
    "med = Mediation(outcome_model, mediator_model, \"mean_SSD\", mediator=\"mean_go_RT\").fit()\n",
    "med.summary()"
   ]
  },
  {
   "cell_type": "code",
   "execution_count": null,
   "metadata": {},
   "outputs": [],
   "source": []
  },
  {
   "cell_type": "code",
   "execution_count": null,
   "metadata": {},
   "outputs": [],
   "source": [
    "data.corr()"
   ]
  },
  {
   "cell_type": "code",
   "execution_count": null,
   "metadata": {},
   "outputs": [],
   "source": []
  }
 ],
 "metadata": {
  "kernelspec": {
   "display_name": "Python 3",
   "language": "python",
   "name": "python3"
  },
  "language_info": {
   "codemirror_mode": {
    "name": "ipython",
    "version": 3
   },
   "file_extension": ".py",
   "mimetype": "text/x-python",
   "name": "python",
   "nbconvert_exporter": "python",
   "pygments_lexer": "ipython3",
   "version": "3.7.3"
  }
 },
 "nbformat": 4,
 "nbformat_minor": 4
}
