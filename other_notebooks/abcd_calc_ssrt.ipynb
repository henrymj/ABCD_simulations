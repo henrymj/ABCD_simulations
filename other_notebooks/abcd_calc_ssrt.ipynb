{
 "cells": [
  {
   "cell_type": "code",
   "execution_count": 1,
   "metadata": {},
   "outputs": [],
   "source": [
    "import pandas as pd\n",
    "from stopsignalmetrics import SSRTmodel, StopData #won't work unless you pip install\n",
    "import numpy as np"
   ]
  },
  {
   "cell_type": "markdown",
   "metadata": {},
   "source": [
    "load curated data from SST dataset - these are 7231 participants who finished the SST scan, and can kind of be recreated from mckenziephage/ABCD_StopSignal. no behavioral flags were included. "
   ]
  },
  {
   "cell_type": "code",
   "execution_count": 22,
   "metadata": {},
   "outputs": [],
   "source": [
    "sst_minimal = pd.read_csv('abcd_data/abcd_raw.csv', index_col=0)"
   ]
  },
  {
   "cell_type": "code",
   "execution_count": 23,
   "metadata": {},
   "outputs": [
    {
     "data": {
      "text/plain": [
       "8464"
      ]
     },
     "execution_count": 23,
     "metadata": {},
     "output_type": "execute_result"
    }
   ],
   "source": [
    "len(sst_minimal.NARGUID.unique())"
   ]
  },
  {
   "cell_type": "code",
   "execution_count": null,
   "metadata": {},
   "outputs": [],
   "source": [
    "# assert(len(sst_minimal['NARGUID'].unique()) == 7231)"
   ]
  },
  {
   "cell_type": "markdown",
   "metadata": {},
   "source": [
    "cool, that matches - basic test that we've got the right csv\n",
    "\n",
    "\n",
    "The ABCD Data does not come with some of the columns that `stopsignalmetrics` wants, so lets make those"
   ]
  },
  {
   "cell_type": "code",
   "execution_count": 24,
   "metadata": {},
   "outputs": [],
   "source": [
    "#this wants block columns so let's make those  \n",
    "\n",
    "#this will give a SettingWithCopyWarning... will fix \n",
    "\n",
    "sst_minimal['block'] = np.NaN\n",
    "\n",
    "sst_minimal['block'].loc[sst_minimal['TrialNum'] <= 180] = '1'\n",
    "sst_minimal['block'].loc[sst_minimal['TrialNum'] >= 181] = '2'"
   ]
  },
  {
   "cell_type": "code",
   "execution_count": 25,
   "metadata": {},
   "outputs": [],
   "source": [
    "resp_replace = {'2.0': 2.0,\n",
    "                '1.0': 1.0,\n",
    "                '3.0': 3.0,\n",
    "                '4.0': 4.0,\n",
    "                '{LEFTARROW}': 1.0,\n",
    "                '{RIGHTARROW}': 2.0}"
   ]
  },
  {
   "cell_type": "code",
   "execution_count": 26,
   "metadata": {},
   "outputs": [],
   "source": [
    "#can I do this more succinctly? - I could do it in a function but this is pretty clear\n",
    "#if you get an error it's because you've already ran it \n",
    "sst_minimal['SSD.RESP'].replace(resp_replace, inplace=True)\n",
    "sst_minimal['StopSignal.RESP'].replace(resp_replace, inplace=True)\n",
    "sst_minimal['Fix.RESP'].replace(resp_replace, inplace=True)\n"
   ]
  },
  {
   "cell_type": "code",
   "execution_count": 27,
   "metadata": {},
   "outputs": [],
   "source": [
    "#and it wants all of the responses in one column, curses eprime\n",
    "#how can I make this neater... \n",
    "sst_minimal['finger_press'] = np.NaN\n",
    "sst_minimal['finger_press'] = sst_minimal['SSD.RESP'].combine_first(sst_minimal['StopSignal.RESP'])\n",
    "sst_minimal['finger_press'] = sst_minimal['finger_press'].combine_first(sst_minimal['Fix.RESP'])\n",
    "\n",
    "#check!! \n",
    "assert sst_minimal.loc[(sst_minimal['trial_type'] == 'StopTrial') & (sst_minimal['correct_stop'] == 0)]['finger_press'].notnull().any()\n",
    "\n",
    "# #now do the go trials, which don't ever have row-wise overlap with the stops\n",
    "sst_minimal['finger_press'] = sst_minimal['finger_press'].combine_first(sst_minimal['Go.RESP'])\n",
    "sst_minimal['finger_press'] = sst_minimal['finger_press'].combine_first(sst_minimal['Fix.RESP'])\n",
    "sst_minimal['finger_press'] = sst_minimal['finger_press'].astype(float)"
   ]
  },
  {
   "cell_type": "code",
   "execution_count": 28,
   "metadata": {},
   "outputs": [],
   "source": [
    "#get rid of my omission cells, these are so annoying, maytbe I should fix them in the other processing script\n",
    "sst_minimal.loc[sst_minimal['correct_go_response'] == 'omission', 'correct_go_response'] = 0.0\n",
    "#maybe henry can make it so that it won't throw a fit with values that don't match the mapping"
   ]
  },
  {
   "cell_type": "code",
   "execution_count": 29,
   "metadata": {},
   "outputs": [
    {
     "name": "stdout",
     "output_type": "stream",
     "text": [
      "[1. 2.]\n",
      "[ 1.  2. nan]\n"
     ]
    },
    {
     "data": {
      "text/plain": [
       "numpy.float64"
      ]
     },
     "execution_count": 29,
     "metadata": {},
     "output_type": "execute_result"
    }
   ],
   "source": [
    "#ugh more fixing - just gotta make it so that all of the mappign for this dataset is the same - this could 100% be a function \n",
    "\n",
    "# correct_map = {\n",
    "#     4.0: 1.0,\n",
    "#     3.0: 2.0\n",
    "# }\n",
    "\n",
    "sst_minimal['correct_response'] = sst_minimal['correct_stimulus_mapping_1']\n",
    "print(sst_minimal['correct_response'].unique())\n",
    "sst_minimal['correct_response'].loc[sst_minimal['correct_stimulus_mapping_2'] == 4.0] = 1.0\n",
    "sst_minimal['correct_response'].loc[sst_minimal['correct_stimulus_mapping_2'] == 3.0] = 2.0\n",
    "\n",
    "\n",
    "sst_minimal['finger_press'].loc[sst_minimal['finger_press'] == 4.0] = 1.0 \n",
    "sst_minimal['finger_press'].loc[sst_minimal['finger_press'] == 3.0] = 2.0\n",
    "#now the stop trials \n",
    "print(sst_minimal['finger_press'].unique())\n",
    "type(sst_minimal['finger_press'].unique()[1])"
   ]
  },
  {
   "cell_type": "code",
   "execution_count": 19,
   "metadata": {},
   "outputs": [],
   "source": [
    "keep_cols = ['NARGUID', 'go_rt_adjusted', 'stop_rt_adjusted', 'trial_type', 'SSDDur',\n",
    "       'correct_go_response', 'correct_stop', 'SSD.RESP', 'Fix.RESP',\n",
    "       'StopSignal.RESP', 'Go.RESP', 'TrialNum', 'correct_stimulus_mapping_1',\n",
    "       'correct_stimulus_mapping_2', 'block', 'finger_press',\n",
    "       'correct_response']"
   ]
  },
  {
   "cell_type": "code",
   "execution_count": 32,
   "metadata": {},
   "outputs": [
    {
     "data": {
      "text/plain": [
       "8464"
      ]
     },
     "execution_count": 32,
     "metadata": {},
     "output_type": "execute_result"
    }
   ],
   "source": [
    "len(sst_minimal[keep_cols].NARGUID.unique())"
   ]
  },
  {
   "cell_type": "code",
   "execution_count": 31,
   "metadata": {},
   "outputs": [],
   "source": [
    "sst_minimal[keep_cols].to_csv('abcd_data/abcd_w_finger_press.csv', index=False)"
   ]
  },
  {
   "cell_type": "code",
   "execution_count": null,
   "metadata": {},
   "outputs": [],
   "source": [
    "#if your data represents a no-response in the RT column as 0, we gotta change that\n",
    "sst_minimal['go_rt_adjusted'].loc[sst_minimal['finger_press'].isnull()] = np.NaN#[['go_rt_adjusted', 'stop_rt_adjusted']] = 'NaN'\n",
    "sst_minimal['stop_rt_adjusted'].loc[sst_minimal['finger_press'].isnull()] = np.NaN#[['go_rt_adjusted', 'stop_rt_adjusted']] = 'NaN'\n"
   ]
  },
  {
   "cell_type": "code",
   "execution_count": null,
   "metadata": {},
   "outputs": [],
   "source": [
    "correct_fail_choice = sst_minimal.loc[(sst_minimal['trial_type'] == 'StopTrial') & (sst_minimal['correct_response'] == sst_minimal['finger_press'])].index\n",
    "incorrect_fail_choice = sst_minimal.loc[(sst_minimal['trial_type'] == 'StopTrial') & (sst_minimal['finger_press'].notnull()) & (sst_minimal['correct_response'] != sst_minimal['finger_press'])].index\n",
    "\n",
    "sst_minimal.loc[correct_fail_choice, 'choice_accuracy'] = 1.0\n",
    "sst_minimal.loc[incorrect_fail_choice, 'choice_accuracy'] = 0.0"
   ]
  },
  {
   "cell_type": "code",
   "execution_count": null,
   "metadata": {},
   "outputs": [],
   "source": [
    "sst_minimal"
   ]
  },
  {
   "cell_type": "code",
   "execution_count": null,
   "metadata": {},
   "outputs": [],
   "source": [
    "sst_minimal.to_csv('sst_minimal_with_acc.csv')"
   ]
  },
  {
   "cell_type": "code",
   "execution_count": null,
   "metadata": {},
   "outputs": [],
   "source": [
    "#we need to build a dict to tell the package what to expect \n",
    "variable_dict = {\n",
    "   \"columns\": {\n",
    "      \"ID\": \"NARGUID\", #subject identifier\n",
    "      \"condition\": \"trial_type\", #col with trial types \n",
    "       \"correct_response\": \"correct_response\", #col with correct reponse codes\n",
    "       \"response\": \"finger_press\", #col with actual response codes \n",
    "\n",
    "      \"SSD\": \"SSDDur\", #col with stop signal delay \n",
    "      \"block\": \"block\", #col with which block a trial is accuring during\n",
    "      \"goRT\": \"go_rt_adjusted\", # col with go reaction time recording \n",
    "      \"stopRT\": \"stop_rt_adjusted\", #col with stop failure reaction time recording\n",
    "      \"choice_accuracy\": \"correct_go_response\" #col with whether a response was correct\n",
    "   },\n",
    "   \"key_codes\": {\n",
    "      \"go\": \"GoTrial\", # cell values for go trials  \n",
    "      \"stop\": \"StopTrial\",  #cell values for stop trials \n",
    "      \"correct\": '1.0',\n",
    "       \"incorrect\": '0.0',\n",
    "       \"noResponse\": float('nan')\n",
    "   }\n",
    "}"
   ]
  },
  {
   "cell_type": "code",
   "execution_count": null,
   "metadata": {},
   "outputs": [],
   "source": [
    "abcd_ssrt = StopData(var_dict=variable_dict, compute_acc_col=False)\n",
    "\n",
    "abcd_proc = abcd_ssrt.fit_transform(sst_minimal) \n",
    "\n",
    "ssrt_model = SSRTmodel(model='replacement') \n",
    "\n",
    "abcd_metrics = abcd_proc.groupby('ID').apply(ssrt_model.fit_transform).apply(pd.Series)"
   ]
  },
  {
   "cell_type": "code",
   "execution_count": null,
   "metadata": {},
   "outputs": [],
   "source": [
    "ssrt_model = SSRTmodel(model='replacement') #setup the class \n",
    "abcd_metrics = abcd_proc.groupby('ID').apply(ssrt_model.fit_transform).apply(pd.Series)"
   ]
  },
  {
   "cell_type": "code",
   "execution_count": null,
   "metadata": {},
   "outputs": [],
   "source": [
    "#so we get a dataframe back, where each row is a participant\n",
    "#lets save it so that we can avoid running that again \n",
    "abcd_metrics.to_csv('abcd_ssrt_with_replacement.csv')\n",
    "#and each column is a metric we're interested in \n",
    "abcd_metrics.columns"
   ]
  },
  {
   "cell_type": "markdown",
   "metadata": {},
   "source": [
    "external calculations from Bissett, Hagen et al., (under review)\n",
    "\n",
    "mean stop failure: stop failure rt: 456.0738969888373\n",
    "\n",
    "overt go response mean: 543.6630781157475\n",
    "\n",
    "mean ssd: 229.6218826349514\n",
    "\n",
    "stop fail acc: 0.7849329038397169\n",
    "\n",
    "go acc: 0.8940692299091484\n"
   ]
  },
  {
   "cell_type": "code",
   "execution_count": null,
   "metadata": {},
   "outputs": [],
   "source": [
    "#quick confidence check (how can I make this nicer?)\n",
    "print(abcd_metrics['mean_stopfail_RT'].mean())\n",
    "\n",
    "print(abcd_metrics['mean_go_RT'].mean())\n",
    "print(abcd_metrics['mean_SSD'].mean())\n",
    "\n",
    "print(abcd_metrics['stopfail_acc'].mean())\n",
    "print(abcd_metrics['go_acc'].mean())\n"
   ]
  },
  {
   "cell_type": "markdown",
   "metadata": {},
   "source": [
    "so, the go accuracy is a little off - will investigate w/ Henry "
   ]
  }
 ],
 "metadata": {
  "kernelspec": {
   "display_name": "Python 3",
   "language": "python",
   "name": "python3"
  },
  "language_info": {
   "codemirror_mode": {
    "name": "ipython",
    "version": 3
   },
   "file_extension": ".py",
   "mimetype": "text/x-python",
   "name": "python",
   "nbconvert_exporter": "python",
   "pygments_lexer": "ipython3",
   "version": "3.7.3"
  }
 },
 "nbformat": 4,
 "nbformat_minor": 4
}
