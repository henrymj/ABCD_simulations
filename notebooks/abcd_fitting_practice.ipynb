{
 "cells": [
  {
   "cell_type": "code",
   "execution_count": 1,
   "metadata": {},
   "outputs": [],
   "source": [
    "import numpy as np\n",
    "import pandas as pd\n",
    "\n",
    "import matplotlib.pyplot as plt\n",
    "from matplotlib import cm\n",
    "import seaborn as sns\n",
    "# import joypy\n",
    "\n",
    "from sympy.solvers import solve\n",
    "from sympy import Symbol\n",
    "import scipy.stats as sstats\n",
    "\n",
    "from stopsignalmetrics import SSRTmodel\n",
    "from SimulateData import SimulateData\n",
    "from utils import joyplot\n",
    "\n",
    "\n",
    "%matplotlib inline"
   ]
  },
  {
   "cell_type": "markdown",
   "metadata": {},
   "source": [
    "## general simulation testing"
   ]
  },
  {
   "cell_type": "code",
   "execution_count": 2,
   "metadata": {},
   "outputs": [
    {
     "name": "stderr",
     "output_type": "stream",
     "text": [
      "/Users/henrymj/anaconda3/lib/python3.7/site-packages/ipykernel_launcher.py:19: RuntimeWarning: All-NaN slice encountered\n",
      "/Users/henrymj/anaconda3/lib/python3.7/site-packages/matplotlib/axes/_axes.py:6743: RuntimeWarning: All-NaN slice encountered\n",
      "  xmin = min(xmin, np.nanmin(xi))\n",
      "/Users/henrymj/anaconda3/lib/python3.7/site-packages/matplotlib/axes/_axes.py:6744: RuntimeWarning: All-NaN slice encountered\n",
      "  xmax = max(xmax, np.nanmax(xi))\n",
      "/Users/henrymj/anaconda3/lib/python3.7/site-packages/numpy/lib/histograms.py:908: RuntimeWarning: invalid value encountered in true_divide\n",
      "  return n/db/n.sum(), bin_edges\n",
      "/Users/henrymj/Documents/abcd/utils.py:228: UserWarning: At least a column/group has no numeric values.\n",
      "  warn(\"At least a column/group has no numeric values.\")\n",
      "/Users/henrymj/anaconda3/lib/python3.7/site-packages/numpy/lib/histograms.py:908: RuntimeWarning: invalid value encountered in true_divide\n",
      "  return n/db/n.sum(), bin_edges\n",
      "/Users/henrymj/anaconda3/lib/python3.7/site-packages/numpy/lib/histograms.py:908: RuntimeWarning: invalid value encountered in true_divide\n",
      "  return n/db/n.sum(), bin_edges\n",
      "/Users/henrymj/anaconda3/lib/python3.7/site-packages/numpy/lib/histograms.py:908: RuntimeWarning: invalid value encountered in true_divide\n",
      "  return n/db/n.sum(), bin_edges\n"
     ]
    },
    {
     "data": {
      "image/png": "[encoded data removed]",
      "text/plain": [
       "<Figure size 576x576 with 13 Axes>"
      ]
     },
     "metadata": {
      "needs_background": "light"
     },
     "output_type": "display_data"
    }
   ],
   "source": [
    "simulator = SimulateData()\n",
    "sim_data = simulator.simulate()\n",
    "\n",
    "SSDs = sim_data.SSD.unique()\n",
    "SSDs = [i for i in SSDs if i==i]\n",
    "SSDs.sort()\n",
    "RT_dist_dict = {ssd: [] for ssd in SSDs}\n",
    "for ssd in SSDs:\n",
    "    RT_dist_dict[ssd] = sim_data.query(\n",
    "        f\"SSD == {ssd}\"\n",
    "    ).stopRT.values\n",
    "\n",
    "go_RTs = sim_data.query(\n",
    "        f\"condition == 'go'\"\n",
    "    ).goRT.values\n",
    "\n",
    "RT_dist_dict.update({-1:go_RTs})\n",
    "\n",
    "max_RT = np.nanmax([np.nanmax(RT_dist_dict[key]) for key in RT_dist_dict])\n",
    "\n",
    "bins = np.arange(0, max_RT, 5)\n",
    "prob_dict = {key: [] for key in RT_dist_dict}\n",
    "between_bin_dict = {key: [] for key in RT_dist_dict}\n",
    "for key in RT_dist_dict:\n",
    "    ps, bins, _= plt.hist(RT_dist_dict[key], bins=bins, density=True)\n",
    "    prob_dict[key] = ps\n",
    "    between_bin_dict[key] = [np.mean([p1, p2]) for p1, p2 in zip(ps[:-1], ps[1:])]\n",
    "    plt.close()\n",
    "\n",
    "RT_by_SSD_df = pd.DataFrame({ key:pd.Series(value) for key, value in RT_dist_dict.items()})\n",
    "RT_by_SSD_df = RT_by_SSD_df.reindex(sorted(RT_by_SSD_df.columns), axis=1)\n",
    "rt_by_SSD_melt = RT_by_SSD_df.melt(value_vars=RT_by_SSD_df.columns, var_name='SSD', value_name='RT')\n",
    "\n",
    "fig, axes = joyplot(rt_by_SSD_melt, by=\"SSD\", column=\"RT\", range_style='own',\n",
    "                    grid='y',\n",
    "                    linewidth=1, legend=False, figsize=(8,8),\n",
    "                    title=\"RT Distribution by trial type / SSD\",\n",
    "                    bins=bins,\n",
    "                    hist=True,\n",
    "                    density=True,\n",
    "                    ylim='own',\n",
    "                    colormap=cm.autumn_r,\n",
    "                    fade=True)\n",
    "plt.show()\n",
    "plt.close()"
   ]
  },
  {
   "cell_type": "markdown",
   "metadata": {},
   "source": [
    "# GET ABCD INFO"
   ]
  },
  {
   "cell_type": "code",
   "execution_count": 3,
   "metadata": {},
   "outputs": [],
   "source": [
    "abcd_data = pd.read_csv('minimal_abcd_no_issue_3.csv')"
   ]
  },
  {
   "cell_type": "markdown",
   "metadata": {},
   "source": [
    "## get P(guess) mixing proportions"
   ]
  },
  {
   "cell_type": "code",
   "execution_count": 4,
   "metadata": {},
   "outputs": [],
   "source": [
    "SSDs = abcd_data.SSDDur.unique()\n",
    "SSDs = [i for i in SSDs if i==i and i <=550]\n",
    "SSDs.sort()\n",
    "acc_per_SSD = pd.DataFrame()\n",
    "for ssd in SSDs:\n",
    "    curr_means = abcd_data.query(\n",
    "        f\"SSDDur == {ssd} and correct_stop==0.0\"\n",
    "    ).groupby('NARGUID').mean()['choice_accuracy']\n",
    "    curr_means.name = ssd\n",
    "    acc_per_SSD = pd.concat([acc_per_SSD, curr_means], 1, sort=True)\n",
    "\n",
    "go_accs = abcd_data.query(\n",
    "        f\"trial_type == 'GoTrial' and correct_go_response in ['1.0', '0.0']\"\n",
    "    ).groupby('NARGUID').mean()['choice_accuracy']\n",
    "go_accs.name = -1\n",
    "acc_per_SSD = pd.concat([acc_per_SSD, go_accs], 1, sort=True)"
   ]
  },
  {
   "cell_type": "code",
   "execution_count": 5,
   "metadata": {},
   "outputs": [],
   "source": [
    "p = Symbol('p')\n",
    "guess_mean = acc_per_SSD.mean()[0.0]\n",
    "go_mean = acc_per_SSD.mean()[-1]\n",
    "p_guess_per_SSD = []\n",
    "for ssd in acc_per_SSD.columns:\n",
    "    curr_mean = acc_per_SSD.mean()[ssd]\n",
    "    solution = solve(p*guess_mean + (1-p)*go_mean - curr_mean, p)\n",
    "    assert len(solution)==1\n",
    "    p_guess_per_SSD.append(solution[0])"
   ]
  },
  {
   "cell_type": "markdown",
   "metadata": {},
   "source": [
    "## Getting expnorm info"
   ]
  },
  {
   "cell_type": "code",
   "execution_count": null,
   "metadata": {},
   "outputs": [],
   "source": [
    "def generate_exgauss_sampler_from_fit(data,\n",
    "                                      default_sample_size=100000):\n",
    "    FIT_K, FIT_LOC, FIT_SCALE  = sstats.exponnorm.fit(data)\n",
    "    FIT_mean = FIT_LOC + FIT_K*FIT_SCALE\n",
    "    FIT_λ = 1/(FIT_K*FIT_SCALE)\n",
    "    FIT_BETA = 1/FIT_λ\n",
    "\n",
    "    def sample_exgauss(sample_size=default_sample_size, beta=FIT_BETA, scale=FIT_SCALE, loc=FIT_LOC):\n",
    "        exp_out = np.random.exponential(scale=beta, size=sample_size)\n",
    "        norm_out = np.random.normal(scale=scale, size=sample_size)\n",
    "        return (exp_out+norm_out) + loc\n",
    "    \n",
    "    return sample_exgauss\n",
    "    \n",
    "SSD0_RTs = abcd_data.query(\"SSDDur == 0.0 and correct_stop==0.0\").stop_rt_adjusted.values\n",
    "sample_exgauss = generate_exgauss_sampler_from_fit(SSD0_RTs)"
   ]
  },
  {
   "cell_type": "markdown",
   "metadata": {},
   "source": [
    "# SIMULATE"
   ]
  },
  {
   "cell_type": "code",
   "execution_count": null,
   "metadata": {},
   "outputs": [],
   "source": [
    "nsubjects = 75\n",
    "subjects = np.arange(0, nsubjects)\n",
    "\n",
    "simulator_dict = {\n",
    "    'vanilla': SimulateData(),\n",
    "    'guesses': SimulateData(guesses=True),\n",
    "    'graded_mu_go': SimulateData(graded_mu_go=True)\n",
    "}\n",
    "\n",
    "group_data_dict = {\n",
    "    'vanilla': pd.DataFrame(),\n",
    "    'guesses': pd.DataFrame(),\n",
    "    'graded_mu_go': pd.DataFrame()\n",
    "}\n",
    "\n",
    "for subject in subjects:\n",
    "    params={\n",
    "        'n_trials': 50,\n",
    "        'SSDs': SSDs, \n",
    "        'mu_go': np.random.normal(.2, scale=.03),\n",
    "        'mu_stop': np.random.normal(.65, scale=.03),\n",
    "        'guess_function': sample_exgauss,\n",
    "        'p_guess': p_guess_per_SSD[:-1] # ignore go trials, for now\n",
    "    }\n",
    "    for sim_key in simulator_dict:\n",
    "        data = simulator_dict[sim_key].simulate(params)\n",
    "        data['ID'] = subject\n",
    "        group_data_dict[sim_key] = pd.concat([group_data_dict[sim_key], data],0)"
   ]
  },
  {
   "cell_type": "code",
   "execution_count": null,
   "metadata": {},
   "outputs": [],
   "source": [
    "full_data = pd.DataFrame()\n",
    "for stim_key in group_data_dict:\n",
    "    curr_group = group_data_dict[stim_key].copy()\n",
    "    curr_group['simulation'] = stim_key\n",
    "    curr_group.to_csv('Simulated_Data/%s.csv' % stim_key)\n",
    "    full_data = pd.concat([full_data, curr_group])\n",
    "full_data.to_csv('Simulated_Data/full.csv')"
   ]
  },
  {
   "cell_type": "code",
   "execution_count": null,
   "metadata": {},
   "outputs": [],
   "source": [
    "ssrt_data = pd.DataFrame()\n",
    "for stim_key in group_data_dict:\n",
    "    curr_group = SSRTmodel().fit_transform(group_data_dict[stim_key], level='group').reset_index()\n",
    "    curr_group['simulation'] = stim_key\n",
    "    ssrt_data = pd.concat([ssrt_data, curr_group])\n",
    "    \n",
    "ssrt_data = ssrt_data.reset_index(drop=True)\n",
    "sns.boxplot(x=ssrt_data['simulation'], y=ssrt_data['SSRT'],showmeans=True, fliersize=1 )    "
   ]
  },
  {
   "cell_type": "code",
   "execution_count": null,
   "metadata": {},
   "outputs": [],
   "source": [
    "for sim_key in group_data_dict:\n",
    "    sim_data = group_data_dict[sim_key]\n",
    "\n",
    "    SSDs = sim_data.SSD.unique()\n",
    "    SSDs = [i for i in SSDs if i==i]\n",
    "    SSDs.sort()\n",
    "    RT_dist_dict = {ssd: [] for ssd in SSDs}\n",
    "    for ssd in SSDs:\n",
    "        RT_dist_dict[ssd] = sim_data.query(\n",
    "            f\"SSD == {ssd}\"\n",
    "        ).stopRT.values\n",
    "\n",
    "    go_RTs = sim_data.query(\n",
    "            f\"condition == 'go'\"\n",
    "        ).goRT.values\n",
    "\n",
    "    RT_dist_dict.update({-1:go_RTs})\n",
    "\n",
    "    max_RT = np.nanmax([np.nanmax(RT_dist_dict[key]) for key in RT_dist_dict])\n",
    "\n",
    "    bins = np.arange(0, max_RT, 5)\n",
    "    prob_dict = {key: [] for key in RT_dist_dict}\n",
    "    between_bin_dict = {key: [] for key in RT_dist_dict}\n",
    "    for key in RT_dist_dict:\n",
    "        ps, bins, _= plt.hist(RT_dist_dict[key], bins=bins, density=True)\n",
    "        prob_dict[key] = ps\n",
    "        between_bin_dict[key] = [np.mean([p1, p2]) for p1, p2 in zip(ps[:-1], ps[1:])]\n",
    "        plt.close()\n",
    "\n",
    "    RT_by_SSD_df = pd.DataFrame({ key:pd.Series(value) for key, value in RT_dist_dict.items()})\n",
    "    RT_by_SSD_df = RT_by_SSD_df.reindex(sorted(RT_by_SSD_df.columns), axis=1)\n",
    "    rt_by_SSD_melt = RT_by_SSD_df.melt(value_vars=RT_by_SSD_df.columns, var_name='SSD', value_name='RT')\n",
    "\n",
    "    fig, axes = joyplot(rt_by_SSD_melt, by=\"SSD\", column=\"RT\", range_style='own', \n",
    "                        grid=\"y\", linewidth=1, legend=False, figsize=(8,8),\n",
    "                        title=\"[%s] RT Distribution by trial type / SSD\" % sim_key,\n",
    "                        bins=bins,\n",
    "                        ylim='own',\n",
    "                        colormap=cm.autumn_r,\n",
    "                        fade=True,\n",
    "                        hist=True,\n",
    "                        density=True)\n",
    "    plt.show()\n",
    "    plt.close()"
   ]
  },
  {
   "cell_type": "code",
   "execution_count": null,
   "metadata": {},
   "outputs": [],
   "source": []
  }
 ],
 "metadata": {
  "kernelspec": {
   "display_name": "Python 3",
   "language": "python",
   "name": "python3"
  },
  "language_info": {
   "codemirror_mode": {
    "name": "ipython",
    "version": 3
   },
   "file_extension": ".py",
   "mimetype": "text/x-python",
   "name": "python",
   "nbconvert_exporter": "python",
   "pygments_lexer": "ipython3",
   "version": "3.7.3"
  }
 },
 "nbformat": 4,
 "nbformat_minor": 4
}
