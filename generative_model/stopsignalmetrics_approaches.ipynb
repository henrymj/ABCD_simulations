{
 "cells": [
  {
   "cell_type": "code",
   "execution_count": 4,
   "metadata": {},
   "outputs": [],
   "source": [
    "import argparse\n",
    "import json\n",
    "import os\n",
    "import numpy as np\n",
    "from trial import Trial\n",
    "from collections import namedtuple\n",
    "import pandas as pd\n",
    "from stopsignalmetrics import StopData, SSRTmodel, PostStopSlow, Violations, StopSummary\n",
    "\n",
    "from stoptaskstudy import StopTaskStudy, fixedSSD"
   ]
  },
  {
   "cell_type": "code",
   "execution_count": 5,
   "metadata": {},
   "outputs": [],
   "source": [
    "def get_args():\n",
    "    parser = argparse.ArgumentParser(description='ABCD data simulator')\n",
    "    parser.add_argument('--paramfile', help='json file containing parameters')\n",
    "    parser.add_argument('--min_ssd', help='minimum SSD value', default=0)\n",
    "    parser.add_argument('--max_ssd', help='maximum SSD value', default=550)\n",
    "    parser.add_argument('--ssd_step', help='SSD step size', default=50)\n",
    "    parser.add_argument('--random_seed', help='random seed', type=int)\n",
    "    parser.add_argument('--tracking', help='use tracking algorithm', action='store_true')\n",
    "    parser.add_argument('--n_subjects', type=int,\n",
    "                        help='number of subjects to simulate', default=1)\n",
    "    parser.add_argument('--out_dir',\n",
    "                        default='./simulated_data/pseudosubjects',\n",
    "                        help='location to save simulated data')\n",
    "    return parser.parse_args([])"
   ]
  },
  {
   "cell_type": "code",
   "execution_count": 6,
   "metadata": {},
   "outputs": [
    {
     "name": "stdout",
     "output_type": "stream",
     "text": [
      "simulating stop task for 1 subjects\n",
      "None\n",
      "running subject 1\n",
      "                rt      resp\n",
      "SSD                         \n",
      "-inf    357.063432  0.999500\n",
      " 0.0    265.000000  0.005988\n",
      " 50.0   283.000000  0.029940\n",
      " 100.0  311.125000  0.095808\n",
      " 150.0  342.909091  0.066667\n",
      " 200.0  369.724138  0.175758\n",
      " 250.0  394.851852  0.323353\n",
      " 300.0  404.043956  0.544910\n",
      " 350.0  397.130435  0.826347\n",
      " 400.0  397.186667  0.898204\n",
      " 450.0  393.716981  0.952096\n",
      " 500.0  370.383234  1.000000\n",
      " 550.0  348.024096  0.994012\n",
      "go_accuracy 0.5574787393696848\n",
      "{'SSRT': {'mean': 81.86343171585793, 'integration': 60.80000000000001, 'omission': 60.80000000000001, 'replacement': 60.80000000000001}, 'mean_SSD': 275.2, 'p_respond': 0.4935, 'max_RT': 985.0, 'mean_go_RT': 357.0634317158579, 'mean_stopfail_RT': 380.8014184397163, 'omission_count': 5, 'omission_rate': 0.0005, 'go_acc': 0.9341670835417709, 'stopfail_acc': 0.839918946301925}\n"
     ]
    }
   ],
   "source": [
    "args = get_args()\n",
    "print(f'simulating stop task for {args.n_subjects} subjects')\n",
    "if args.paramfile is not None:\n",
    "    with open(args.paramfile) as f:\n",
    "        params = json.load(f)\n",
    "else:\n",
    "    params = None\n",
    "print(params)\n",
    "\n",
    "if args.random_seed is not None:\n",
    "    np.random.seed(args.random_seed)\n",
    "\n",
    "if args.tracking:\n",
    "    ssd = trackingSSD()\n",
    "else:\n",
    "    ssd = fixedSSD(np.arange(args.min_ssd, args.max_ssd + args.ssd_step, args.ssd_step))\n",
    "study = StopTaskStudy(ssd, args.out_dir)\n",
    "\n",
    "# save some extra params for output to json\n",
    "study.params['args'] = args.__dict__\n",
    "study.params['pwd'] = os.getcwd()\n",
    "\n",
    "for i in range(args.n_subjects):\n",
    "    print(f'running subject {i + 1}')\n",
    "    trialdata = study.run()\n",
    "    study.save_trialdata()\n",
    "\n",
    "    # summarize data - go trials are labeled with SSD of -inf so that\n",
    "    # they get included in the summary\n",
    "    print(trialdata.groupby('SSD').mean())\n",
    "    print('go_accuracy', trialdata.query('trialtype==\"go\"').correct.mean())\n",
    "    print(study.get_stopsignal_metrics())"
   ]
  },
  {
   "cell_type": "code",
   "execution_count": null,
   "metadata": {},
   "outputs": [],
   "source": []
  }
 ],
 "metadata": {
  "kernelspec": {
   "display_name": "Python 3",
   "language": "python",
   "name": "python3"
  },
  "language_info": {
   "codemirror_mode": {
    "name": "ipython",
    "version": 3
   },
   "file_extension": ".py",
   "mimetype": "text/x-python",
   "name": "python",
   "nbconvert_exporter": "python",
   "pygments_lexer": "ipython3",
   "version": "3.7.3"
  }
 },
 "nbformat": 4,
 "nbformat_minor": 4
}
