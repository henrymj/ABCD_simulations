{
 "cells": [
  {
   "cell_type": "markdown",
   "metadata": {},
   "source": [
    "## Likelihood-free estimation of stop model parameters\n",
    "\n",
    "This notebook shows how to use approximate Bayesian computation via sequential Monte Carlo (ABC-SMC) using the pyABC package."
   ]
  },
  {
   "cell_type": "code",
   "execution_count": 1,
   "metadata": {},
   "outputs": [],
   "source": [
    "# imports\n",
    "\n",
    "import pyabc\n",
    "import json\n",
    "from pyabc import (ABCSMC,\n",
    "                   RV, Distribution)\n",
    "import numpy as np\n",
    "import scipy.stats as st\n",
    "import tempfile\n",
    "import os\n",
    "import pandas as pd\n",
    "import matplotlib.pyplot as plt\n",
    "import logging\n",
    "\n",
    "from ssd import fixedSSD\n",
    "from stoptaskstudy import StopTaskStudy\n",
    "%matplotlib inline\n",
    "\n"
   ]
  },
  {
   "cell_type": "code",
   "execution_count": 2,
   "metadata": {},
   "outputs": [],
   "source": [
    "# set to True for debugging outputs\n",
    "\n",
    "debug = True\n",
    "\n",
    "if debug:\n",
    "    df_logger = logging.getLogger('Distance')\n",
    "    df_logger.setLevel(logging.DEBUG)\n",
    "\n"
   ]
  },
  {
   "cell_type": "code",
   "execution_count": 6,
   "metadata": {},
   "outputs": [
    {
     "data": {
      "text/plain": [
       "['mu_delta_incorrect', 'mu_go', 'mu_stop_delta', 'noise_sd', 'nondecision']"
      ]
     },
     "execution_count": 6,
     "metadata": {},
     "output_type": "execute_result"
    }
   ],
   "source": [
    "# create a single-layer metrics dict for output\n",
    "# since the pickler can't handle multilevel dicts\n",
    "def cleanup_metrics(metrics):\n",
    "    for k in metrics['SSRT']:\n",
    "        metrics['SSRT_' + k] = metrics['SSRT'][k]\n",
    "    del metrics['SSRT']\n",
    "    return(metrics)\n",
    "\n",
    "\n",
    "def stopsignal_model(parameters):\n",
    "    paramfile = 'params.json'\n",
    "    with open(paramfile) as f:\n",
    "            params = json.load(f)\n",
    "    # install the parameters from the simulation\n",
    "    parameters['nondecision'] = int(parameters['nondecision'])\n",
    "    params['mu']['go'] = parameters['mu_go']\n",
    "    params['mu']['stop'] = parameters['mu_go'] + parameters['mu_stop_delta']\n",
    "    params['mu_delta_incorrect']  = parameters['mu_delta_incorrect']\n",
    "    params['noise_sd'] = {'go': parameters['noise_sd'],\n",
    "                          'stop': parameters['noise_sd']}\n",
    "    params['nondecision'] = {'go': parameters['nondecision'],\n",
    "                             'stop': parameters['nondecision']}\n",
    "    #print(params)\n",
    "    # TBD\n",
    "    #    if args.p_guess_file is not None:\n",
    "    #        p_guess = pd.read_csv(args.p_guess_file, index_col=0)\n",
    "    #        assert 'SSD' in p_guess.columns and 'p_guess' in p_guess.columns\n",
    "\n",
    "    #    if args.random_seed is not None:\n",
    "    #        np.random.seed(args.random_seed)\n",
    "\n",
    "    min_ssd, max_ssd, ssd_step = 0, 550, 50\n",
    "    ssd = fixedSSD(np.arange(min_ssd, max_ssd + ssd_step, ssd_step))\n",
    "\n",
    "    study = StopTaskStudy(ssd, None, params=params)\n",
    "\n",
    "    trialdata = study.run()\n",
    "    metrics = study.get_stopsignal_metrics()\n",
    "    # summarize data - go trials are labeled with SSD of -inf so that\n",
    "    # they get included in the summary\n",
    "    stop_data = trialdata.groupby('SSD').mean().query('SSD >= 0').resp.values\n",
    "    results = {}\n",
    "    \n",
    "    metrics = cleanup_metrics(metrics)\n",
    "    for k in [ 'mean_go_RT', 'mean_stopfail_RT', 'go_acc']:\n",
    "        results.update({k: metrics[k]})\n",
    "    for i, value in enumerate(stop_data):\n",
    "        results[f'presp_{i}'] = value\n",
    "\n",
    "    return(results)\n",
    "\n",
    "parameter_prior = Distribution(mu_go=RV(\"uniform\", 0, 1),\n",
    "                               mu_stop_delta=RV(\"uniform\", 0, 1),\n",
    "                              mu_delta_incorrect=RV(\"uniform\", 0, 1),\n",
    "                              noise_sd=RV(\"uniform\", 1, 4),\n",
    "                              nondecision=RV(\"uniform\", 40, 100))\n",
    "parameter_prior.get_parameter_names()\n"
   ]
  },
  {
   "cell_type": "code",
   "execution_count": 7,
   "metadata": {},
   "outputs": [
    {
     "data": {
      "text/plain": [
       "{'mean_go_RT': 449.40858169520186,\n",
       " 'mean_stopfail_RT': 336.0724946695096,\n",
       " 'go_acc': 0.6871697315578101,\n",
       " 'presp_0': 0.0,\n",
       " 'presp_1': 0.05952380952380952,\n",
       " 'presp_2': 0.11904761904761904,\n",
       " 'presp_3': 0.24096385542168675,\n",
       " 'presp_4': 0.4878048780487805,\n",
       " 'presp_5': 0.5421686746987951,\n",
       " 'presp_6': 0.5833333333333334,\n",
       " 'presp_7': 0.6265060240963856,\n",
       " 'presp_8': 0.6867469879518072,\n",
       " 'presp_9': 0.7142857142857143,\n",
       " 'presp_10': 0.7590361445783133,\n",
       " 'presp_11': 0.8095238095238095}"
      ]
     },
     "execution_count": 7,
     "metadata": {},
     "output_type": "execute_result"
    }
   ],
   "source": [
    "params={'mu_delta_incorrect': 0.10386248711279868,\n",
    " 'mu_go': 0.11422675271126799,\n",
    " 'mu_stop_delta': 0.7850423871897488,\n",
    " 'noise_sd': 3.1238287051634597,\n",
    "       'nondecision':50}\n",
    "simulation = stopsignal_model(params)\n",
    "simulation"
   ]
  },
  {
   "cell_type": "code",
   "execution_count": 9,
   "metadata": {},
   "outputs": [
    {
     "name": "stderr",
     "output_type": "stream",
     "text": [
      "INFO:Sampler:Parallelizing the sampling on 4 cores.\n"
     ]
    }
   ],
   "source": [
    "\n",
    "def rmse(a, b):\n",
    "    return(np.sqrt(np.sum((a - b)**2)))\n",
    "\n",
    "# sum errors for presp, gort, and stopfailrt\n",
    "# scaling factors were determined by hand to roughly equate the rmse\n",
    "# for the different result variables\n",
    "def distance(simulation, data):\n",
    "    presp_rmse = rmse(simulation['presp_0'], data['presp_0'])*3\n",
    "    gort_rmse = rmse(simulation['mean_go_RT'], data['mean_go_RT'])/10\n",
    "    goacc_rmse = rmse(simulation['go_acc'], data['go_acc']) * 10\n",
    "    stopfailrt_rmse = rmse(simulation['mean_stopfail_RT'], data['stopfail_rt'])/10\n",
    "    return(presp_rmse + gort_rmse + stopfailrt_rmse + goacc_rmse)\n",
    "\n",
    "def distance2(simulation, data):\n",
    "    sum_rmse = 0\n",
    "    for k in simulation:\n",
    "        sum_rmse += rmse(simulation[k], data[k])\n",
    "    return(sum_rmse)\n",
    "\n",
    "distance_adaptive = pyabc.AdaptivePNormDistance(p=2)\n",
    "distance_fixed = pyabc.PNormDistance(p=2)\n",
    "abc = ABCSMC(stopsignal_model, parameter_prior, distance_adaptive)\n"
   ]
  },
  {
   "cell_type": "code",
   "execution_count": 12,
   "metadata": {},
   "outputs": [
    {
     "name": "stderr",
     "output_type": "stream",
     "text": [
      "INFO:History:Start <ABCSMC(id=5, start_time=2020-12-06 11:23:29.384133, end_time=None)>\n"
     ]
    },
    {
     "data": {
      "text/plain": [
       "<pyabc.storage.history.History at 0x7fdd0c749af0>"
      ]
     },
     "execution_count": 12,
     "metadata": {},
     "output_type": "execute_result"
    }
   ],
   "source": [
    "db_path = (\"sqlite:///\" +\n",
    "           os.path.join(tempfile.gettempdir(), \"test.db\"))\n",
    "observed_presp = pd.read_csv('presp_by_ssd_inperson.txt',  delimiter=r\"\\s+\", index_col=0)\n",
    "\n",
    "observed_data = {'mean_go_RT': 455.367, 'mean_stopfail_RT': 219.364, 'go_acc': .935}\n",
    "for i, value in enumerate(observed_presp.presp.values):\n",
    "    observed_data[f'presp_{i}'] = value\n",
    "\n",
    "# \"presp\": observed_presp.presp.values,\n",
    "abc.new(db_path, observed_data)"
   ]
  },
  {
   "cell_type": "code",
   "execution_count": 13,
   "metadata": {},
   "outputs": [
    {
     "name": "stdout",
     "output_type": "stream",
     "text": [
      "116.86203473053882\n",
      "124.64008614833743\n"
     ]
    }
   ],
   "source": [
    "print(distance_adaptive(simulation, observed_data))\n",
    "print(distance2(simulation, observed_data))"
   ]
  },
  {
   "cell_type": "code",
   "execution_count": null,
   "metadata": {},
   "outputs": [
    {
     "name": "stderr",
     "output_type": "stream",
     "text": [
      "INFO:ABC:Calibration sample before t=0.\n",
      "DEBUG:Distance:updated weights[0] = {'mean_go_RT': 0.001784751425403656, 'mean_stopfail_RT': 0.0024140436683980247, 'go_acc': 1.4063451505849232, 'presp_0': 1.0972415819411678, 'presp_1': 0.8229296093829475, 'presp_2': 0.7702541585305369, 'presp_3': 0.8640236160929868, 'presp_4': 0.9578275282057516, 'presp_5': 1.0256230971573053, 'presp_6': 1.152266777027476, 'presp_7': 1.1929478113672578, 'presp_8': 1.2895688557172515, 'presp_9': 1.4259502370661732, 'presp_10': 1.4564301367862342, 'presp_11': 1.5343926450461862}\n",
      "INFO:Epsilon:initial epsilon is 1.2135460118448589\n",
      "INFO:ABC:t: 0, eps: 1.2135460118448589.\n",
      "INFO:ABC:Acceptance rate: 100 / 200 = 5.0000e-01, ESS=1.0000e+02.\n",
      "DEBUG:Distance:updated weights[1] = {'mean_go_RT': 0.0016479132673832236, 'mean_stopfail_RT': 0.0021345288169192216, 'go_acc': 1.3123808677497324, 'presp_0': 1.3443697703981174, 'presp_1': 0.8005459776087006, 'presp_2': 0.7186858381600166, 'presp_3': 0.7825691651886789, 'presp_4': 0.8407919930253799, 'presp_5': 0.9421851953555591, 'presp_6': 1.03503121762487, 'presp_7': 1.144590265051795, 'presp_8': 1.2950980690183325, 'presp_9': 1.4271446306879283, 'presp_10': 1.575599995626509, 'presp_11': 1.7772245724200784}\n",
      "INFO:ABC:t: 1, eps: 0.9223781023919954.\n",
      "INFO:ABC:Acceptance rate: 100 / 217 = 4.6083e-01, ESS=3.7882e+01.\n",
      "DEBUG:Distance:updated weights[2] = {'mean_go_RT': 0.0015184393273965622, 'mean_stopfail_RT': 0.0018908889338560744, 'go_acc': 0.9888659910452147, 'presp_0': 1.0721096554318614, 'presp_1': 0.7960063224172078, 'presp_2': 0.6514868366812148, 'presp_3': 0.6234016650883518, 'presp_4': 0.6951934336958865, 'presp_5': 0.8153377456920722, 'presp_6': 0.9522484377433579, 'presp_7': 1.1462776138089155, 'presp_8': 1.3761497413537251, 'presp_9': 1.6099999955194708, 'presp_10': 1.9824864661471844, 'presp_11': 2.287026767114284}\n",
      "INFO:ABC:t: 2, eps: 0.6997844565213924.\n",
      "INFO:ABC:Acceptance rate: 100 / 222 = 4.5045e-01, ESS=6.1991e+01.\n",
      "DEBUG:Distance:updated weights[3] = {'mean_go_RT': 0.001885556309589617, 'mean_stopfail_RT': 0.00252941913794436, 'go_acc': 0.9212210804403388, 'presp_0': 1.172772102408503, 'presp_1': 0.8677147516145569, 'presp_2': 0.7431483379703967, 'presp_3': 0.7348247064882957, 'presp_4': 0.7339809662192501, 'presp_5': 0.7995129409058839, 'presp_6': 0.9319580468344036, 'presp_7': 1.1481146295735305, 'presp_8': 1.328422105975019, 'presp_9': 1.5782871749088516, 'presp_10': 1.8604627868527541, 'presp_11': 2.175165394360683}\n",
      "INFO:ABC:t: 3, eps: 0.6707254763672084.\n",
      "INFO:ABC:Acceptance rate: 100 / 301 = 3.3223e-01, ESS=5.1652e+01.\n",
      "DEBUG:Distance:updated weights[4] = {'mean_go_RT': 0.0018901964974666434, 'mean_stopfail_RT': 0.0021373254088457023, 'go_acc': 0.760925144428202, 'presp_0': 0.9931295263546641, 'presp_1': 0.7222718819111024, 'presp_2': 0.6386422390163744, 'presp_3': 0.6563020087715784, 'presp_4': 0.7230187638036746, 'presp_5': 0.8688722161476851, 'presp_6': 0.9968561249457945, 'presp_7': 1.2708986945069691, 'presp_8': 1.3822760357333648, 'presp_9': 1.6347726767577173, 'presp_10': 1.9122507413996535, 'presp_11': 2.435756424316908}\n",
      "INFO:ABC:t: 4, eps: 0.5680994393965388.\n",
      "INFO:ABC:Acceptance rate: 100 / 279 = 3.5842e-01, ESS=6.2783e+01.\n",
      "DEBUG:Distance:updated weights[5] = {'mean_go_RT': 0.0020707227570272314, 'mean_stopfail_RT': 0.002515862023425661, 'go_acc': 0.6823477638751874, 'presp_0': 0.9255774004516193, 'presp_1': 0.7367448192716842, 'presp_2': 0.7628393472842268, 'presp_3': 0.7370811209572966, 'presp_4': 0.827098183627911, 'presp_5': 0.9224493253666205, 'presp_6': 1.0936588508559064, 'presp_7': 1.2694724459964926, 'presp_8': 1.4310144084945517, 'presp_9': 1.5646997894995862, 'presp_10': 1.8365309753662784, 'presp_11': 2.2058989841721868}\n",
      "INFO:ABC:t: 5, eps: 0.5545879781380291.\n",
      "INFO:ABC:Acceptance rate: 100 / 314 = 3.1847e-01, ESS=4.8507e+01.\n",
      "DEBUG:Distance:updated weights[6] = {'mean_go_RT': 0.002115642262735211, 'mean_stopfail_RT': 0.0022539736359319332, 'go_acc': 0.701854122939557, 'presp_0': 0.8187774285719296, 'presp_1': 0.690599671845015, 'presp_2': 0.668913046648485, 'presp_3': 0.7127794901148926, 'presp_4': 0.8293550425549941, 'presp_5': 0.9995662349629167, 'presp_6': 1.0278114747987788, 'presp_7': 1.2739452077787403, 'presp_8': 1.4013988339969243, 'presp_9': 1.6717444023538275, 'presp_10': 1.8793713792235558, 'presp_11': 2.3195140483117154}\n",
      "INFO:ABC:t: 6, eps: 0.504690542968752.\n",
      "INFO:ABC:Acceptance rate: 100 / 417 = 2.3981e-01, ESS=3.0376e+01.\n",
      "DEBUG:Distance:updated weights[7] = {'mean_go_RT': 0.0027550562203512634, 'mean_stopfail_RT': 0.002745565590583218, 'go_acc': 0.733538848039788, 'presp_0': 0.966265888699139, 'presp_1': 0.8104444708158475, 'presp_2': 0.8436434594946812, 'presp_3': 0.8326699606730594, 'presp_4': 0.911090221823651, 'presp_5': 0.9908795228169439, 'presp_6': 1.1738662530068988, 'presp_7': 1.2298843544710938, 'presp_8': 1.3462607576165126, 'presp_9': 1.5697661715764866, 'presp_10': 1.7320807644119964, 'presp_11': 1.854108704742966}\n",
      "INFO:ABC:t: 7, eps: 0.5364630400289552.\n",
      "INFO:ABC:Acceptance rate: 100 / 504 = 1.9841e-01, ESS=5.9303e+01.\n",
      "DEBUG:Distance:updated weights[8] = {'mean_go_RT': 0.003001752649772328, 'mean_stopfail_RT': 0.003031054109323501, 'go_acc': 0.7812719388400144, 'presp_0': 1.225064259663537, 'presp_1': 0.9269489965615256, 'presp_2': 0.7941627259603228, 'presp_3': 0.7985754539712986, 'presp_4': 0.8927498945556291, 'presp_5': 0.9541479466620597, 'presp_6': 1.020186965561934, 'presp_7': 1.1978253282766003, 'presp_8': 1.2760999710071794, 'presp_9': 1.4815860579141413, 'presp_10': 1.6452495131418725, 'presp_11': 2.000098141124791}\n",
      "INFO:ABC:t: 8, eps: 0.5700571092273271.\n",
      "INFO:ABC:Acceptance rate: 100 / 538 = 1.8587e-01, ESS=2.2383e+01.\n",
      "DEBUG:Distance:updated weights[9] = {'mean_go_RT': 0.0026607291739255087, 'mean_stopfail_RT': 0.002637594895874949, 'go_acc': 0.7114844093402212, 'presp_0': 1.1485919815952612, 'presp_1': 0.9059981743804527, 'presp_2': 0.8148474328731325, 'presp_3': 0.8607780221185365, 'presp_4': 0.8865770247994442, 'presp_5': 1.0259843038615677, 'presp_6': 1.0455196463926681, 'presp_7': 1.1899491959230106, 'presp_8': 1.3190432195113895, 'presp_9': 1.534778377669721, 'presp_10': 1.6600747831535354, 'presp_11': 1.8910751043112601}\n",
      "INFO:ABC:t: 9, eps: 0.510366543349953.\n",
      "INFO:ABC:Acceptance rate: 100 / 725 = 1.3793e-01, ESS=6.7908e+01.\n",
      "DEBUG:Distance:updated weights[10] = {'mean_go_RT': 0.0025047470142693525, 'mean_stopfail_RT': 0.0026175962374518744, 'go_acc': 0.6834248351932336, 'presp_0': 0.9646907695671989, 'presp_1': 0.8308921256054908, 'presp_2': 0.8564063128821283, 'presp_3': 0.8568607847422616, 'presp_4': 0.9463039389570713, 'presp_5': 1.0198870573281267, 'presp_6': 1.190660144942536, 'presp_7': 1.247838471783659, 'presp_8': 1.3136137890837436, 'presp_9': 1.4731623137114895, 'presp_10': 1.705858108479207, 'presp_11': 1.9052790044721308}\n",
      "INFO:ABC:t: 10, eps: 0.4796228922775482.\n",
      "INFO:ABC:Acceptance rate: 100 / 1092 = 9.1575e-02, ESS=3.9178e+01.\n",
      "DEBUG:Distance:updated weights[11] = {'mean_go_RT': 0.0027767795709998334, 'mean_stopfail_RT': 0.0028359715328379006, 'go_acc': 0.7760845988829825, 'presp_0': 1.0881732257333037, 'presp_1': 0.9104676735769696, 'presp_2': 0.8608665810360435, 'presp_3': 0.9088794182326249, 'presp_4': 0.9462639801653073, 'presp_5': 1.0519281878179683, 'presp_6': 1.048737015516148, 'presp_7': 1.1665975890481588, 'presp_8': 1.3070273362811426, 'presp_9': 1.4813224384687012, 'presp_10': 1.671234742354183, 'presp_11': 1.7768044617826306}\n",
      "INFO:ABC:t: 11, eps: 0.5071211647342436.\n"
     ]
    }
   ],
   "source": [
    "history = abc.run(minimum_epsilon=.1, max_nr_populations=12,)"
   ]
  },
  {
   "cell_type": "code",
   "execution_count": null,
   "metadata": {},
   "outputs": [],
   "source": [
    "plot_kde = False\n",
    "if plot_kde:\n",
    "    fig, ax = plt.subplots()\n",
    "    for t in range(history.max_t+1):\n",
    "        df, w = history.get_distribution(m=0, t=t)\n",
    "        pyabc.visualization.plot_kde_1d(\n",
    "            df, w,\n",
    "            xmin=0, xmax=1,\n",
    "            x=\"mu_go\", ax=ax,\n",
    "            label=\"PDF t={}\".format(t))\n",
    "    #ax.axvline(observed_presp.presp.values, color=\"k\", linestyle=\"dashed\");\n",
    "    ax.legend();\n"
   ]
  },
  {
   "cell_type": "code",
   "execution_count": null,
   "metadata": {},
   "outputs": [],
   "source": [
    "plot_ci = False\n",
    "if plot_ci:\n",
    "    ci_ax = pyabc.visualization.plot_credible_intervals(history)\n",
    "    def get_map_estimates(ci_ax):\n",
    "        map_estimates = {}\n",
    "        for ax in ci_ax:\n",
    "            map_estimates[ax.get_ylabel()] = ax.get_lines()[0].get_ydata()[-1]\n",
    "        return(map_estimates)\n",
    "    map_estimates = get_map_estimates(ci_ax)\n",
    "    map_estimates"
   ]
  },
  {
   "cell_type": "code",
   "execution_count": null,
   "metadata": {},
   "outputs": [],
   "source": [
    "\n",
    "simulation = stopsignal_model(map_estimates)\n",
    "print(simulation)\n",
    "\n",
    "plot_presp = False\n",
    "if plot_presp:\n",
    "    plt.plot(simulation['presp'])\n",
    "    plt.plot(observed_presp.presp.values, 'k')\n"
   ]
  },
  {
   "cell_type": "code",
   "execution_count": null,
   "metadata": {},
   "outputs": [],
   "source": []
  },
  {
   "cell_type": "code",
   "execution_count": null,
   "metadata": {},
   "outputs": [],
   "source": [
    "params"
   ]
  },
  {
   "cell_type": "code",
   "execution_count": null,
   "metadata": {},
   "outputs": [],
   "source": []
  },
  {
   "cell_type": "code",
   "execution_count": null,
   "metadata": {},
   "outputs": [],
   "source": []
  }
 ],
 "metadata": {
  "kernelspec": {
   "display_name": "Python 3",
   "language": "python",
   "name": "python3"
  },
  "language_info": {
   "codemirror_mode": {
    "name": "ipython",
    "version": 3
   },
   "file_extension": ".py",
   "mimetype": "text/x-python",
   "name": "python",
   "nbconvert_exporter": "python",
   "pygments_lexer": "ipython3",
   "version": "3.8.5"
  }
 },
 "nbformat": 4,
 "nbformat_minor": 4
}
