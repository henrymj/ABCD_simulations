{
 "cells": [
  {
   "cell_type": "code",
   "execution_count": 1,
   "metadata": {},
   "outputs": [],
   "source": [
    "import pandas as pd\n",
    "\n",
    "import numpy as np\n",
    "\n",
    "from utils import SimulateData"
   ]
  },
  {
   "cell_type": "code",
   "execution_count": 2,
   "metadata": {},
   "outputs": [],
   "source": [
    "ABCD_SSD_dists = pd.read_csv('abcd_data/SSD_dist_by_subj.csv')"
   ]
  },
  {
   "cell_type": "code",
   "execution_count": 35,
   "metadata": {},
   "outputs": [
    {
     "data": {
      "text/plain": [
       "array(['003RTV85', '00CY2MDM', '00HEV6HB', ..., 'jf8w3pw6', 'x8k59',\n",
       "       'xxmy9wd8'], dtype=object)"
      ]
     },
     "execution_count": 35,
     "metadata": {},
     "output_type": "execute_result"
    }
   ],
   "source": [
    "ABCD_SSD_dists.NARGUID.unique()"
   ]
  },
  {
   "cell_type": "code",
   "execution_count": 38,
   "metadata": {},
   "outputs": [],
   "source": [
    "first_half = ABCD_SSD_dists.iloc[0:3200,:]"
   ]
  },
  {
   "cell_type": "code",
   "execution_count": 39,
   "metadata": {},
   "outputs": [],
   "source": [
    "first_half_subs = first_half.NARGUID.unique()"
   ]
  },
  {
   "cell_type": "code",
   "execution_count": 40,
   "metadata": {},
   "outputs": [],
   "source": [
    "all_subs = ABCD_SSD_dists.NARGUID.unique()"
   ]
  },
  {
   "cell_type": "code",
   "execution_count": 43,
   "metadata": {},
   "outputs": [
    {
     "data": {
      "text/plain": [
       "6451"
      ]
     },
     "execution_count": 43,
     "metadata": {},
     "output_type": "execute_result"
    }
   ],
   "source": [
    "len(list(set(all_subs) - set(first_half_subs)))"
   ]
  },
  {
   "cell_type": "code",
   "execution_count": 44,
   "metadata": {},
   "outputs": [
    {
     "data": {
      "text/plain": [
       "6793"
      ]
     },
     "execution_count": 44,
     "metadata": {},
     "output_type": "execute_result"
    }
   ],
   "source": [
    "len(all_subs)"
   ]
  },
  {
   "cell_type": "code",
   "execution_count": 45,
   "metadata": {},
   "outputs": [
    {
     "data": {
      "text/plain": [
       "342"
      ]
     },
     "execution_count": 45,
     "metadata": {},
     "output_type": "execute_result"
    }
   ],
   "source": [
    "len(first_half_subs)"
   ]
  },
  {
   "cell_type": "code",
   "execution_count": 17,
   "metadata": {},
   "outputs": [],
   "source": [
    "simulator = SimulateData()"
   ]
  },
  {
   "cell_type": "code",
   "execution_count": 20,
   "metadata": {},
   "outputs": [],
   "source": [
    "params = {\n",
    "    'SSDs': SSDs,\n",
    "    'n_trials_stop': n_trials\n",
    "}"
   ]
  },
  {
   "cell_type": "code",
   "execution_count": 21,
   "metadata": {},
   "outputs": [],
   "source": [
    "tst_data = simulator.simulate(params)"
   ]
  },
  {
   "cell_type": "code",
   "execution_count": 25,
   "metadata": {},
   "outputs": [
    {
     "data": {
      "text/plain": [
       "167"
      ]
     },
     "execution_count": 25,
     "metadata": {},
     "output_type": "execute_result"
    }
   ],
   "source": [
    "len(tst_data.query(\"SSD==50\"))"
   ]
  },
  {
   "cell_type": "code",
   "execution_count": 26,
   "metadata": {},
   "outputs": [
    {
     "data": {
      "text/html": [
       "<div>\n",
       "<style scoped>\n",
       "    .dataframe tbody tr th:only-of-type {\n",
       "        vertical-align: middle;\n",
       "    }\n",
       "\n",
       "    .dataframe tbody tr th {\n",
       "        vertical-align: top;\n",
       "    }\n",
       "\n",
       "    .dataframe thead th {\n",
       "        text-align: right;\n",
       "    }\n",
       "</style>\n",
       "<table border=\"1\" class=\"dataframe\">\n",
       "  <thead>\n",
       "    <tr style=\"text-align: right;\">\n",
       "      <th></th>\n",
       "      <th>condition</th>\n",
       "      <th>SSD</th>\n",
       "      <th>trial_idx</th>\n",
       "      <th>mu_go</th>\n",
       "      <th>mu_stop</th>\n",
       "      <th>accum_go</th>\n",
       "      <th>accum_stop</th>\n",
       "      <th>process_go</th>\n",
       "      <th>process_stop</th>\n",
       "      <th>block</th>\n",
       "      <th>goRT</th>\n",
       "      <th>stopRT</th>\n",
       "    </tr>\n",
       "  </thead>\n",
       "  <tbody>\n",
       "    <tr>\n",
       "      <th>0</th>\n",
       "      <td>stop</td>\n",
       "      <td>300.0</td>\n",
       "      <td>0</td>\n",
       "      <td>0.2</td>\n",
       "      <td>0.6</td>\n",
       "      <td>101.956852</td>\n",
       "      <td>78.171515</td>\n",
       "      <td>[0.6364571518234805, 0, 0, 0.8062936406253605,...</td>\n",
       "      <td>[0, 4.322795328100644, 7.360380118817185, 11.0...</td>\n",
       "      <td>0</td>\n",
       "      <td>NaN</td>\n",
       "      <td>443.0</td>\n",
       "    </tr>\n",
       "    <tr>\n",
       "      <th>1</th>\n",
       "      <td>stop</td>\n",
       "      <td>300.0</td>\n",
       "      <td>1</td>\n",
       "      <td>0.2</td>\n",
       "      <td>0.6</td>\n",
       "      <td>100.220786</td>\n",
       "      <td>0.000000</td>\n",
       "      <td>[1.9602087729937794, 1.6374849654250279, 1.217...</td>\n",
       "      <td>[]</td>\n",
       "      <td>0</td>\n",
       "      <td>NaN</td>\n",
       "      <td>299.0</td>\n",
       "    </tr>\n",
       "    <tr>\n",
       "      <th>2</th>\n",
       "      <td>stop</td>\n",
       "      <td>300.0</td>\n",
       "      <td>2</td>\n",
       "      <td>0.2</td>\n",
       "      <td>0.6</td>\n",
       "      <td>87.948124</td>\n",
       "      <td>100.865098</td>\n",
       "      <td>[2.0586773695201086, 3.2588181139301757, 4.918...</td>\n",
       "      <td>[1.9566057403339938, 2.6365789292091386, 5.074...</td>\n",
       "      <td>0</td>\n",
       "      <td>NaN</td>\n",
       "      <td>NaN</td>\n",
       "    </tr>\n",
       "    <tr>\n",
       "      <th>3</th>\n",
       "      <td>stop</td>\n",
       "      <td>300.0</td>\n",
       "      <td>3</td>\n",
       "      <td>0.2</td>\n",
       "      <td>0.6</td>\n",
       "      <td>85.788294</td>\n",
       "      <td>100.752269</td>\n",
       "      <td>[0, 0, 0, 0, 0.8233325045680226, 0, 0, 0, 0, 0...</td>\n",
       "      <td>[0, 0.7913957640285559, 0, 0, 0, 0, 0, 0.14819...</td>\n",
       "      <td>0</td>\n",
       "      <td>NaN</td>\n",
       "      <td>NaN</td>\n",
       "    </tr>\n",
       "    <tr>\n",
       "      <th>4</th>\n",
       "      <td>stop</td>\n",
       "      <td>300.0</td>\n",
       "      <td>4</td>\n",
       "      <td>0.2</td>\n",
       "      <td>0.6</td>\n",
       "      <td>63.321075</td>\n",
       "      <td>103.688808</td>\n",
       "      <td>[0, 0.3370771213517245, 0, 1.3262388304067685,...</td>\n",
       "      <td>[0, 0, 1.5927586066622843, 2.700283974778235, ...</td>\n",
       "      <td>0</td>\n",
       "      <td>NaN</td>\n",
       "      <td>NaN</td>\n",
       "    </tr>\n",
       "    <tr>\n",
       "      <th>...</th>\n",
       "      <td>...</td>\n",
       "      <td>...</td>\n",
       "      <td>...</td>\n",
       "      <td>...</td>\n",
       "      <td>...</td>\n",
       "      <td>...</td>\n",
       "      <td>...</td>\n",
       "      <td>...</td>\n",
       "      <td>...</td>\n",
       "      <td>...</td>\n",
       "      <td>...</td>\n",
       "      <td>...</td>\n",
       "    </tr>\n",
       "    <tr>\n",
       "      <th>10995</th>\n",
       "      <td>go</td>\n",
       "      <td>NaN</td>\n",
       "      <td>995</td>\n",
       "      <td>0.2</td>\n",
       "      <td>0.6</td>\n",
       "      <td>100.381381</td>\n",
       "      <td>0.000000</td>\n",
       "      <td>[0.305822216308594, 0.16829053127128463, 0.460...</td>\n",
       "      <td>[]</td>\n",
       "      <td>0</td>\n",
       "      <td>520.0</td>\n",
       "      <td>NaN</td>\n",
       "    </tr>\n",
       "    <tr>\n",
       "      <th>10996</th>\n",
       "      <td>go</td>\n",
       "      <td>NaN</td>\n",
       "      <td>996</td>\n",
       "      <td>0.2</td>\n",
       "      <td>0.6</td>\n",
       "      <td>100.661246</td>\n",
       "      <td>0.000000</td>\n",
       "      <td>[0.10008182730747567, 0, 0.4124787657772887, 2...</td>\n",
       "      <td>[]</td>\n",
       "      <td>0</td>\n",
       "      <td>430.0</td>\n",
       "      <td>NaN</td>\n",
       "    </tr>\n",
       "    <tr>\n",
       "      <th>10997</th>\n",
       "      <td>go</td>\n",
       "      <td>NaN</td>\n",
       "      <td>997</td>\n",
       "      <td>0.2</td>\n",
       "      <td>0.6</td>\n",
       "      <td>100.446107</td>\n",
       "      <td>0.000000</td>\n",
       "      <td>[1.0419105575235412, 1.1887661182242721, 1.442...</td>\n",
       "      <td>[]</td>\n",
       "      <td>0</td>\n",
       "      <td>504.0</td>\n",
       "      <td>NaN</td>\n",
       "    </tr>\n",
       "    <tr>\n",
       "      <th>10998</th>\n",
       "      <td>go</td>\n",
       "      <td>NaN</td>\n",
       "      <td>998</td>\n",
       "      <td>0.2</td>\n",
       "      <td>0.6</td>\n",
       "      <td>100.193032</td>\n",
       "      <td>0.000000</td>\n",
       "      <td>[0, 1.3885971843860525, 1.68092646214971, 2.19...</td>\n",
       "      <td>[]</td>\n",
       "      <td>0</td>\n",
       "      <td>495.0</td>\n",
       "      <td>NaN</td>\n",
       "    </tr>\n",
       "    <tr>\n",
       "      <th>10999</th>\n",
       "      <td>go</td>\n",
       "      <td>NaN</td>\n",
       "      <td>999</td>\n",
       "      <td>0.2</td>\n",
       "      <td>0.6</td>\n",
       "      <td>101.823899</td>\n",
       "      <td>0.000000</td>\n",
       "      <td>[0, 0, 0, 1.496147789885502, 1.684184738606624...</td>\n",
       "      <td>[]</td>\n",
       "      <td>0</td>\n",
       "      <td>634.0</td>\n",
       "      <td>NaN</td>\n",
       "    </tr>\n",
       "  </tbody>\n",
       "</table>\n",
       "<p>11000 rows × 12 columns</p>\n",
       "</div>"
      ],
      "text/plain": [
       "      condition    SSD  trial_idx  mu_go  mu_stop    accum_go  accum_stop  \\\n",
       "0          stop  300.0          0    0.2      0.6  101.956852   78.171515   \n",
       "1          stop  300.0          1    0.2      0.6  100.220786    0.000000   \n",
       "2          stop  300.0          2    0.2      0.6   87.948124  100.865098   \n",
       "3          stop  300.0          3    0.2      0.6   85.788294  100.752269   \n",
       "4          stop  300.0          4    0.2      0.6   63.321075  103.688808   \n",
       "...         ...    ...        ...    ...      ...         ...         ...   \n",
       "10995        go    NaN        995    0.2      0.6  100.381381    0.000000   \n",
       "10996        go    NaN        996    0.2      0.6  100.661246    0.000000   \n",
       "10997        go    NaN        997    0.2      0.6  100.446107    0.000000   \n",
       "10998        go    NaN        998    0.2      0.6  100.193032    0.000000   \n",
       "10999        go    NaN        999    0.2      0.6  101.823899    0.000000   \n",
       "\n",
       "                                              process_go  \\\n",
       "0      [0.6364571518234805, 0, 0, 0.8062936406253605,...   \n",
       "1      [1.9602087729937794, 1.6374849654250279, 1.217...   \n",
       "2      [2.0586773695201086, 3.2588181139301757, 4.918...   \n",
       "3      [0, 0, 0, 0, 0.8233325045680226, 0, 0, 0, 0, 0...   \n",
       "4      [0, 0.3370771213517245, 0, 1.3262388304067685,...   \n",
       "...                                                  ...   \n",
       "10995  [0.305822216308594, 0.16829053127128463, 0.460...   \n",
       "10996  [0.10008182730747567, 0, 0.4124787657772887, 2...   \n",
       "10997  [1.0419105575235412, 1.1887661182242721, 1.442...   \n",
       "10998  [0, 1.3885971843860525, 1.68092646214971, 2.19...   \n",
       "10999  [0, 0, 0, 1.496147789885502, 1.684184738606624...   \n",
       "\n",
       "                                            process_stop  block   goRT  stopRT  \n",
       "0      [0, 4.322795328100644, 7.360380118817185, 11.0...      0    NaN   443.0  \n",
       "1                                                     []      0    NaN   299.0  \n",
       "2      [1.9566057403339938, 2.6365789292091386, 5.074...      0    NaN     NaN  \n",
       "3      [0, 0.7913957640285559, 0, 0, 0, 0, 0, 0.14819...      0    NaN     NaN  \n",
       "4      [0, 0, 1.5927586066622843, 2.700283974778235, ...      0    NaN     NaN  \n",
       "...                                                  ...    ...    ...     ...  \n",
       "10995                                                 []      0  520.0     NaN  \n",
       "10996                                                 []      0  430.0     NaN  \n",
       "10997                                                 []      0  504.0     NaN  \n",
       "10998                                                 []      0  495.0     NaN  \n",
       "10999                                                 []      0  634.0     NaN  \n",
       "\n",
       "[11000 rows x 12 columns]"
      ]
     },
     "execution_count": 26,
     "metadata": {},
     "output_type": "execute_result"
    }
   ],
   "source": [
    "tst_data"
   ]
  },
  {
   "cell_type": "code",
   "execution_count": null,
   "metadata": {},
   "outputs": [],
   "source": []
  }
 ],
 "metadata": {
  "kernelspec": {
   "display_name": "Python 3.7.3 64-bit ('base': conda)",
   "language": "python",
   "name": "python37364bitbaseconda4756cdce10c6418799e5af58b8061b60"
  },
  "language_info": {
   "codemirror_mode": {
    "name": "ipython",
    "version": 3
   },
   "file_extension": ".py",
   "mimetype": "text/x-python",
   "name": "python",
   "nbconvert_exporter": "python",
   "pygments_lexer": "ipython3",
   "version": "3.7.3"
  }
 },
 "nbformat": 4,
 "nbformat_minor": 4
}
