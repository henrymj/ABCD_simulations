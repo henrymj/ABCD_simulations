{
 "cells": [
  {
   "cell_type": "code",
   "execution_count": 1,
   "metadata": {},
   "outputs": [],
   "source": [
    "import numpy as np\n",
    "import pandas as pd\n",
    "from sympy.solvers import solve\n",
    "from sympy import Symbol\n",
    "import scipy.stats as sstats\n",
    "\n",
    "from utils import SimulateData"
   ]
  },
  {
   "cell_type": "code",
   "execution_count": 2,
   "metadata": {},
   "outputs": [],
   "source": [
    "n_trials = 1000\n",
    "SSD = 700\n",
    "simulator = SimulateData()\n",
    "params = simulator._init_params({})\n",
    "params['n_trials_stop'] = n_trials\n",
    "params['n_trials_go'] = n_trials\n",
    "\n",
    "params['mu_go'] = simulator._log_mu_go(params['mu_go'], SSD)\n",
    "simulator._set_n_trials(params)\n",
    "simulator._set_n_guesses(params)  # no guessing is happening\n",
    "\n",
    "data_dict = simulator._simulate_go_trials(simulator._init_data_dict(),\n",
    "                                          params)\n",
    "goRTs = data_dict['RT']\n",
    "goRTs.sort()"
   ]
  },
  {
   "cell_type": "code",
   "execution_count": null,
   "metadata": {},
   "outputs": [],
   "source": [
    "def generate_exgauss_sampler_from_fit(data,\n",
    "                                      default_sample_size=100000):\n",
    "    FIT_K, FIT_LOC, FIT_SCALE = sstats.exponnorm.fit(data)\n",
    "    FIT_LAMBDA = 1/(FIT_K*FIT_SCALE)\n",
    "    FIT_BETA = 1/FIT_LAMBDA\n",
    "\n",
    "    def sample_exgauss(sample_size=default_sample_size,\n",
    "                       beta=FIT_BETA, scale=FIT_SCALE, loc=FIT_LOC):\n",
    "        exp_out = np.random.exponential(scale=beta, size=sample_size)\n",
    "        norm_out = np.random.normal(scale=scale, size=sample_size)\n",
    "        out = (exp_out+norm_out) + loc\n",
    "        n_negatives = np.sum(out < 0)\n",
    "        while n_negatives > 0:\n",
    "            out[out < 0] = sample_exgauss(n_negatives, beta=beta, scale=scale, loc=loc)\n",
    "            n_negatives = np.sum(out < 0)\n",
    "        return out\n",
    "\n",
    "    return sample_exgauss"
   ]
  },
  {
   "cell_type": "code",
   "execution_count": null,
   "metadata": {},
   "outputs": [],
   "source": [
    "# GET ABCD INFO\n",
    "abcd_data = pd.read_csv('abcd_data/minimal_abcd_no_issue_3.csv')\n",
    "\n",
    "SSDs = abcd_data.SSDDur.unique()\n",
    "SSDs = [i for i in SSDs if i == i and i <= 550]\n",
    "SSDs.sort()\n",
    "acc_per_SSD = pd.DataFrame()\n",
    "for ssd in SSDs:\n",
    "    curr_means = abcd_data.query(\n",
    "        \"SSDDur == %s and correct_stop==0.0\" % ssd\n",
    "    ).groupby('NARGUID').mean()['choice_accuracy']\n",
    "    curr_means.name = ssd\n",
    "    acc_per_SSD = pd.concat([acc_per_SSD, curr_means], 1, sort=True)\n",
    "\n",
    "go_accs = abcd_data.query(\n",
    "        \"trial_type == 'GoTrial' and correct_go_response in ['1.0', '0.0']\"\n",
    "    ).groupby('NARGUID').mean()['choice_accuracy']\n",
    "go_accs.name = -1\n",
    "acc_per_SSD = pd.concat([acc_per_SSD, go_accs], 1, sort=True)\n",
    "\n",
    "p = Symbol('p')\n",
    "guess_mean = acc_per_SSD.mean()[0.0]\n",
    "go_mean = acc_per_SSD.mean()[-1]\n",
    "p_guess_per_SSD = []\n",
    "for ssd in SSDs:\n",
    "    curr_mean = acc_per_SSD.mean()[ssd]\n",
    "    solution = solve(p*guess_mean + (1-p)*go_mean - curr_mean, p)\n",
    "    assert len(solution) == 1\n",
    "    p_guess_per_SSD.append(solution[0])\n",
    "\n",
    "print(p_guess_per_SSD)\n",
    "SSD0_RTs = abcd_data.query(\n",
    "    \"SSDDur == 0.0 and correct_stop==0.0\"\n",
    "    ).stop_rt_adjusted.values\n",
    "sample_exgauss = generate_exgauss_sampler_from_fit(SSD0_RTs)\n",
    "\n",
    "simulator_dict = {\n",
    "    'vanilla': SimulateData(),\n",
    "    'guesses': SimulateData(guesses=True),\n",
    "    'graded_mu_go_log': SimulateData(mu_go_grader='log'),\n",
    "    'graded_mu_go_linear': SimulateData(mu_go_grader='linear')\n",
    "}\n",
    "\n",
    "group_data_dict = {\n",
    "    'vanilla': pd.DataFrame(),\n",
    "    'guesses': pd.DataFrame(),\n",
    "    'graded_mu_go_log': pd.DataFrame(),\n",
    "    'graded_mu_go_linear': pd.DataFrame(),\n",
    "}\n",
    "\n",
    "params = {\n",
    "    'n_trials_stop': 1000,\n",
    "    'n_trials_go': 1000,\n",
    "    'SSDs': SSDs,\n",
    "    'guess_function': sample_exgauss,\n",
    "    'p_guess_stop': p_guess_per_SSD,\n",
    "}\n",
    "\n",
    "for sim_key in ['guesses']:\n",
    "    data = simulator_dict[sim_key].simulate(params)\n",
    "    data['simulation'] = sim_key\n",
    "#     data.to_csv('%s/individual_%s.csv' % (args.out_dir, sim_key))"
   ]
  },
  {
   "cell_type": "code",
   "execution_count": null,
   "metadata": {},
   "outputs": [],
   "source": [
    "def get_p_resp_per_SSD(data):\n",
    "    data = data.copy()\n",
    "    out_dict = {}\n",
    "    for ssd in SSDs:\n",
    "        curr_data = data.query(\n",
    "            \"SSDDur == %s\" % ssd\n",
    "        )\n",
    "        if len(curr_data) == 0:\n",
    "            out_dict[ssd] = np.nan\n",
    "        else:\n",
    "            out_dict[ssd] = len(curr_data.query(\"correct_stop == 0.0\")) / len(curr_data)\n",
    "    return out_dict\n"
   ]
  },
  {
   "cell_type": "code",
   "execution_count": null,
   "metadata": {},
   "outputs": [],
   "source": [
    "pd.Series(get_p_resp_per_SSD(abcd_data))"
   ]
  },
  {
   "cell_type": "code",
   "execution_count": null,
   "metadata": {},
   "outputs": [],
   "source": [
    "ssd_resp_dict = abcd_data.groupby('NARGUID').apply(get_p_resp_per_SSD)\n",
    "ssd_resp_df = ssd_resp_dict.apply(pd.Series)"
   ]
  },
  {
   "cell_type": "code",
   "execution_count": null,
   "metadata": {},
   "outputs": [],
   "source": [
    "len(abcd_data.NARGUID.unique())"
   ]
  },
  {
   "cell_type": "markdown",
   "metadata": {},
   "source": [
    "# TESTING SIMULATION"
   ]
  },
  {
   "cell_type": "code",
   "execution_count": null,
   "metadata": {},
   "outputs": [],
   "source": [
    "import numpy as np\n",
    "import pandas as pd\n",
    "import argparse\n",
    "from sympy.solvers import solve\n",
    "from sympy import Symbol\n",
    "import scipy.stats as sstats\n",
    "\n",
    "from utils import SimulateData"
   ]
  },
  {
   "cell_type": "code",
   "execution_count": null,
   "metadata": {},
   "outputs": [],
   "source": [
    "def get_args():\n",
    "    parser = argparse.ArgumentParser(description='ABCD data simulations')\n",
    "    parser.add_argument('--n_trials', default=1500)\n",
    "    parser.add_argument('--abcd_dir', default='./abcd_data',\n",
    "                        help='location of ABCD data')\n",
    "    parser.add_argument('--out_dir', default='./simulated_data',\n",
    "                        help='location to save simulated data')\n",
    "    args = parser.parse_args([])\n",
    "    return(args)\n",
    "\n",
    "\n",
    "def generate_exgauss_sampler_from_fit(data,\n",
    "                                      default_sample_size=100000):\n",
    "    FIT_K, FIT_LOC, FIT_SCALE = sstats.exponnorm.fit(data)\n",
    "    FIT_LAMBDA = 1/(FIT_K*FIT_SCALE)\n",
    "    FIT_BETA = 1/FIT_LAMBDA\n",
    "\n",
    "    def sample_exgauss(sample_size=default_sample_size,\n",
    "                       beta=FIT_BETA, scale=FIT_SCALE, loc=FIT_LOC):\n",
    "        exp_out = np.random.exponential(scale=beta, size=sample_size)\n",
    "        norm_out = np.random.normal(scale=scale, size=sample_size)\n",
    "        return (exp_out+norm_out) + loc\n",
    "\n",
    "    return sample_exgauss"
   ]
  },
  {
   "cell_type": "code",
   "execution_count": null,
   "metadata": {},
   "outputs": [],
   "source": [
    "print('getting args')\n",
    "args = get_args()\n",
    "print('analyzing ABCD info')\n",
    "# GET ABCD INFO\n",
    "abcd_data = pd.read_csv('%s/minimal_abcd_no_issue_3.csv' % args.abcd_dir)\n",
    "\n",
    "SSDs = abcd_data.SSDDur.unique()\n",
    "SSDs = [i for i in SSDs if i == i]\n",
    "SSDs.sort()\n",
    "acc_per_SSD = pd.DataFrame()\n",
    "for ssd in SSDs:\n",
    "    curr_means = abcd_data.query(\n",
    "        \"SSDDur == %s and correct_stop==0.0\" % ssd\n",
    "    ).groupby('NARGUID').mean()['choice_accuracy']\n",
    "    curr_means.name = ssd\n",
    "    acc_per_SSD = pd.concat([acc_per_SSD, curr_means], 1, sort=True)\n",
    "\n",
    "go_accs = abcd_data.query(\n",
    "        \"trial_type == 'GoTrial' and correct_go_response in ['1.0', '0.0']\"\n",
    "    ).groupby('NARGUID').mean()['choice_accuracy']\n",
    "go_accs.name = -1\n",
    "acc_per_SSD = pd.concat([acc_per_SSD, go_accs], 1, sort=True)\n",
    "\n",
    "p = Symbol('p')\n",
    "guess_mean = acc_per_SSD.mean()[0.0]\n",
    "go_mean = acc_per_SSD.mean()[-1]\n",
    "p_guess_per_SSD = []\n",
    "for ssd in SSDs:\n",
    "    curr_mean = acc_per_SSD.mean()[ssd]\n",
    "    solution = solve(p*guess_mean + (1-p)*go_mean - curr_mean, p)\n",
    "    assert len(solution) == 1\n",
    "    p_guess_per_SSD.append(solution[0])\n",
    "print(p_guess_per_SSD)\n",
    "\n",
    "SSD0_RTs = abcd_data.query(\n",
    "    \"SSDDur == 0.0 and correct_stop==0.0\"\n",
    "    ).stop_rt_adjusted.values\n",
    "sample_exgauss = generate_exgauss_sampler_from_fit(SSD0_RTs)\n",
    "\n",
    "simulator_dict = {\n",
    "    'vanilla': SimulateData(),\n",
    "    'guesses': SimulateData(guesses=True),\n",
    "    'graded_mu_go_log': SimulateData(mu_go_grader='log'),\n",
    "    'graded_mu_go_linear': SimulateData(mu_go_grader='linear')\n",
    "}\n",
    "\n",
    "group_data_dict = {\n",
    "    'vanilla': pd.DataFrame(),\n",
    "    'guesses': pd.DataFrame(),\n",
    "    'graded_mu_go_log': pd.DataFrame(),\n",
    "    'graded_mu_go_linear': pd.DataFrame(),\n",
    "}\n",
    "\n",
    "params = {\n",
    "    'n_trials_stop': 10,\n",
    "    'n_trials_go': 10,\n",
    "    'SSDs': [550, 600, 650, 700, 750],\n",
    "    'guess_function': sample_exgauss,\n",
    "    'p_guess_stop': p_guess_per_SSD,\n",
    "}\n",
    "\n",
    "for sim_key in ['graded_mu_go_log']:\n",
    "    print(sim_key)\n",
    "    data = simulator_dict[sim_key].simulate(params)\n",
    "    data['simulation'] = sim_key\n",
    "    print('saving...')\n",
    "#         data.to_csv('%s/individual_%s.csv' % (args.out_dir, sim_key))"
   ]
  },
  {
   "cell_type": "code",
   "execution_count": null,
   "metadata": {},
   "outputs": [],
   "source": [
    "data"
   ]
  },
  {
   "cell_type": "code",
   "execution_count": null,
   "metadata": {},
   "outputs": [],
   "source": [
    "SSDs"
   ]
  },
  {
   "cell_type": "code",
   "execution_count": null,
   "metadata": {},
   "outputs": [],
   "source": [
    "data"
   ]
  },
  {
   "cell_type": "code",
   "execution_count": null,
   "metadata": {},
   "outputs": [],
   "source": []
  }
 ],
 "metadata": {
  "kernelspec": {
   "display_name": "Python 3",
   "language": "python",
   "name": "python3"
  },
  "language_info": {
   "codemirror_mode": {
    "name": "ipython",
    "version": 3
   },
   "file_extension": ".py",
   "mimetype": "text/x-python",
   "name": "python",
   "nbconvert_exporter": "python",
   "pygments_lexer": "ipython3",
   "version": "3.7.3"
  }
 },
 "nbformat": 4,
 "nbformat_minor": 4
}
