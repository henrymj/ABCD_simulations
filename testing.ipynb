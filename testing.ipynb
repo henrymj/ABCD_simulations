{
 "cells": [
  {
   "cell_type": "code",
   "execution_count": 1,
   "metadata": {},
   "outputs": [],
   "source": [
    "import numpy as np\n",
    "import pandas as pd\n",
    "import argparse\n",
    "from glob import glob\n",
    "from os import path\n",
    "\n",
    "from sympy.solvers import solve\n",
    "from sympy import Symbol\n",
    "import scipy.stats as sstats\n",
    "\n",
    "from utils import SimulateData\n",
    "from stopsignalmetrics import SSRTmodel"
   ]
  },
  {
   "cell_type": "code",
   "execution_count": 2,
   "metadata": {},
   "outputs": [],
   "source": [
    "params = {\n",
    "    'n_trials_stop': np.arange(0, 600, 50),\n",
    "    'n_guess_stop': np.arange(0, 560, 45)\n",
    "}\n",
    "\n",
    "simulator = SimulateData(guesses=True)\n",
    "tsts_data = simulator.simulate(params)"
   ]
  },
  {
   "cell_type": "code",
   "execution_count": 3,
   "metadata": {},
   "outputs": [
    {
     "data": {
      "text/html": [
       "<div>\n",
       "<style scoped>\n",
       "    .dataframe tbody tr th:only-of-type {\n",
       "        vertical-align: middle;\n",
       "    }\n",
       "\n",
       "    .dataframe tbody tr th {\n",
       "        vertical-align: top;\n",
       "    }\n",
       "\n",
       "    .dataframe thead th {\n",
       "        text-align: right;\n",
       "    }\n",
       "</style>\n",
       "<table border=\"1\" class=\"dataframe\">\n",
       "  <thead>\n",
       "    <tr style=\"text-align: right;\">\n",
       "      <th></th>\n",
       "      <th>condition</th>\n",
       "      <th>SSD</th>\n",
       "      <th>trial_idx</th>\n",
       "      <th>mu_go</th>\n",
       "      <th>mu_stop</th>\n",
       "      <th>accum_go</th>\n",
       "      <th>accum_stop</th>\n",
       "      <th>process_go</th>\n",
       "      <th>process_stop</th>\n",
       "      <th>block</th>\n",
       "      <th>goRT</th>\n",
       "      <th>stopRT</th>\n",
       "    </tr>\n",
       "  </thead>\n",
       "  <tbody>\n",
       "    <tr>\n",
       "      <th>0</th>\n",
       "      <td>stop</td>\n",
       "      <td>50.0</td>\n",
       "      <td>0</td>\n",
       "      <td>0.2</td>\n",
       "      <td>0.6</td>\n",
       "      <td>32.995480</td>\n",
       "      <td>101.512016</td>\n",
       "      <td>[1.1228058859341903, 0, 0, 0.5266842054572151,...</td>\n",
       "      <td>[0.7322789504604907, 3.7958496540778, 2.917113...</td>\n",
       "      <td>0</td>\n",
       "      <td>NaN</td>\n",
       "      <td>NaN</td>\n",
       "    </tr>\n",
       "    <tr>\n",
       "      <th>1</th>\n",
       "      <td>stop</td>\n",
       "      <td>50.0</td>\n",
       "      <td>1</td>\n",
       "      <td>0.2</td>\n",
       "      <td>0.6</td>\n",
       "      <td>74.681183</td>\n",
       "      <td>100.396750</td>\n",
       "      <td>[0, 2.1833643050332023, 3.4249850214325503, 2....</td>\n",
       "      <td>[0, 0.6665193095796709, 1.45077921380828, 0.15...</td>\n",
       "      <td>0</td>\n",
       "      <td>NaN</td>\n",
       "      <td>NaN</td>\n",
       "    </tr>\n",
       "    <tr>\n",
       "      <th>2</th>\n",
       "      <td>stop</td>\n",
       "      <td>50.0</td>\n",
       "      <td>2</td>\n",
       "      <td>0.2</td>\n",
       "      <td>0.6</td>\n",
       "      <td>29.196587</td>\n",
       "      <td>101.332944</td>\n",
       "      <td>[1.8606452469010342, 0.162229528895256, 0.9307...</td>\n",
       "      <td>[3.6203777962329564, 2.9030782165567004, 1.829...</td>\n",
       "      <td>0</td>\n",
       "      <td>NaN</td>\n",
       "      <td>NaN</td>\n",
       "    </tr>\n",
       "    <tr>\n",
       "      <th>3</th>\n",
       "      <td>stop</td>\n",
       "      <td>50.0</td>\n",
       "      <td>3</td>\n",
       "      <td>0.2</td>\n",
       "      <td>0.6</td>\n",
       "      <td>57.849907</td>\n",
       "      <td>100.268183</td>\n",
       "      <td>[1.4305284370461606, 1.5847763258813474, 2.255...</td>\n",
       "      <td>[0, 0.42176275492078563, 0, 0, 1.2612256027382...</td>\n",
       "      <td>0</td>\n",
       "      <td>NaN</td>\n",
       "      <td>NaN</td>\n",
       "    </tr>\n",
       "    <tr>\n",
       "      <th>4</th>\n",
       "      <td>stop</td>\n",
       "      <td>50.0</td>\n",
       "      <td>4</td>\n",
       "      <td>0.2</td>\n",
       "      <td>0.6</td>\n",
       "      <td>57.648952</td>\n",
       "      <td>100.111675</td>\n",
       "      <td>[1.0470023023938138, 0.8345209970179899, 0, 0....</td>\n",
       "      <td>[0.5064049141548703, 0, 2.8960931403509207, 4....</td>\n",
       "      <td>0</td>\n",
       "      <td>NaN</td>\n",
       "      <td>NaN</td>\n",
       "    </tr>\n",
       "    <tr>\n",
       "      <th>...</th>\n",
       "      <td>...</td>\n",
       "      <td>...</td>\n",
       "      <td>...</td>\n",
       "      <td>...</td>\n",
       "      <td>...</td>\n",
       "      <td>...</td>\n",
       "      <td>...</td>\n",
       "      <td>...</td>\n",
       "      <td>...</td>\n",
       "      <td>...</td>\n",
       "      <td>...</td>\n",
       "      <td>...</td>\n",
       "    </tr>\n",
       "    <tr>\n",
       "      <th>4295</th>\n",
       "      <td>go</td>\n",
       "      <td>NaN</td>\n",
       "      <td>995</td>\n",
       "      <td>0.2</td>\n",
       "      <td>0.6</td>\n",
       "      <td>100.681059</td>\n",
       "      <td>0.000000</td>\n",
       "      <td>[1.9916852223569887, 3.419591988091699, 2.3246...</td>\n",
       "      <td>[]</td>\n",
       "      <td>0</td>\n",
       "      <td>680.0</td>\n",
       "      <td>NaN</td>\n",
       "    </tr>\n",
       "    <tr>\n",
       "      <th>4296</th>\n",
       "      <td>go</td>\n",
       "      <td>NaN</td>\n",
       "      <td>996</td>\n",
       "      <td>0.2</td>\n",
       "      <td>0.6</td>\n",
       "      <td>101.561984</td>\n",
       "      <td>0.000000</td>\n",
       "      <td>[0.4801801977031876, 0, 0, 0.19593739666170887...</td>\n",
       "      <td>[]</td>\n",
       "      <td>0</td>\n",
       "      <td>333.0</td>\n",
       "      <td>NaN</td>\n",
       "    </tr>\n",
       "    <tr>\n",
       "      <th>4297</th>\n",
       "      <td>go</td>\n",
       "      <td>NaN</td>\n",
       "      <td>997</td>\n",
       "      <td>0.2</td>\n",
       "      <td>0.6</td>\n",
       "      <td>102.152071</td>\n",
       "      <td>0.000000</td>\n",
       "      <td>[0.7584042620262557, 0, 0.5218836821677137, 1....</td>\n",
       "      <td>[]</td>\n",
       "      <td>0</td>\n",
       "      <td>750.0</td>\n",
       "      <td>NaN</td>\n",
       "    </tr>\n",
       "    <tr>\n",
       "      <th>4298</th>\n",
       "      <td>go</td>\n",
       "      <td>NaN</td>\n",
       "      <td>998</td>\n",
       "      <td>0.2</td>\n",
       "      <td>0.6</td>\n",
       "      <td>100.157670</td>\n",
       "      <td>0.000000</td>\n",
       "      <td>[0, 2.6534121222326603, 3.3962379139223207, 2....</td>\n",
       "      <td>[]</td>\n",
       "      <td>0</td>\n",
       "      <td>656.0</td>\n",
       "      <td>NaN</td>\n",
       "    </tr>\n",
       "    <tr>\n",
       "      <th>4299</th>\n",
       "      <td>go</td>\n",
       "      <td>NaN</td>\n",
       "      <td>999</td>\n",
       "      <td>0.2</td>\n",
       "      <td>0.6</td>\n",
       "      <td>100.428869</td>\n",
       "      <td>0.000000</td>\n",
       "      <td>[1.741545608066196, 1.7222554857339294, 1.2546...</td>\n",
       "      <td>[]</td>\n",
       "      <td>0</td>\n",
       "      <td>1195.0</td>\n",
       "      <td>NaN</td>\n",
       "    </tr>\n",
       "  </tbody>\n",
       "</table>\n",
       "<p>4300 rows × 12 columns</p>\n",
       "</div>"
      ],
      "text/plain": [
       "     condition   SSD  trial_idx  mu_go  mu_stop    accum_go  accum_stop  \\\n",
       "0         stop  50.0          0    0.2      0.6   32.995480  101.512016   \n",
       "1         stop  50.0          1    0.2      0.6   74.681183  100.396750   \n",
       "2         stop  50.0          2    0.2      0.6   29.196587  101.332944   \n",
       "3         stop  50.0          3    0.2      0.6   57.849907  100.268183   \n",
       "4         stop  50.0          4    0.2      0.6   57.648952  100.111675   \n",
       "...        ...   ...        ...    ...      ...         ...         ...   \n",
       "4295        go   NaN        995    0.2      0.6  100.681059    0.000000   \n",
       "4296        go   NaN        996    0.2      0.6  101.561984    0.000000   \n",
       "4297        go   NaN        997    0.2      0.6  102.152071    0.000000   \n",
       "4298        go   NaN        998    0.2      0.6  100.157670    0.000000   \n",
       "4299        go   NaN        999    0.2      0.6  100.428869    0.000000   \n",
       "\n",
       "                                             process_go  \\\n",
       "0     [1.1228058859341903, 0, 0, 0.5266842054572151,...   \n",
       "1     [0, 2.1833643050332023, 3.4249850214325503, 2....   \n",
       "2     [1.8606452469010342, 0.162229528895256, 0.9307...   \n",
       "3     [1.4305284370461606, 1.5847763258813474, 2.255...   \n",
       "4     [1.0470023023938138, 0.8345209970179899, 0, 0....   \n",
       "...                                                 ...   \n",
       "4295  [1.9916852223569887, 3.419591988091699, 2.3246...   \n",
       "4296  [0.4801801977031876, 0, 0, 0.19593739666170887...   \n",
       "4297  [0.7584042620262557, 0, 0.5218836821677137, 1....   \n",
       "4298  [0, 2.6534121222326603, 3.3962379139223207, 2....   \n",
       "4299  [1.741545608066196, 1.7222554857339294, 1.2546...   \n",
       "\n",
       "                                           process_stop  block    goRT  stopRT  \n",
       "0     [0.7322789504604907, 3.7958496540778, 2.917113...      0     NaN     NaN  \n",
       "1     [0, 0.6665193095796709, 1.45077921380828, 0.15...      0     NaN     NaN  \n",
       "2     [3.6203777962329564, 2.9030782165567004, 1.829...      0     NaN     NaN  \n",
       "3     [0, 0.42176275492078563, 0, 0, 1.2612256027382...      0     NaN     NaN  \n",
       "4     [0.5064049141548703, 0, 2.8960931403509207, 4....      0     NaN     NaN  \n",
       "...                                                 ...    ...     ...     ...  \n",
       "4295                                                 []      0   680.0     NaN  \n",
       "4296                                                 []      0   333.0     NaN  \n",
       "4297                                                 []      0   750.0     NaN  \n",
       "4298                                                 []      0   656.0     NaN  \n",
       "4299                                                 []      0  1195.0     NaN  \n",
       "\n",
       "[4300 rows x 12 columns]"
      ]
     },
     "execution_count": 3,
     "metadata": {},
     "output_type": "execute_result"
    }
   ],
   "source": [
    "tsts_data"
   ]
  },
  {
   "cell_type": "code",
   "execution_count": 4,
   "metadata": {},
   "outputs": [
    {
     "data": {
      "text/plain": [
       "array([  0,  45,  90, 135, 180, 225, 270, 315, 360, 405, 450, 495, 540])"
      ]
     },
     "execution_count": 4,
     "metadata": {},
     "output_type": "execute_result"
    }
   ],
   "source": [
    "np.arange(0, 560, 45)"
   ]
  },
  {
   "cell_type": "code",
   "execution_count": 5,
   "metadata": {},
   "outputs": [
    {
     "data": {
      "text/plain": [
       "{0: 0,\n",
       " 50: 50,\n",
       " 100: 100,\n",
       " 150: 150,\n",
       " 200: 200,\n",
       " 250: 250,\n",
       " 300: 300,\n",
       " 350: 350,\n",
       " 400: 400,\n",
       " 450: 450,\n",
       " 500: 500,\n",
       " 550: 550}"
      ]
     },
     "execution_count": 5,
     "metadata": {},
     "output_type": "execute_result"
    }
   ],
   "source": [
    "simulator._n_trials_stop"
   ]
  },
  {
   "cell_type": "code",
   "execution_count": 6,
   "metadata": {},
   "outputs": [
    {
     "data": {
      "text/plain": [
       "{0: 0.0,\n",
       " 50: 0.0,\n",
       " 100: 0.0,\n",
       " 150: 0.0,\n",
       " 200: 0.0,\n",
       " 250: 0.0,\n",
       " 300: 0.0,\n",
       " 350: 0.0,\n",
       " 400: 0.0,\n",
       " 450: 0.0,\n",
       " 500: 0.0,\n",
       " 550: 0.0}"
      ]
     },
     "execution_count": 6,
     "metadata": {},
     "output_type": "execute_result"
    }
   ],
   "source": [
    "simulator._n_guess_stop"
   ]
  },
  {
   "cell_type": "markdown",
   "metadata": {},
   "source": [
    "# Figuring out graded mu go"
   ]
  },
  {
   "cell_type": "code",
   "execution_count": 7,
   "metadata": {},
   "outputs": [],
   "source": [
    "import numpy as np\n",
    "import pandas as pd\n",
    "import argparse\n",
    "from os import path\n",
    "from glob import glob\n",
    "import scipy.stats as sstats\n",
    "\n",
    "from stopsignalmetrics import SSRTmodel\n",
    "from utils import SimulateData\n",
    "from simulate import generate_exgauss_sampler_from_fit\n",
    "\n",
    "\n",
    "def get_args():\n",
    "    parser = argparse.ArgumentParser(description='ABCD data simulations')\n",
    "    parser.add_argument('--abcd_dir', default='./abcd_data',\n",
    "                        help='location of ABCD data')\n",
    "    parser.add_argument('--sim_dir', default='./simulated_data',\n",
    "                        help='location of simulated data')\n",
    "    parser.add_argument('--out_dir', default='./ssrt_metrics',\n",
    "                        help='location to save ssrt metrics')\n",
    "    parser.add_argument('--n_graded_go_trials', default=10000)\n",
    "    args = parser.parse_args([])\n",
    "    return(args)\n",
    "\n",
    "\n",
    "def generate_out_df(data, SSD_guess_dict, graded_go_dict):\n",
    "    info = []\n",
    "    ssrtmodel = SSRTmodel(model='replacement')\n",
    "    goRTs = data.loc[data.goRT.notnull(), 'goRT'].values\n",
    "    SSDs = [i for i in data.SSD.unique() if i == i]\n",
    "    SSDs.sort()\n",
    "\n",
    "    for SSD in SSDs:\n",
    "        curr_df = data.query(\n",
    "            \"condition=='go' | condition=='stop' and SSD == %s\" % SSD\n",
    "            ).copy()\n",
    "        curr_metrics = ssrtmodel.fit_transform(curr_df)\n",
    "        if (curr_metrics['p_respond'] == 0) | (curr_metrics['p_respond'] == 1):\n",
    "            curr_info = [v for v in curr_metrics.values()] +\\\n",
    "                    [SSD, np.nan, np.nan]\n",
    "        else:\n",
    "            goRTs_w_guesses = add_guess_RTs_and_sort(goRTs,\n",
    "                                                     SSD,\n",
    "                                                     SSD_guess_dict)\n",
    "            if SSD < 200:\n",
    "                print('w guesses:')\n",
    "            SSRT_w_guesses = SSRT_wReplacement(curr_metrics,\n",
    "                                               goRTs_w_guesses,\n",
    "                                               verbose=(SSD < 200))\n",
    "            if SSD < 200:\n",
    "                print('w graded:')\n",
    "            SSRT_w_graded = SSRT_wReplacement(curr_metrics,\n",
    "                                              graded_go_dict[SSD].copy(),\n",
    "                                              verbose=(SSD < 200))\n",
    "\n",
    "            curr_info = [v for v in curr_metrics.values()] +\\\n",
    "                        [SSD, SSRT_w_guesses, SSRT_w_graded]\n",
    "        info.append(curr_info)\n",
    "        cols = [k for k in curr_metrics.keys()] +\\\n",
    "               ['SSD', 'SSRT_w_guesses', 'SSRT_w_graded']\n",
    "\n",
    "    return pd.DataFrame(\n",
    "        info,\n",
    "        columns=cols)\n",
    "\n",
    "\n",
    "def add_guess_RTs_and_sort(goRTs, SSD, SSD_guess_dict):\n",
    "    curr_n = len(goRTs)\n",
    "    p_guess = SSD_guess_dict[SSD]\n",
    "    if p_guess == 1.0:\n",
    "        guess_RTs = sample_exgauss(curr_n)\n",
    "        guess_RTs.sort()\n",
    "        return guess_RTs\n",
    "    elif p_guess <= 0:  # SSDs 550 and 650\n",
    "        goRTs.sort()\n",
    "        return goRTs\n",
    "    else:\n",
    "        # Equation logic:\n",
    "        # p_guess = n_guess / (n_guess + curr_n) =>\n",
    "        # n_guess = (p_guess * curr_n) / (1 - p_guess)\n",
    "        n_guess = int(np.rint(float((p_guess*curr_n)/(1-p_guess))))\n",
    "        guess_RTs = sample_exgauss(n_guess)\n",
    "        all_RTs = np.concatenate([goRTs, guess_RTs])\n",
    "        all_RTs.sort()\n",
    "        return all_RTs\n",
    "\n",
    "\n",
    "def simulate_graded_RTs_and_sort(n_trials, SSD, verbose=False):\n",
    "    simulator = SimulateData()\n",
    "    params = simulator._init_params({})\n",
    "    params['n_trials_stop'] = n_trials\n",
    "    params['n_trials_go'] = n_trials\n",
    "\n",
    "    params['mu_go'] = simulator._log_mu_go(params['mu_go'], SSD)\n",
    "    simulator._set_n_trials(params)\n",
    "    simulator._set_n_guesses(params)  # no guessing is happening\n",
    "\n",
    "    data_dict = simulator._simulate_go_trials(simulator._init_data_dict(),\n",
    "                                              params)\n",
    "    goRTs = data_dict['RT']\n",
    "    goRTs.sort()\n",
    "    if verbose:\n",
    "        print(SSD)\n",
    "        for p in np.arange(0, 100, 5):\n",
    "            print(p, sstats.scoreatpercentile(goRTs, p))\n",
    "    return goRTs\n",
    "\n",
    "\n",
    "def get_nth_RT(P_respond, goRTs):\n",
    "    \"\"\"Get nth RT based P(response|signal) and sorted go RTs.\"\"\"\n",
    "    nth_index = int(np.rint(P_respond*len(goRTs))) - 1\n",
    "    if nth_index < 0:\n",
    "        nth_RT = goRTs[0]\n",
    "    elif nth_index >= len(goRTs):\n",
    "        nth_RT = goRTs[-1]\n",
    "    else:\n",
    "        nth_RT = goRTs[nth_index]\n",
    "    return nth_RT\n",
    "\n",
    "\n",
    "def SSRT_wReplacement(metrics, sorted_go_RTs, verbose=False):\n",
    "    P_respond = metrics['p_respond']\n",
    "    goRTs_w_replacements = np.concatenate((\n",
    "        sorted_go_RTs,\n",
    "        [metrics['max_RT']] * metrics['omission_count']))\n",
    "\n",
    "    nrt = get_nth_RT(P_respond, goRTs_w_replacements)\n",
    "    if verbose:\n",
    "        print('SSD', metrics['mean_SSD'])\n",
    "        print('p_respond', P_respond)\n",
    "        print('nrt', nrt)\n",
    "    return nrt - metrics['mean_SSD']"
   ]
  },
  {
   "cell_type": "code",
   "execution_count": 9,
   "metadata": {
    "collapsed": true,
    "jupyter": {
     "outputs_hidden": true
    }
   },
   "outputs": [
    {
     "name": "stdout",
     "output_type": "stream",
     "text": [
      "{50.0: 0.845301348829293, 100.0: 0.610622825783264, 0.0: 1.0, 150.0: 0.452841954188218, 200.0: 0.2941470114067, 250.0: 0.200997922993901, 300.0: 0.14331766365641901, 350.0: 0.0798946466477947, 400.0: 0.0564683334369033, 450.0: 0.0271712158267143, 500.0: 0.0191213813425612, 550.0: -0.0013543997871993901, 600.0: 0.00573360220001983, 650.0: -0.00349382177060603, 700.0: 0.0748603699110067, 750.0: 0.035672034056798, 800.0: 0.185669151023814, 850.0: 0.156473540451239, 900.0: 0.26911106708549204}\n",
      "50.0\n",
      "0 98.0\n",
      "5 197.0\n",
      "10 234.0\n",
      "15 267.0\n",
      "20 298.0\n",
      "25 328.0\n",
      "30 360.0\n",
      "35 396.0\n",
      "40 433.0\n",
      "45 470.0\n",
      "50 509.5\n",
      "55 555.0\n",
      "60 607.3999999999996\n",
      "65 661.0\n",
      "70 724.0\n",
      "75 802.0\n",
      "80 896.0\n",
      "85 1024.1499999999996\n",
      "90 1191.2000000000007\n",
      "95 1490.0\n",
      "100.0\n",
      "0 93.0\n",
      "5 187.0\n",
      "10 219.0\n",
      "15 247.0\n",
      "20 274.0\n",
      "25 302.0\n",
      "30 329.0\n",
      "35 358.0\n",
      "40 387.0\n",
      "45 418.0\n",
      "50 452.0\n",
      "55 490.0\n",
      "60 528.0\n",
      "65 575.0\n",
      "70 633.2999999999993\n",
      "75 697.0\n",
      "80 776.0\n",
      "85 877.0\n",
      "90 1019.1000000000004\n",
      "95 1266.0499999999993\n",
      "0.0\n",
      "0 106.0\n",
      "5 225.0\n",
      "10 278.0\n",
      "15 328.0\n",
      "20 374.0\n",
      "25 424.0\n",
      "30 478.6999999999998\n",
      "35 533.0\n",
      "40 589.0\n",
      "45 652.5500000000002\n",
      "50 721.5\n",
      "55 790.0\n",
      "60 869.0\n",
      "65 965.0\n",
      "70 1086.0\n",
      "75 1212.0\n",
      "80 1364.0\n",
      "85 1582.1499999999996\n",
      "90 1854.1000000000004\n",
      "95 2375.2499999999964\n",
      "150.0\n",
      "0 93.0\n",
      "5 181.0\n",
      "10 217.0\n",
      "15 243.0\n",
      "20 269.0\n",
      "25 293.0\n",
      "30 320.0\n",
      "35 346.0\n",
      "40 374.0\n",
      "45 404.0\n",
      "50 434.0\n",
      "55 467.0\n",
      "60 506.0\n",
      "65 548.0\n",
      "70 597.0\n",
      "75 656.0\n",
      "80 722.0\n",
      "85 814.1499999999996\n",
      "90 940.0\n",
      "95 1162.0\n"
     ]
    }
   ],
   "source": [
    "    args = get_args()\n",
    "\n",
    "    # GET ABCD INFO\n",
    "    abcd_data = pd.read_csv('%s/minimal_abcd_clean.csv' % args.abcd_dir)\n",
    "    p_guess_df = pd.read_csv('%s/p_guess_per_ssd.csv' % args.abcd_dir)\n",
    "\n",
    "    SSD_guess_dict = {float(col): float(p_guess_df[col].values[0]) for col\n",
    "                      in p_guess_df.columns}\n",
    "    print(SSD_guess_dict)\n",
    "\n",
    "    SSD0_RTs = abcd_data.query(\n",
    "        \"SSDDur == 0.0 and correct_stop==0.0\"\n",
    "        ).stop_rt_adjusted.values\n",
    "    sample_exgauss = generate_exgauss_sampler_from_fit(SSD0_RTs)\n",
    "\n",
    "    # SET UP GRADED MU GO DISTS\n",
    "    graded_go_dict = {}\n",
    "    for SSD in [i for i in abcd_data.SSDDur.unique() if i == i]:\n",
    "        graded_go_dict[SSD] = simulate_graded_RTs_and_sort(\n",
    "            args.n_graded_go_trials,\n",
    "            SSD,\n",
    "            verbose=(SSD < 200))\n",
    "\n",
    "#     # CALCULATE SSRT\n",
    "#     for data_file in [glob(path.join(args.sim_dir, '*.csv'))[0]]:\n",
    "#         sim_type = path.basename(\n",
    "#             data_file\n",
    "#             ).replace('.csv', '')\n",
    "#         out_df = generate_out_df(pd.read_csv(data_file),\n",
    "#                                  SSD_guess_dict,\n",
    "#                                  graded_go_dict)\n",
    "#         out_df.to_csv(path.join(args.out_dir, '%s.csv' % sim_type))"
   ]
  },
  {
   "cell_type": "markdown",
   "metadata": {},
   "source": [
    "# testing individual simulations"
   ]
  },
  {
   "cell_type": "code",
   "execution_count": 16,
   "metadata": {},
   "outputs": [],
   "source": []
  },
  {
   "cell_type": "code",
   "execution_count": 24,
   "metadata": {},
   "outputs": [],
   "source": [
    "SSDs = indiv_ssd_dists.loc['003RTV85', 'SSDDur'].unique()"
   ]
  },
  {
   "cell_type": "code",
   "execution_count": 19,
   "metadata": {},
   "outputs": [],
   "source": [
    "p_guess_df = pd.read_csv('abcd_data/p_guess_per_ssd.csv')"
   ]
  },
  {
   "cell_type": "code",
   "execution_count": 21,
   "metadata": {},
   "outputs": [
    {
     "ename": "KeyError",
     "evalue": "\"None of [Float64Index([300.0, 250.0, 400.0, 350.0, 450.0, 200.0, 150.0, 50.0, 100.0], dtype='float64')] are in the [columns]\"",
     "output_type": "error",
     "traceback": [
      "\u001b[0;31m---------------------------------------------------------------------------\u001b[0m",
      "\u001b[0;31mKeyError\u001b[0m                                  Traceback (most recent call last)",
      "\u001b[0;32m<ipython-input-21-6ada473a1f64>\u001b[0m in \u001b[0;36m<module>\u001b[0;34m\u001b[0m\n\u001b[0;32m----> 1\u001b[0;31m \u001b[0mlist\u001b[0m\u001b[0;34m(\u001b[0m\u001b[0mp_guess_df\u001b[0m\u001b[0;34m[\u001b[0m\u001b[0mSSDs\u001b[0m\u001b[0;34m]\u001b[0m\u001b[0;34m.\u001b[0m\u001b[0mvalues\u001b[0m\u001b[0;34m.\u001b[0m\u001b[0mastype\u001b[0m\u001b[0;34m(\u001b[0m\u001b[0mfloat\u001b[0m\u001b[0;34m)\u001b[0m\u001b[0;34m[\u001b[0m\u001b[0;36m0\u001b[0m\u001b[0;34m]\u001b[0m\u001b[0;34m)\u001b[0m\u001b[0;34m\u001b[0m\u001b[0;34m\u001b[0m\u001b[0m\n\u001b[0m",
      "\u001b[0;32m~/anaconda3/lib/python3.7/site-packages/pandas/core/frame.py\u001b[0m in \u001b[0;36m__getitem__\u001b[0;34m(self, key)\u001b[0m\n\u001b[1;32m   2999\u001b[0m             \u001b[0;32mif\u001b[0m \u001b[0mis_iterator\u001b[0m\u001b[0;34m(\u001b[0m\u001b[0mkey\u001b[0m\u001b[0;34m)\u001b[0m\u001b[0;34m:\u001b[0m\u001b[0;34m\u001b[0m\u001b[0;34m\u001b[0m\u001b[0m\n\u001b[1;32m   3000\u001b[0m                 \u001b[0mkey\u001b[0m \u001b[0;34m=\u001b[0m \u001b[0mlist\u001b[0m\u001b[0;34m(\u001b[0m\u001b[0mkey\u001b[0m\u001b[0;34m)\u001b[0m\u001b[0;34m\u001b[0m\u001b[0;34m\u001b[0m\u001b[0m\n\u001b[0;32m-> 3001\u001b[0;31m             \u001b[0mindexer\u001b[0m \u001b[0;34m=\u001b[0m \u001b[0mself\u001b[0m\u001b[0;34m.\u001b[0m\u001b[0mloc\u001b[0m\u001b[0;34m.\u001b[0m\u001b[0m_convert_to_indexer\u001b[0m\u001b[0;34m(\u001b[0m\u001b[0mkey\u001b[0m\u001b[0;34m,\u001b[0m \u001b[0maxis\u001b[0m\u001b[0;34m=\u001b[0m\u001b[0;36m1\u001b[0m\u001b[0;34m,\u001b[0m \u001b[0mraise_missing\u001b[0m\u001b[0;34m=\u001b[0m\u001b[0;32mTrue\u001b[0m\u001b[0;34m)\u001b[0m\u001b[0;34m\u001b[0m\u001b[0;34m\u001b[0m\u001b[0m\n\u001b[0m\u001b[1;32m   3002\u001b[0m \u001b[0;34m\u001b[0m\u001b[0m\n\u001b[1;32m   3003\u001b[0m         \u001b[0;31m# take() does not accept boolean indexers\u001b[0m\u001b[0;34m\u001b[0m\u001b[0;34m\u001b[0m\u001b[0;34m\u001b[0m\u001b[0m\n",
      "\u001b[0;32m~/anaconda3/lib/python3.7/site-packages/pandas/core/indexing.py\u001b[0m in \u001b[0;36m_convert_to_indexer\u001b[0;34m(self, obj, axis, is_setter, raise_missing)\u001b[0m\n\u001b[1;32m   1283\u001b[0m                 \u001b[0;31m# When setting, missing keys are not allowed, even with .loc:\u001b[0m\u001b[0;34m\u001b[0m\u001b[0;34m\u001b[0m\u001b[0;34m\u001b[0m\u001b[0m\n\u001b[1;32m   1284\u001b[0m                 \u001b[0mkwargs\u001b[0m \u001b[0;34m=\u001b[0m \u001b[0;34m{\u001b[0m\u001b[0;34m\"raise_missing\"\u001b[0m\u001b[0;34m:\u001b[0m \u001b[0;32mTrue\u001b[0m \u001b[0;32mif\u001b[0m \u001b[0mis_setter\u001b[0m \u001b[0;32melse\u001b[0m \u001b[0mraise_missing\u001b[0m\u001b[0;34m}\u001b[0m\u001b[0;34m\u001b[0m\u001b[0;34m\u001b[0m\u001b[0m\n\u001b[0;32m-> 1285\u001b[0;31m                 \u001b[0;32mreturn\u001b[0m \u001b[0mself\u001b[0m\u001b[0;34m.\u001b[0m\u001b[0m_get_listlike_indexer\u001b[0m\u001b[0;34m(\u001b[0m\u001b[0mobj\u001b[0m\u001b[0;34m,\u001b[0m \u001b[0maxis\u001b[0m\u001b[0;34m,\u001b[0m \u001b[0;34m**\u001b[0m\u001b[0mkwargs\u001b[0m\u001b[0;34m)\u001b[0m\u001b[0;34m[\u001b[0m\u001b[0;36m1\u001b[0m\u001b[0;34m]\u001b[0m\u001b[0;34m\u001b[0m\u001b[0;34m\u001b[0m\u001b[0m\n\u001b[0m\u001b[1;32m   1286\u001b[0m         \u001b[0;32melse\u001b[0m\u001b[0;34m:\u001b[0m\u001b[0;34m\u001b[0m\u001b[0;34m\u001b[0m\u001b[0m\n\u001b[1;32m   1287\u001b[0m             \u001b[0;32mtry\u001b[0m\u001b[0;34m:\u001b[0m\u001b[0;34m\u001b[0m\u001b[0;34m\u001b[0m\u001b[0m\n",
      "\u001b[0;32m~/anaconda3/lib/python3.7/site-packages/pandas/core/indexing.py\u001b[0m in \u001b[0;36m_get_listlike_indexer\u001b[0;34m(self, key, axis, raise_missing)\u001b[0m\n\u001b[1;32m   1090\u001b[0m \u001b[0;34m\u001b[0m\u001b[0m\n\u001b[1;32m   1091\u001b[0m         self._validate_read_indexer(\n\u001b[0;32m-> 1092\u001b[0;31m             \u001b[0mkeyarr\u001b[0m\u001b[0;34m,\u001b[0m \u001b[0mindexer\u001b[0m\u001b[0;34m,\u001b[0m \u001b[0mo\u001b[0m\u001b[0;34m.\u001b[0m\u001b[0m_get_axis_number\u001b[0m\u001b[0;34m(\u001b[0m\u001b[0maxis\u001b[0m\u001b[0;34m)\u001b[0m\u001b[0;34m,\u001b[0m \u001b[0mraise_missing\u001b[0m\u001b[0;34m=\u001b[0m\u001b[0mraise_missing\u001b[0m\u001b[0;34m\u001b[0m\u001b[0;34m\u001b[0m\u001b[0m\n\u001b[0m\u001b[1;32m   1093\u001b[0m         )\n\u001b[1;32m   1094\u001b[0m         \u001b[0;32mreturn\u001b[0m \u001b[0mkeyarr\u001b[0m\u001b[0;34m,\u001b[0m \u001b[0mindexer\u001b[0m\u001b[0;34m\u001b[0m\u001b[0;34m\u001b[0m\u001b[0m\n",
      "\u001b[0;32m~/anaconda3/lib/python3.7/site-packages/pandas/core/indexing.py\u001b[0m in \u001b[0;36m_validate_read_indexer\u001b[0;34m(self, key, indexer, axis, raise_missing)\u001b[0m\n\u001b[1;32m   1175\u001b[0m                 raise KeyError(\n\u001b[1;32m   1176\u001b[0m                     \"None of [{key}] are in the [{axis}]\".format(\n\u001b[0;32m-> 1177\u001b[0;31m                         \u001b[0mkey\u001b[0m\u001b[0;34m=\u001b[0m\u001b[0mkey\u001b[0m\u001b[0;34m,\u001b[0m \u001b[0maxis\u001b[0m\u001b[0;34m=\u001b[0m\u001b[0mself\u001b[0m\u001b[0;34m.\u001b[0m\u001b[0mobj\u001b[0m\u001b[0;34m.\u001b[0m\u001b[0m_get_axis_name\u001b[0m\u001b[0;34m(\u001b[0m\u001b[0maxis\u001b[0m\u001b[0;34m)\u001b[0m\u001b[0;34m\u001b[0m\u001b[0;34m\u001b[0m\u001b[0m\n\u001b[0m\u001b[1;32m   1178\u001b[0m                     )\n\u001b[1;32m   1179\u001b[0m                 )\n",
      "\u001b[0;31mKeyError\u001b[0m: \"None of [Float64Index([300.0, 250.0, 400.0, 350.0, 450.0, 200.0, 150.0, 50.0, 100.0], dtype='float64')] are in the [columns]\""
     ]
    }
   ],
   "source": [
    "list(p_guess_df[SSDs].values.astype(float)[0])"
   ]
  },
  {
   "cell_type": "code",
   "execution_count": 25,
   "metadata": {},
   "outputs": [
    {
     "ename": "KeyError",
     "evalue": "\"None of [Float64Index([300.0, 250.0, 400.0, 350.0, 450.0, 200.0, 150.0, 50.0, 100.0], dtype='float64')] are in the [columns]\"",
     "output_type": "error",
     "traceback": [
      "\u001b[0;31m---------------------------------------------------------------------------\u001b[0m",
      "\u001b[0;31mKeyError\u001b[0m                                  Traceback (most recent call last)",
      "\u001b[0;32m<ipython-input-25-7d499194a2fe>\u001b[0m in \u001b[0;36m<module>\u001b[0;34m\u001b[0m\n\u001b[0;32m----> 1\u001b[0;31m \u001b[0mp_guess_df\u001b[0m\u001b[0;34m[\u001b[0m\u001b[0mSSDs\u001b[0m\u001b[0;34m]\u001b[0m\u001b[0;34m\u001b[0m\u001b[0;34m\u001b[0m\u001b[0m\n\u001b[0m",
      "\u001b[0;32m~/anaconda3/lib/python3.7/site-packages/pandas/core/frame.py\u001b[0m in \u001b[0;36m__getitem__\u001b[0;34m(self, key)\u001b[0m\n\u001b[1;32m   2999\u001b[0m             \u001b[0;32mif\u001b[0m \u001b[0mis_iterator\u001b[0m\u001b[0;34m(\u001b[0m\u001b[0mkey\u001b[0m\u001b[0;34m)\u001b[0m\u001b[0;34m:\u001b[0m\u001b[0;34m\u001b[0m\u001b[0;34m\u001b[0m\u001b[0m\n\u001b[1;32m   3000\u001b[0m                 \u001b[0mkey\u001b[0m \u001b[0;34m=\u001b[0m \u001b[0mlist\u001b[0m\u001b[0;34m(\u001b[0m\u001b[0mkey\u001b[0m\u001b[0;34m)\u001b[0m\u001b[0;34m\u001b[0m\u001b[0;34m\u001b[0m\u001b[0m\n\u001b[0;32m-> 3001\u001b[0;31m             \u001b[0mindexer\u001b[0m \u001b[0;34m=\u001b[0m \u001b[0mself\u001b[0m\u001b[0;34m.\u001b[0m\u001b[0mloc\u001b[0m\u001b[0;34m.\u001b[0m\u001b[0m_convert_to_indexer\u001b[0m\u001b[0;34m(\u001b[0m\u001b[0mkey\u001b[0m\u001b[0;34m,\u001b[0m \u001b[0maxis\u001b[0m\u001b[0;34m=\u001b[0m\u001b[0;36m1\u001b[0m\u001b[0;34m,\u001b[0m \u001b[0mraise_missing\u001b[0m\u001b[0;34m=\u001b[0m\u001b[0;32mTrue\u001b[0m\u001b[0;34m)\u001b[0m\u001b[0;34m\u001b[0m\u001b[0;34m\u001b[0m\u001b[0m\n\u001b[0m\u001b[1;32m   3002\u001b[0m \u001b[0;34m\u001b[0m\u001b[0m\n\u001b[1;32m   3003\u001b[0m         \u001b[0;31m# take() does not accept boolean indexers\u001b[0m\u001b[0;34m\u001b[0m\u001b[0;34m\u001b[0m\u001b[0;34m\u001b[0m\u001b[0m\n",
      "\u001b[0;32m~/anaconda3/lib/python3.7/site-packages/pandas/core/indexing.py\u001b[0m in \u001b[0;36m_convert_to_indexer\u001b[0;34m(self, obj, axis, is_setter, raise_missing)\u001b[0m\n\u001b[1;32m   1283\u001b[0m                 \u001b[0;31m# When setting, missing keys are not allowed, even with .loc:\u001b[0m\u001b[0;34m\u001b[0m\u001b[0;34m\u001b[0m\u001b[0;34m\u001b[0m\u001b[0m\n\u001b[1;32m   1284\u001b[0m                 \u001b[0mkwargs\u001b[0m \u001b[0;34m=\u001b[0m \u001b[0;34m{\u001b[0m\u001b[0;34m\"raise_missing\"\u001b[0m\u001b[0;34m:\u001b[0m \u001b[0;32mTrue\u001b[0m \u001b[0;32mif\u001b[0m \u001b[0mis_setter\u001b[0m \u001b[0;32melse\u001b[0m \u001b[0mraise_missing\u001b[0m\u001b[0;34m}\u001b[0m\u001b[0;34m\u001b[0m\u001b[0;34m\u001b[0m\u001b[0m\n\u001b[0;32m-> 1285\u001b[0;31m                 \u001b[0;32mreturn\u001b[0m \u001b[0mself\u001b[0m\u001b[0;34m.\u001b[0m\u001b[0m_get_listlike_indexer\u001b[0m\u001b[0;34m(\u001b[0m\u001b[0mobj\u001b[0m\u001b[0;34m,\u001b[0m \u001b[0maxis\u001b[0m\u001b[0;34m,\u001b[0m \u001b[0;34m**\u001b[0m\u001b[0mkwargs\u001b[0m\u001b[0;34m)\u001b[0m\u001b[0;34m[\u001b[0m\u001b[0;36m1\u001b[0m\u001b[0;34m]\u001b[0m\u001b[0;34m\u001b[0m\u001b[0;34m\u001b[0m\u001b[0m\n\u001b[0m\u001b[1;32m   1286\u001b[0m         \u001b[0;32melse\u001b[0m\u001b[0;34m:\u001b[0m\u001b[0;34m\u001b[0m\u001b[0;34m\u001b[0m\u001b[0m\n\u001b[1;32m   1287\u001b[0m             \u001b[0;32mtry\u001b[0m\u001b[0;34m:\u001b[0m\u001b[0;34m\u001b[0m\u001b[0;34m\u001b[0m\u001b[0m\n",
      "\u001b[0;32m~/anaconda3/lib/python3.7/site-packages/pandas/core/indexing.py\u001b[0m in \u001b[0;36m_get_listlike_indexer\u001b[0;34m(self, key, axis, raise_missing)\u001b[0m\n\u001b[1;32m   1090\u001b[0m \u001b[0;34m\u001b[0m\u001b[0m\n\u001b[1;32m   1091\u001b[0m         self._validate_read_indexer(\n\u001b[0;32m-> 1092\u001b[0;31m             \u001b[0mkeyarr\u001b[0m\u001b[0;34m,\u001b[0m \u001b[0mindexer\u001b[0m\u001b[0;34m,\u001b[0m \u001b[0mo\u001b[0m\u001b[0;34m.\u001b[0m\u001b[0m_get_axis_number\u001b[0m\u001b[0;34m(\u001b[0m\u001b[0maxis\u001b[0m\u001b[0;34m)\u001b[0m\u001b[0;34m,\u001b[0m \u001b[0mraise_missing\u001b[0m\u001b[0;34m=\u001b[0m\u001b[0mraise_missing\u001b[0m\u001b[0;34m\u001b[0m\u001b[0;34m\u001b[0m\u001b[0m\n\u001b[0m\u001b[1;32m   1093\u001b[0m         )\n\u001b[1;32m   1094\u001b[0m         \u001b[0;32mreturn\u001b[0m \u001b[0mkeyarr\u001b[0m\u001b[0;34m,\u001b[0m \u001b[0mindexer\u001b[0m\u001b[0;34m\u001b[0m\u001b[0;34m\u001b[0m\u001b[0m\n",
      "\u001b[0;32m~/anaconda3/lib/python3.7/site-packages/pandas/core/indexing.py\u001b[0m in \u001b[0;36m_validate_read_indexer\u001b[0;34m(self, key, indexer, axis, raise_missing)\u001b[0m\n\u001b[1;32m   1175\u001b[0m                 raise KeyError(\n\u001b[1;32m   1176\u001b[0m                     \"None of [{key}] are in the [{axis}]\".format(\n\u001b[0;32m-> 1177\u001b[0;31m                         \u001b[0mkey\u001b[0m\u001b[0;34m=\u001b[0m\u001b[0mkey\u001b[0m\u001b[0;34m,\u001b[0m \u001b[0maxis\u001b[0m\u001b[0;34m=\u001b[0m\u001b[0mself\u001b[0m\u001b[0;34m.\u001b[0m\u001b[0mobj\u001b[0m\u001b[0;34m.\u001b[0m\u001b[0m_get_axis_name\u001b[0m\u001b[0;34m(\u001b[0m\u001b[0maxis\u001b[0m\u001b[0;34m)\u001b[0m\u001b[0;34m\u001b[0m\u001b[0;34m\u001b[0m\u001b[0m\n\u001b[0m\u001b[1;32m   1178\u001b[0m                     )\n\u001b[1;32m   1179\u001b[0m                 )\n",
      "\u001b[0;31mKeyError\u001b[0m: \"None of [Float64Index([300.0, 250.0, 400.0, 350.0, 450.0, 200.0, 150.0, 50.0, 100.0], dtype='float64')] are in the [columns]\""
     ]
    }
   ],
   "source": [
    "p_guess_df[SSDs]"
   ]
  },
  {
   "cell_type": "code",
   "execution_count": 29,
   "metadata": {},
   "outputs": [
    {
     "ename": "KeyError",
     "evalue": "50",
     "output_type": "error",
     "traceback": [
      "\u001b[0;31m---------------------------------------------------------------------------\u001b[0m",
      "\u001b[0;31mKeyError\u001b[0m                                  Traceback (most recent call last)",
      "\u001b[0;32m~/anaconda3/lib/python3.7/site-packages/pandas/core/indexes/base.py\u001b[0m in \u001b[0;36mget_loc\u001b[0;34m(self, key, method, tolerance)\u001b[0m\n\u001b[1;32m   2896\u001b[0m             \u001b[0;32mtry\u001b[0m\u001b[0;34m:\u001b[0m\u001b[0;34m\u001b[0m\u001b[0;34m\u001b[0m\u001b[0m\n\u001b[0;32m-> 2897\u001b[0;31m                 \u001b[0;32mreturn\u001b[0m \u001b[0mself\u001b[0m\u001b[0;34m.\u001b[0m\u001b[0m_engine\u001b[0m\u001b[0;34m.\u001b[0m\u001b[0mget_loc\u001b[0m\u001b[0;34m(\u001b[0m\u001b[0mkey\u001b[0m\u001b[0;34m)\u001b[0m\u001b[0;34m\u001b[0m\u001b[0;34m\u001b[0m\u001b[0m\n\u001b[0m\u001b[1;32m   2898\u001b[0m             \u001b[0;32mexcept\u001b[0m \u001b[0mKeyError\u001b[0m\u001b[0;34m:\u001b[0m\u001b[0;34m\u001b[0m\u001b[0;34m\u001b[0m\u001b[0m\n",
      "\u001b[0;32mpandas/_libs/index.pyx\u001b[0m in \u001b[0;36mpandas._libs.index.IndexEngine.get_loc\u001b[0;34m()\u001b[0m\n",
      "\u001b[0;32mpandas/_libs/index.pyx\u001b[0m in \u001b[0;36mpandas._libs.index.IndexEngine.get_loc\u001b[0;34m()\u001b[0m\n",
      "\u001b[0;32mpandas/_libs/hashtable_class_helper.pxi\u001b[0m in \u001b[0;36mpandas._libs.hashtable.PyObjectHashTable.get_item\u001b[0;34m()\u001b[0m\n",
      "\u001b[0;32mpandas/_libs/hashtable_class_helper.pxi\u001b[0m in \u001b[0;36mpandas._libs.hashtable.PyObjectHashTable.get_item\u001b[0;34m()\u001b[0m\n",
      "\u001b[0;31mKeyError\u001b[0m: 50.0",
      "\nDuring handling of the above exception, another exception occurred:\n",
      "\u001b[0;31mKeyError\u001b[0m                                  Traceback (most recent call last)",
      "\u001b[0;32m<ipython-input-29-ae4afdf7742f>\u001b[0m in \u001b[0;36m<module>\u001b[0;34m\u001b[0m\n\u001b[0;32m----> 1\u001b[0;31m \u001b[0mp_guess_df\u001b[0m\u001b[0;34m[\u001b[0m\u001b[0;36m50.0\u001b[0m\u001b[0;34m]\u001b[0m\u001b[0;34m\u001b[0m\u001b[0;34m\u001b[0m\u001b[0m\n\u001b[0m",
      "\u001b[0;32m~/anaconda3/lib/python3.7/site-packages/pandas/core/frame.py\u001b[0m in \u001b[0;36m__getitem__\u001b[0;34m(self, key)\u001b[0m\n\u001b[1;32m   2993\u001b[0m             \u001b[0;32mif\u001b[0m \u001b[0mself\u001b[0m\u001b[0;34m.\u001b[0m\u001b[0mcolumns\u001b[0m\u001b[0;34m.\u001b[0m\u001b[0mnlevels\u001b[0m \u001b[0;34m>\u001b[0m \u001b[0;36m1\u001b[0m\u001b[0;34m:\u001b[0m\u001b[0;34m\u001b[0m\u001b[0;34m\u001b[0m\u001b[0m\n\u001b[1;32m   2994\u001b[0m                 \u001b[0;32mreturn\u001b[0m \u001b[0mself\u001b[0m\u001b[0;34m.\u001b[0m\u001b[0m_getitem_multilevel\u001b[0m\u001b[0;34m(\u001b[0m\u001b[0mkey\u001b[0m\u001b[0;34m)\u001b[0m\u001b[0;34m\u001b[0m\u001b[0;34m\u001b[0m\u001b[0m\n\u001b[0;32m-> 2995\u001b[0;31m             \u001b[0mindexer\u001b[0m \u001b[0;34m=\u001b[0m \u001b[0mself\u001b[0m\u001b[0;34m.\u001b[0m\u001b[0mcolumns\u001b[0m\u001b[0;34m.\u001b[0m\u001b[0mget_loc\u001b[0m\u001b[0;34m(\u001b[0m\u001b[0mkey\u001b[0m\u001b[0;34m)\u001b[0m\u001b[0;34m\u001b[0m\u001b[0;34m\u001b[0m\u001b[0m\n\u001b[0m\u001b[1;32m   2996\u001b[0m             \u001b[0;32mif\u001b[0m \u001b[0mis_integer\u001b[0m\u001b[0;34m(\u001b[0m\u001b[0mindexer\u001b[0m\u001b[0;34m)\u001b[0m\u001b[0;34m:\u001b[0m\u001b[0;34m\u001b[0m\u001b[0;34m\u001b[0m\u001b[0m\n\u001b[1;32m   2997\u001b[0m                 \u001b[0mindexer\u001b[0m \u001b[0;34m=\u001b[0m \u001b[0;34m[\u001b[0m\u001b[0mindexer\u001b[0m\u001b[0;34m]\u001b[0m\u001b[0;34m\u001b[0m\u001b[0;34m\u001b[0m\u001b[0m\n",
      "\u001b[0;32m~/anaconda3/lib/python3.7/site-packages/pandas/core/indexes/base.py\u001b[0m in \u001b[0;36mget_loc\u001b[0;34m(self, key, method, tolerance)\u001b[0m\n\u001b[1;32m   2897\u001b[0m                 \u001b[0;32mreturn\u001b[0m \u001b[0mself\u001b[0m\u001b[0;34m.\u001b[0m\u001b[0m_engine\u001b[0m\u001b[0;34m.\u001b[0m\u001b[0mget_loc\u001b[0m\u001b[0;34m(\u001b[0m\u001b[0mkey\u001b[0m\u001b[0;34m)\u001b[0m\u001b[0;34m\u001b[0m\u001b[0;34m\u001b[0m\u001b[0m\n\u001b[1;32m   2898\u001b[0m             \u001b[0;32mexcept\u001b[0m \u001b[0mKeyError\u001b[0m\u001b[0;34m:\u001b[0m\u001b[0;34m\u001b[0m\u001b[0;34m\u001b[0m\u001b[0m\n\u001b[0;32m-> 2899\u001b[0;31m                 \u001b[0;32mreturn\u001b[0m \u001b[0mself\u001b[0m\u001b[0;34m.\u001b[0m\u001b[0m_engine\u001b[0m\u001b[0;34m.\u001b[0m\u001b[0mget_loc\u001b[0m\u001b[0;34m(\u001b[0m\u001b[0mself\u001b[0m\u001b[0;34m.\u001b[0m\u001b[0m_maybe_cast_indexer\u001b[0m\u001b[0;34m(\u001b[0m\u001b[0mkey\u001b[0m\u001b[0;34m)\u001b[0m\u001b[0;34m)\u001b[0m\u001b[0;34m\u001b[0m\u001b[0;34m\u001b[0m\u001b[0m\n\u001b[0m\u001b[1;32m   2900\u001b[0m         \u001b[0mindexer\u001b[0m \u001b[0;34m=\u001b[0m \u001b[0mself\u001b[0m\u001b[0;34m.\u001b[0m\u001b[0mget_indexer\u001b[0m\u001b[0;34m(\u001b[0m\u001b[0;34m[\u001b[0m\u001b[0mkey\u001b[0m\u001b[0;34m]\u001b[0m\u001b[0;34m,\u001b[0m \u001b[0mmethod\u001b[0m\u001b[0;34m=\u001b[0m\u001b[0mmethod\u001b[0m\u001b[0;34m,\u001b[0m \u001b[0mtolerance\u001b[0m\u001b[0;34m=\u001b[0m\u001b[0mtolerance\u001b[0m\u001b[0;34m)\u001b[0m\u001b[0;34m\u001b[0m\u001b[0;34m\u001b[0m\u001b[0m\n\u001b[1;32m   2901\u001b[0m         \u001b[0;32mif\u001b[0m \u001b[0mindexer\u001b[0m\u001b[0;34m.\u001b[0m\u001b[0mndim\u001b[0m \u001b[0;34m>\u001b[0m \u001b[0;36m1\u001b[0m \u001b[0;32mor\u001b[0m \u001b[0mindexer\u001b[0m\u001b[0;34m.\u001b[0m\u001b[0msize\u001b[0m \u001b[0;34m>\u001b[0m \u001b[0;36m1\u001b[0m\u001b[0;34m:\u001b[0m\u001b[0;34m\u001b[0m\u001b[0;34m\u001b[0m\u001b[0m\n",
      "\u001b[0;32mpandas/_libs/index.pyx\u001b[0m in \u001b[0;36mpandas._libs.index.IndexEngine.get_loc\u001b[0;34m()\u001b[0m\n",
      "\u001b[0;32mpandas/_libs/index.pyx\u001b[0m in \u001b[0;36mpandas._libs.index.IndexEngine.get_loc\u001b[0;34m()\u001b[0m\n",
      "\u001b[0;32mpandas/_libs/hashtable_class_helper.pxi\u001b[0m in \u001b[0;36mpandas._libs.hashtable.PyObjectHashTable.get_item\u001b[0;34m()\u001b[0m\n",
      "\u001b[0;32mpandas/_libs/hashtable_class_helper.pxi\u001b[0m in \u001b[0;36mpandas._libs.hashtable.PyObjectHashTable.get_item\u001b[0;34m()\u001b[0m\n",
      "\u001b[0;31mKeyError\u001b[0m: 50"
     ]
    }
   ],
   "source": [
    "p_guess_df[50.0]"
   ]
  },
  {
   "cell_type": "code",
   "execution_count": 42,
   "metadata": {},
   "outputs": [],
   "source": [
    "import json"
   ]
  },
  {
   "cell_type": "code",
   "execution_count": 38,
   "metadata": {},
   "outputs": [
    {
     "data": {
      "text/plain": [
       "array([0.14331766, 0.20099792, 0.05646833, 0.07989465, 0.02717122,\n",
       "       0.29414701, 0.45284195, 0.84530135, 0.61062283])"
      ]
     },
     "execution_count": 38,
     "metadata": {},
     "output_type": "execute_result"
    }
   ],
   "source": [
    "p_guess_df[SSDs].values.astype(float)[0]"
   ]
  },
  {
   "cell_type": "code",
   "execution_count": 39,
   "metadata": {},
   "outputs": [
    {
     "data": {
      "text/html": [
       "<div>\n",
       "<style scoped>\n",
       "    .dataframe tbody tr th:only-of-type {\n",
       "        vertical-align: middle;\n",
       "    }\n",
       "\n",
       "    .dataframe tbody tr th {\n",
       "        vertical-align: top;\n",
       "    }\n",
       "\n",
       "    .dataframe thead th {\n",
       "        text-align: right;\n",
       "    }\n",
       "</style>\n",
       "<table border=\"1\" class=\"dataframe\">\n",
       "  <thead>\n",
       "    <tr style=\"text-align: right;\">\n",
       "      <th></th>\n",
       "      <th>300.0</th>\n",
       "      <th>250.0</th>\n",
       "      <th>400.0</th>\n",
       "      <th>350.0</th>\n",
       "      <th>450.0</th>\n",
       "      <th>200.0</th>\n",
       "      <th>150.0</th>\n",
       "      <th>50.0</th>\n",
       "      <th>100.0</th>\n",
       "    </tr>\n",
       "  </thead>\n",
       "  <tbody>\n",
       "    <tr>\n",
       "      <th>0</th>\n",
       "      <td>0.143318</td>\n",
       "      <td>0.200998</td>\n",
       "      <td>0.056468</td>\n",
       "      <td>0.079895</td>\n",
       "      <td>0.027171</td>\n",
       "      <td>0.294147</td>\n",
       "      <td>0.452842</td>\n",
       "      <td>0.845301</td>\n",
       "      <td>0.610623</td>\n",
       "    </tr>\n",
       "  </tbody>\n",
       "</table>\n",
       "</div>"
      ],
      "text/plain": [
       "      300.0     250.0     400.0     350.0     450.0     200.0     150.0  \\\n",
       "0  0.143318  0.200998  0.056468  0.079895  0.027171  0.294147  0.452842   \n",
       "\n",
       "      50.0      100.0  \n",
       "0  0.845301  0.610623  "
      ]
     },
     "execution_count": 39,
     "metadata": {},
     "output_type": "execute_result"
    }
   ],
   "source": [
    "p_guess_df[SSDs]"
   ]
  },
  {
   "cell_type": "code",
   "execution_count": 40,
   "metadata": {},
   "outputs": [
    {
     "data": {
      "text/plain": [
       "array([300., 250., 400., 350., 450., 200., 150.,  50., 100.])"
      ]
     },
     "execution_count": 40,
     "metadata": {},
     "output_type": "execute_result"
    }
   ],
   "source": [
    "SSDs"
   ]
  },
  {
   "cell_type": "code",
   "execution_count": 44,
   "metadata": {},
   "outputs": [],
   "source": [
    "with open('abcd_data/individual_mus.json') as json_file:\n",
    "    mus_dict = json.load(json_file)"
   ]
  },
  {
   "cell_type": "code",
   "execution_count": 46,
   "metadata": {},
   "outputs": [
    {
     "data": {
      "text/plain": [
       "{'go': 0.17104173418314078, 'stop': 0.4484304932735426}"
      ]
     },
     "execution_count": 46,
     "metadata": {},
     "output_type": "execute_result"
    }
   ],
   "source": [
    "mus_dict['003RTV85']"
   ]
  },
  {
   "cell_type": "code",
   "execution_count": 49,
   "metadata": {},
   "outputs": [],
   "source": [
    "sim_data = pd.read_csv('simulated_data/guesses.csv', index_col=0)"
   ]
  },
  {
   "cell_type": "code",
   "execution_count": 66,
   "metadata": {},
   "outputs": [],
   "source": [
    "go_rt_idx = sim_data[sim_data.goRT.notnull()].index\n",
    "stop_rt_idx = sim_data[sim_data.stopRT.notnull()].index\n",
    "\n",
    "assert np.allclose(go_rt_idx.difference(stop_rt_idx), go_rt_idx)\n",
    "assert np.allclose(stop_rt_idx.difference(go_rt_idx), stop_rt_idx)"
   ]
  },
  {
   "cell_type": "code",
   "execution_count": 67,
   "metadata": {},
   "outputs": [
    {
     "data": {
      "text/plain": [
       "Int64Index([     2,      4,      6,      7,     15,     18,     24,     25,\n",
       "                34,     35,\n",
       "            ...\n",
       "            399990, 399991, 399992, 399993, 399994, 399995, 399996, 399997,\n",
       "            399998, 399999],\n",
       "           dtype='int64', length=318938)"
      ]
     },
     "execution_count": 67,
     "metadata": {},
     "output_type": "execute_result"
    }
   ],
   "source": [
    "stop_rt_idx.union(go_rt_idx)"
   ]
  },
  {
   "cell_type": "code",
   "execution_count": 68,
   "metadata": {},
   "outputs": [
    {
     "data": {
      "text/plain": [
       "Int64Index([380000, 380001, 380002, 380003, 380004, 380005, 380006, 380007,\n",
       "            380008, 380009,\n",
       "            ...\n",
       "            399990, 399991, 399992, 399993, 399994, 399995, 399996, 399997,\n",
       "            399998, 399999],\n",
       "           dtype='int64', length=20000)"
      ]
     },
     "execution_count": 68,
     "metadata": {},
     "output_type": "execute_result"
    }
   ],
   "source": [
    "go_rt_idx"
   ]
  },
  {
   "cell_type": "code",
   "execution_count": 69,
   "metadata": {},
   "outputs": [
    {
     "data": {
      "text/plain": [
       "Int64Index([     2,      4,      6,      7,     15,     18,     24,     25,\n",
       "                34,     35,\n",
       "            ...\n",
       "            379990, 379991, 379992, 379993, 379994, 379995, 379996, 379997,\n",
       "            379998, 379999],\n",
       "           dtype='int64', length=298938)"
      ]
     },
     "execution_count": 69,
     "metadata": {},
     "output_type": "execute_result"
    }
   ],
   "source": [
    "stop_rt_idx"
   ]
  },
  {
   "cell_type": "code",
   "execution_count": 71,
   "metadata": {},
   "outputs": [
    {
     "data": {
      "text/plain": [
       "318938"
      ]
     },
     "execution_count": 71,
     "metadata": {},
     "output_type": "execute_result"
    }
   ],
   "source": [
    "298938 + 20000"
   ]
  },
  {
   "cell_type": "code",
   "execution_count": null,
   "metadata": {},
   "outputs": [],
   "source": []
  }
 ],
 "metadata": {
  "kernelspec": {
   "display_name": "Python 3",
   "language": "python",
   "name": "python3"
  },
  "language_info": {
   "codemirror_mode": {
    "name": "ipython",
    "version": 3
   },
   "file_extension": ".py",
   "mimetype": "text/x-python",
   "name": "python",
   "nbconvert_exporter": "python",
   "pygments_lexer": "ipython3",
   "version": "3.7.3"
  }
 },
 "nbformat": 4,
 "nbformat_minor": 4
}
