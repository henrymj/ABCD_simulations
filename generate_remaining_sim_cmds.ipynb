{
 "cells": [
  {
   "cell_type": "code",
   "execution_count": 22,
   "metadata": {},
   "outputs": [],
   "source": [
    "import pandas as pd\n",
    "import numpy as np\n",
    "from glob import glob"
   ]
  },
  {
   "cell_type": "markdown",
   "metadata": {},
   "source": [
    "## get all subs"
   ]
  },
  {
   "cell_type": "code",
   "execution_count": 16,
   "metadata": {},
   "outputs": [],
   "source": [
    "abcd_data = pd.read_csv('abcd_data/minimal_abcd_clean.csv')\n",
    "\n",
    "all_subs = abcd_data.NARGUID.unique()"
   ]
  },
  {
   "cell_type": "markdown",
   "metadata": {},
   "source": [
    "## get finished subs"
   ]
  },
  {
   "cell_type": "code",
   "execution_count": 14,
   "metadata": {},
   "outputs": [],
   "source": [
    "def strip_paths_to_subs(filelist, key):\n",
    "    return [f.split(key+'_')[-1].replace('.csv', '') for f in filelist]\n",
    "\n",
    "finished_sub_dict = {}\n",
    "for sim_key in ['standard', 'guesses', 'graded_mu_go_log']:\n",
    "    finished_sub_dict[sim_key] = set(strip_paths_to_subs(glob('simulated_data/individual_data/%s_*.csv' % sim_key), sim_key))"
   ]
  },
  {
   "cell_type": "code",
   "execution_count": 32,
   "metadata": {},
   "outputs": [],
   "source": [
    "finished_subs = finished_sub_dict['standard'].intersection(finished_sub_dict['guesses'], finished_sub_dict['guesses'])"
   ]
  },
  {
   "cell_type": "markdown",
   "metadata": {},
   "source": [
    "## get remainder and write script sh file"
   ]
  },
  {
   "cell_type": "code",
   "execution_count": 50,
   "metadata": {},
   "outputs": [],
   "source": [
    "from tempfile import mkstemp\n",
    "from shutil import move, copymode\n",
    "from os import fdopen, remove\n",
    "\n",
    "def replace(file_path, pattern, subst):\n",
    "    #Create temp file\n",
    "    fh, abs_path = mkstemp()\n",
    "    with fdopen(fh,'w') as new_file:\n",
    "        with open(file_path) as old_file:\n",
    "            for line in old_file:\n",
    "                if pattern in line:\n",
    "                    new_file.write(subst)\n",
    "                else:\n",
    "                    new_file.write(line)\n",
    "    #Copy the file permissions from the old file to the new file\n",
    "    copymode(file_path, abs_path)\n",
    "    #Remove original file\n",
    "    remove(file_path)\n",
    "    #Move new file\n",
    "    move(abs_path, file_path)"
   ]
  },
  {
   "cell_type": "code",
   "execution_count": 51,
   "metadata": {},
   "outputs": [],
   "source": [
    "remaining_subs = set(all_subs).difference(finished_subs)\n",
    "assert len(remaining_subs)==(len(all_subs) - len(finished_subs))\n",
    "\n",
    "remaining_subs = np.array(list(remaining_subs))"
   ]
  },
  {
   "cell_type": "code",
   "execution_count": 52,
   "metadata": {},
   "outputs": [],
   "source": [
    "nsubs_per_job = 48\n",
    "nlines= 0\n",
    "with open('run_remaining_sims.sh', 'w') as f:\n",
    "    for start_idx in range(0, len(remaining_subs), nsubs_per_job):\n",
    "        end_idx = start_idx + nsubs_per_job\n",
    "        if end_idx > len(remaining_subs):\n",
    "            end_idx = len(remaining_subs)\n",
    "        substr = ' '.join(remaining_subs[start_idx:end_idx])\n",
    "        f.write(f'python simulate_individuals.py --subjects {substr}\\n')\n",
    "        nlines+=1\n",
    "        \n",
    "replace('launch_remaining_sim_cmds.slurm', '#SBATCH -N', '#SBATCH -N %d # number of nodes requested - set to ceil(n rows in command script / 48)\\n' % int(np.ceil(nlines/nsubs_per_job)))\n",
    "replace('launch_remaining_sim_cmds.slurm', '#SBATCH -n', '#SBATCH -n %s # total number of mpi tasks requested - set to n rows in command script\\n' % nlines)"
   ]
  },
  {
   "cell_type": "code",
   "execution_count": 33,
   "metadata": {},
   "outputs": [],
   "source": []
  },
  {
   "cell_type": "code",
   "execution_count": 35,
   "metadata": {},
   "outputs": [],
   "source": []
  },
  {
   "cell_type": "code",
   "execution_count": null,
   "metadata": {},
   "outputs": [],
   "source": []
  }
 ],
 "metadata": {
  "kernelspec": {
   "display_name": "Python 3",
   "language": "python",
   "name": "python3"
  },
  "language_info": {
   "codemirror_mode": {
    "name": "ipython",
    "version": 3
   },
   "file_extension": ".py",
   "mimetype": "text/x-python",
   "name": "python",
   "nbconvert_exporter": "python",
   "pygments_lexer": "ipython3",
   "version": "3.7.3"
  }
 },
 "nbformat": 4,
 "nbformat_minor": 4
}
